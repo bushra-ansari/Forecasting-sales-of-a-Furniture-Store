{
 "cells": [
  {
   "cell_type": "markdown",
   "metadata": {},
   "source": [
    "<font color = red><font size = 5>Importing Libraries</font>"
   ]
  },
  {
   "cell_type": "code",
   "execution_count": 1,
   "metadata": {
    "colab": {},
    "colab_type": "code",
    "id": "veyjEU9f2fFl"
   },
   "outputs": [],
   "source": [
    "import warnings\n",
    "import itertools\n",
    "import numpy as np\n",
    "import matplotlib.pyplot as plt\n",
    "warnings.filterwarnings(\"ignore\")\n",
    "plt.style.use('fivethirtyeight')\n",
    "import pandas as pd\n",
    "import statsmodels.api as sm\n",
    "import matplotlib\n",
    "matplotlib.rcParams['axes.labelsize'] = 14\n",
    "matplotlib.rcParams['xtick.labelsize'] = 12\n",
    "matplotlib.rcParams['ytick.labelsize'] = 12\n",
    "matplotlib.rcParams['text.color'] = 'k'\n",
    "import sys\n",
    "import types\n",
    "import os"
   ]
  },
  {
   "cell_type": "markdown",
   "metadata": {},
   "source": [
    "<font color = red><font size = 4> Loading Dataset </font>"
   ]
  },
  {
   "cell_type": "code",
   "execution_count": 2,
   "metadata": {
    "colab": {},
    "colab_type": "code",
    "id": "ubnEmstc2fF1",
    "outputId": "0999c414-0a51-4e7d-c7f7-6533dd19c80e"
   },
   "outputs": [
    {
     "data": {
      "text/html": [
       "<div>\n",
       "<style scoped>\n",
       "    .dataframe tbody tr th:only-of-type {\n",
       "        vertical-align: middle;\n",
       "    }\n",
       "\n",
       "    .dataframe tbody tr th {\n",
       "        vertical-align: top;\n",
       "    }\n",
       "\n",
       "    .dataframe thead th {\n",
       "        text-align: right;\n",
       "    }\n",
       "</style>\n",
       "<table border=\"1\" class=\"dataframe\">\n",
       "  <thead>\n",
       "    <tr style=\"text-align: right;\">\n",
       "      <th></th>\n",
       "      <th>Row ID</th>\n",
       "      <th>Order ID</th>\n",
       "      <th>Order Date</th>\n",
       "      <th>Ship Date</th>\n",
       "      <th>Ship Mode</th>\n",
       "      <th>Customer ID</th>\n",
       "      <th>Customer Name</th>\n",
       "      <th>Segment</th>\n",
       "      <th>Country</th>\n",
       "      <th>City</th>\n",
       "      <th>...</th>\n",
       "      <th>Postal Code</th>\n",
       "      <th>Region</th>\n",
       "      <th>Product ID</th>\n",
       "      <th>Category</th>\n",
       "      <th>Sub-Category</th>\n",
       "      <th>Product Name</th>\n",
       "      <th>Sales</th>\n",
       "      <th>Quantity</th>\n",
       "      <th>Discount</th>\n",
       "      <th>Profit</th>\n",
       "    </tr>\n",
       "  </thead>\n",
       "  <tbody>\n",
       "    <tr>\n",
       "      <th>0</th>\n",
       "      <td>1</td>\n",
       "      <td>CA-2016-152156</td>\n",
       "      <td>11/8/2016</td>\n",
       "      <td>11/11/2016</td>\n",
       "      <td>Second Class</td>\n",
       "      <td>CG-12520</td>\n",
       "      <td>Claire Gute</td>\n",
       "      <td>Consumer</td>\n",
       "      <td>United States</td>\n",
       "      <td>Henderson</td>\n",
       "      <td>...</td>\n",
       "      <td>42420</td>\n",
       "      <td>South</td>\n",
       "      <td>FUR-BO-10001798</td>\n",
       "      <td>Furniture</td>\n",
       "      <td>Bookcases</td>\n",
       "      <td>Bush Somerset Collection Bookcase</td>\n",
       "      <td>261.9600</td>\n",
       "      <td>2</td>\n",
       "      <td>0.00</td>\n",
       "      <td>41.9136</td>\n",
       "    </tr>\n",
       "    <tr>\n",
       "      <th>1</th>\n",
       "      <td>2</td>\n",
       "      <td>CA-2016-152156</td>\n",
       "      <td>11/8/2016</td>\n",
       "      <td>11/11/2016</td>\n",
       "      <td>Second Class</td>\n",
       "      <td>CG-12520</td>\n",
       "      <td>Claire Gute</td>\n",
       "      <td>Consumer</td>\n",
       "      <td>United States</td>\n",
       "      <td>Henderson</td>\n",
       "      <td>...</td>\n",
       "      <td>42420</td>\n",
       "      <td>South</td>\n",
       "      <td>FUR-CH-10000454</td>\n",
       "      <td>Furniture</td>\n",
       "      <td>Chairs</td>\n",
       "      <td>Hon Deluxe Fabric Upholstered Stacking Chairs,...</td>\n",
       "      <td>731.9400</td>\n",
       "      <td>3</td>\n",
       "      <td>0.00</td>\n",
       "      <td>219.5820</td>\n",
       "    </tr>\n",
       "    <tr>\n",
       "      <th>2</th>\n",
       "      <td>4</td>\n",
       "      <td>US-2015-108966</td>\n",
       "      <td>10/11/2015</td>\n",
       "      <td>10/18/2015</td>\n",
       "      <td>Standard Class</td>\n",
       "      <td>SO-20335</td>\n",
       "      <td>Sean O'Donnell</td>\n",
       "      <td>Consumer</td>\n",
       "      <td>United States</td>\n",
       "      <td>Fort Lauderdale</td>\n",
       "      <td>...</td>\n",
       "      <td>33311</td>\n",
       "      <td>South</td>\n",
       "      <td>FUR-TA-10000577</td>\n",
       "      <td>Furniture</td>\n",
       "      <td>Tables</td>\n",
       "      <td>Bretford CR4500 Series Slim Rectangular Table</td>\n",
       "      <td>957.5775</td>\n",
       "      <td>5</td>\n",
       "      <td>0.45</td>\n",
       "      <td>-383.0310</td>\n",
       "    </tr>\n",
       "    <tr>\n",
       "      <th>3</th>\n",
       "      <td>6</td>\n",
       "      <td>CA-2014-115812</td>\n",
       "      <td>6/9/2014</td>\n",
       "      <td>6/14/2014</td>\n",
       "      <td>Standard Class</td>\n",
       "      <td>BH-11710</td>\n",
       "      <td>Brosina Hoffman</td>\n",
       "      <td>Consumer</td>\n",
       "      <td>United States</td>\n",
       "      <td>Los Angeles</td>\n",
       "      <td>...</td>\n",
       "      <td>90032</td>\n",
       "      <td>West</td>\n",
       "      <td>FUR-FU-10001487</td>\n",
       "      <td>Furniture</td>\n",
       "      <td>Furnishings</td>\n",
       "      <td>Eldon Expressions Wood and Plastic Desk Access...</td>\n",
       "      <td>48.8600</td>\n",
       "      <td>7</td>\n",
       "      <td>0.00</td>\n",
       "      <td>14.1694</td>\n",
       "    </tr>\n",
       "    <tr>\n",
       "      <th>4</th>\n",
       "      <td>11</td>\n",
       "      <td>CA-2014-115812</td>\n",
       "      <td>6/9/2014</td>\n",
       "      <td>6/14/2014</td>\n",
       "      <td>Standard Class</td>\n",
       "      <td>BH-11710</td>\n",
       "      <td>Brosina Hoffman</td>\n",
       "      <td>Consumer</td>\n",
       "      <td>United States</td>\n",
       "      <td>Los Angeles</td>\n",
       "      <td>...</td>\n",
       "      <td>90032</td>\n",
       "      <td>West</td>\n",
       "      <td>FUR-TA-10001539</td>\n",
       "      <td>Furniture</td>\n",
       "      <td>Tables</td>\n",
       "      <td>Chromcraft Rectangular Conference Tables</td>\n",
       "      <td>1706.1840</td>\n",
       "      <td>9</td>\n",
       "      <td>0.20</td>\n",
       "      <td>85.3092</td>\n",
       "    </tr>\n",
       "  </tbody>\n",
       "</table>\n",
       "<p>5 rows × 21 columns</p>\n",
       "</div>"
      ],
      "text/plain": [
       "   Row ID        Order ID  Order Date   Ship Date       Ship Mode Customer ID  \\\n",
       "0       1  CA-2016-152156   11/8/2016  11/11/2016    Second Class    CG-12520   \n",
       "1       2  CA-2016-152156   11/8/2016  11/11/2016    Second Class    CG-12520   \n",
       "2       4  US-2015-108966  10/11/2015  10/18/2015  Standard Class    SO-20335   \n",
       "3       6  CA-2014-115812    6/9/2014   6/14/2014  Standard Class    BH-11710   \n",
       "4      11  CA-2014-115812    6/9/2014   6/14/2014  Standard Class    BH-11710   \n",
       "\n",
       "     Customer Name   Segment        Country             City  ... Postal Code  \\\n",
       "0      Claire Gute  Consumer  United States        Henderson  ...       42420   \n",
       "1      Claire Gute  Consumer  United States        Henderson  ...       42420   \n",
       "2   Sean O'Donnell  Consumer  United States  Fort Lauderdale  ...       33311   \n",
       "3  Brosina Hoffman  Consumer  United States      Los Angeles  ...       90032   \n",
       "4  Brosina Hoffman  Consumer  United States      Los Angeles  ...       90032   \n",
       "\n",
       "   Region       Product ID   Category Sub-Category  \\\n",
       "0   South  FUR-BO-10001798  Furniture    Bookcases   \n",
       "1   South  FUR-CH-10000454  Furniture       Chairs   \n",
       "2   South  FUR-TA-10000577  Furniture       Tables   \n",
       "3    West  FUR-FU-10001487  Furniture  Furnishings   \n",
       "4    West  FUR-TA-10001539  Furniture       Tables   \n",
       "\n",
       "                                        Product Name      Sales  Quantity  \\\n",
       "0                  Bush Somerset Collection Bookcase   261.9600         2   \n",
       "1  Hon Deluxe Fabric Upholstered Stacking Chairs,...   731.9400         3   \n",
       "2      Bretford CR4500 Series Slim Rectangular Table   957.5775         5   \n",
       "3  Eldon Expressions Wood and Plastic Desk Access...    48.8600         7   \n",
       "4           Chromcraft Rectangular Conference Tables  1706.1840         9   \n",
       "\n",
       "   Discount    Profit  \n",
       "0      0.00   41.9136  \n",
       "1      0.00  219.5820  \n",
       "2      0.45 -383.0310  \n",
       "3      0.00   14.1694  \n",
       "4      0.20   85.3092  \n",
       "\n",
       "[5 rows x 21 columns]"
      ]
     },
     "execution_count": 2,
     "metadata": {},
     "output_type": "execute_result"
    }
   ],
   "source": [
    "os.chdir(r\"C:\\Users\\Bushra Ansari\\Desktop\\LMS DATASET\\Time Series\")\n",
    "\n",
    "furniture = pd.read_csv(\"Super_Store.csv\", encoding='cp1252')\n",
    "furniture.head()"
   ]
  },
  {
   "cell_type": "code",
   "execution_count": 3,
   "metadata": {
    "colab": {},
    "colab_type": "code",
    "id": "D8EcGqsL2fGI",
    "outputId": "9629c76c-bc15-42d6-cbae-ba0632e98865"
   },
   "outputs": [
    {
     "data": {
      "text/plain": [
       "(2121, 21)"
      ]
     },
     "execution_count": 3,
     "metadata": {},
     "output_type": "execute_result"
    }
   ],
   "source": [
    "# Checking structure of the data\n",
    "furniture.shape"
   ]
  },
  {
   "cell_type": "code",
   "execution_count": 4,
   "metadata": {},
   "outputs": [
    {
     "data": {
      "text/plain": [
       "Index(['Row ID', 'Order ID', 'Order Date', 'Ship Date', 'Ship Mode',\n",
       "       'Customer ID', 'Customer Name', 'Segment', 'Country', 'City', 'State',\n",
       "       'Postal Code', 'Region', 'Product ID', 'Category', 'Sub-Category',\n",
       "       'Product Name', 'Sales', 'Quantity', 'Discount', 'Profit'],\n",
       "      dtype='object')"
      ]
     },
     "execution_count": 4,
     "metadata": {},
     "output_type": "execute_result"
    }
   ],
   "source": [
    "furniture.columns"
   ]
  },
  {
   "cell_type": "markdown",
   "metadata": {},
   "source": [
    "<font color = red><font size = 4> Statistical Summary</font>"
   ]
  },
  {
   "cell_type": "code",
   "execution_count": 7,
   "metadata": {
    "colab": {},
    "colab_type": "code",
    "id": "1Mh3z2yk2fGZ",
    "outputId": "2b2ffd4f-61a1-4834-a4ae-70c4e779d542"
   },
   "outputs": [
    {
     "data": {
      "text/html": [
       "<div>\n",
       "<style scoped>\n",
       "    .dataframe tbody tr th:only-of-type {\n",
       "        vertical-align: middle;\n",
       "    }\n",
       "\n",
       "    .dataframe tbody tr th {\n",
       "        vertical-align: top;\n",
       "    }\n",
       "\n",
       "    .dataframe thead th {\n",
       "        text-align: right;\n",
       "    }\n",
       "</style>\n",
       "<table border=\"1\" class=\"dataframe\">\n",
       "  <thead>\n",
       "    <tr style=\"text-align: right;\">\n",
       "      <th></th>\n",
       "      <th>count</th>\n",
       "      <th>mean</th>\n",
       "      <th>std</th>\n",
       "      <th>min</th>\n",
       "      <th>25%</th>\n",
       "      <th>50%</th>\n",
       "      <th>75%</th>\n",
       "      <th>max</th>\n",
       "    </tr>\n",
       "  </thead>\n",
       "  <tbody>\n",
       "    <tr>\n",
       "      <th>Row ID</th>\n",
       "      <td>2121.0</td>\n",
       "      <td>5041.643564</td>\n",
       "      <td>2885.740258</td>\n",
       "      <td>1.0000</td>\n",
       "      <td>2568.000</td>\n",
       "      <td>5145.0000</td>\n",
       "      <td>7534.0000</td>\n",
       "      <td>9991.000</td>\n",
       "    </tr>\n",
       "    <tr>\n",
       "      <th>Postal Code</th>\n",
       "      <td>2121.0</td>\n",
       "      <td>55726.556341</td>\n",
       "      <td>32261.888225</td>\n",
       "      <td>1040.0000</td>\n",
       "      <td>22801.000</td>\n",
       "      <td>60505.0000</td>\n",
       "      <td>90032.0000</td>\n",
       "      <td>99301.000</td>\n",
       "    </tr>\n",
       "    <tr>\n",
       "      <th>Sales</th>\n",
       "      <td>2121.0</td>\n",
       "      <td>349.834887</td>\n",
       "      <td>503.179145</td>\n",
       "      <td>1.8920</td>\n",
       "      <td>47.040</td>\n",
       "      <td>182.2200</td>\n",
       "      <td>435.1680</td>\n",
       "      <td>4416.174</td>\n",
       "    </tr>\n",
       "    <tr>\n",
       "      <th>Quantity</th>\n",
       "      <td>2121.0</td>\n",
       "      <td>3.785007</td>\n",
       "      <td>2.251620</td>\n",
       "      <td>1.0000</td>\n",
       "      <td>2.000</td>\n",
       "      <td>3.0000</td>\n",
       "      <td>5.0000</td>\n",
       "      <td>14.000</td>\n",
       "    </tr>\n",
       "    <tr>\n",
       "      <th>Discount</th>\n",
       "      <td>2121.0</td>\n",
       "      <td>0.173923</td>\n",
       "      <td>0.181547</td>\n",
       "      <td>0.0000</td>\n",
       "      <td>0.000</td>\n",
       "      <td>0.2000</td>\n",
       "      <td>0.3000</td>\n",
       "      <td>0.700</td>\n",
       "    </tr>\n",
       "    <tr>\n",
       "      <th>Profit</th>\n",
       "      <td>2121.0</td>\n",
       "      <td>8.699327</td>\n",
       "      <td>136.049246</td>\n",
       "      <td>-1862.3124</td>\n",
       "      <td>-12.849</td>\n",
       "      <td>7.7748</td>\n",
       "      <td>33.7266</td>\n",
       "      <td>1013.127</td>\n",
       "    </tr>\n",
       "  </tbody>\n",
       "</table>\n",
       "</div>"
      ],
      "text/plain": [
       "              count          mean           std        min        25%  \\\n",
       "Row ID       2121.0   5041.643564   2885.740258     1.0000   2568.000   \n",
       "Postal Code  2121.0  55726.556341  32261.888225  1040.0000  22801.000   \n",
       "Sales        2121.0    349.834887    503.179145     1.8920     47.040   \n",
       "Quantity     2121.0      3.785007      2.251620     1.0000      2.000   \n",
       "Discount     2121.0      0.173923      0.181547     0.0000      0.000   \n",
       "Profit       2121.0      8.699327    136.049246 -1862.3124    -12.849   \n",
       "\n",
       "                    50%         75%        max  \n",
       "Row ID        5145.0000   7534.0000   9991.000  \n",
       "Postal Code  60505.0000  90032.0000  99301.000  \n",
       "Sales          182.2200    435.1680   4416.174  \n",
       "Quantity         3.0000      5.0000     14.000  \n",
       "Discount         0.2000      0.3000      0.700  \n",
       "Profit           7.7748     33.7266   1013.127  "
      ]
     },
     "execution_count": 7,
     "metadata": {},
     "output_type": "execute_result"
    }
   ],
   "source": [
    "furniture.describe().T"
   ]
  },
  {
   "cell_type": "markdown",
   "metadata": {
    "colab_type": "text",
    "id": "_1OiJyzj2fGk"
   },
   "source": [
    "<font color = red><font size = 4> Checking Data Type and Missing Values </font>"
   ]
  },
  {
   "cell_type": "code",
   "execution_count": 6,
   "metadata": {
    "colab": {},
    "colab_type": "code",
    "id": "YVMD5j6m2fGm",
    "outputId": "cbc3e6a3-4ccc-4738-fd5f-31050b841152"
   },
   "outputs": [
    {
     "name": "stdout",
     "output_type": "stream",
     "text": [
      "<class 'pandas.core.frame.DataFrame'>\n",
      "RangeIndex: 2121 entries, 0 to 2120\n",
      "Data columns (total 21 columns):\n",
      " #   Column         Non-Null Count  Dtype  \n",
      "---  ------         --------------  -----  \n",
      " 0   Row ID         2121 non-null   int64  \n",
      " 1   Order ID       2121 non-null   object \n",
      " 2   Order Date     2121 non-null   object \n",
      " 3   Ship Date      2121 non-null   object \n",
      " 4   Ship Mode      2121 non-null   object \n",
      " 5   Customer ID    2121 non-null   object \n",
      " 6   Customer Name  2121 non-null   object \n",
      " 7   Segment        2121 non-null   object \n",
      " 8   Country        2121 non-null   object \n",
      " 9   City           2121 non-null   object \n",
      " 10  State          2121 non-null   object \n",
      " 11  Postal Code    2121 non-null   int64  \n",
      " 12  Region         2121 non-null   object \n",
      " 13  Product ID     2121 non-null   object \n",
      " 14  Category       2121 non-null   object \n",
      " 15  Sub-Category   2121 non-null   object \n",
      " 16  Product Name   2121 non-null   object \n",
      " 17  Sales          2121 non-null   float64\n",
      " 18  Quantity       2121 non-null   int64  \n",
      " 19  Discount       2121 non-null   float64\n",
      " 20  Profit         2121 non-null   float64\n",
      "dtypes: float64(3), int64(3), object(15)\n",
      "memory usage: 348.1+ KB\n"
     ]
    }
   ],
   "source": [
    "# summary of the data \n",
    "furniture.info()"
   ]
  },
  {
   "cell_type": "markdown",
   "metadata": {
    "colab_type": "text",
    "id": "pCPKMy622fGz"
   },
   "source": [
    "<font color = red><font size = 4>Checking the furniture sales time stamp</font>"
   ]
  },
  {
   "cell_type": "code",
   "execution_count": 8,
   "metadata": {
    "colab": {},
    "colab_type": "code",
    "id": "_Bl5j0952fG2",
    "outputId": "4fe48911-ff14-4b8b-f8ab-0c80324b6e9c"
   },
   "outputs": [
    {
     "data": {
      "text/plain": [
       "('1/1/2017', '9/9/2017')"
      ]
     },
     "execution_count": 8,
     "metadata": {},
     "output_type": "execute_result"
    }
   ],
   "source": [
    "furniture['Order Date'].min(), furniture['Order Date'].max()"
   ]
  },
  {
   "cell_type": "code",
   "execution_count": 9,
   "metadata": {
    "colab": {},
    "colab_type": "code",
    "id": "_0kLMdko2fHL",
    "outputId": "f7514d8a-c1e1-4c9a-d43f-48e56000df51"
   },
   "outputs": [
    {
     "data": {
      "text/plain": [
       "Order Date    0\n",
       "Sales         0\n",
       "dtype: int64"
      ]
     },
     "execution_count": 9,
     "metadata": {},
     "output_type": "execute_result"
    }
   ],
   "source": [
    "cols = ['Row ID', 'Order ID', 'Ship Date', 'Ship Mode', 'Customer ID', 'Customer Name', 'Segment', 'Country', 'City', 'State', 'Postal Code', 'Region', 'Product ID', 'Category', 'Sub-Category', 'Product Name', 'Quantity', 'Discount', 'Profit']\n",
    "furniture.drop(cols, axis=1, inplace=True)\n",
    "furniture = furniture.sort_values('Order Date')\n",
    "furniture.isnull().sum()"
   ]
  },
  {
   "cell_type": "code",
   "execution_count": 10,
   "metadata": {},
   "outputs": [
    {
     "name": "stdout",
     "output_type": "stream",
     "text": [
      "<class 'pandas.core.frame.DataFrame'>\n",
      "Int64Index: 2121 entries, 845 to 964\n",
      "Data columns (total 2 columns):\n",
      " #   Column      Non-Null Count  Dtype  \n",
      "---  ------      --------------  -----  \n",
      " 0   Order Date  2121 non-null   object \n",
      " 1   Sales       2121 non-null   float64\n",
      "dtypes: float64(1), object(1)\n",
      "memory usage: 49.7+ KB\n"
     ]
    }
   ],
   "source": [
    "furniture.info()"
   ]
  },
  {
   "cell_type": "code",
   "execution_count": 11,
   "metadata": {},
   "outputs": [
    {
     "data": {
      "text/plain": [
       "9/5/2016      10\n",
       "10/30/2017     9\n",
       "12/1/2016      9\n",
       "11/19/2017     9\n",
       "12/25/2016     9\n",
       "              ..\n",
       "6/17/2017      1\n",
       "2/3/2017       1\n",
       "6/17/2014      1\n",
       "2/4/2016       1\n",
       "10/23/2016     1\n",
       "Name: Order Date, Length: 889, dtype: int64"
      ]
     },
     "execution_count": 11,
     "metadata": {},
     "output_type": "execute_result"
    }
   ],
   "source": [
    "furniture[\"Order Date\"].value_counts()"
   ]
  },
  {
   "cell_type": "code",
   "execution_count": 12,
   "metadata": {},
   "outputs": [
    {
     "data": {
      "text/html": [
       "<div>\n",
       "<style scoped>\n",
       "    .dataframe tbody tr th:only-of-type {\n",
       "        vertical-align: middle;\n",
       "    }\n",
       "\n",
       "    .dataframe tbody tr th {\n",
       "        vertical-align: top;\n",
       "    }\n",
       "\n",
       "    .dataframe thead th {\n",
       "        text-align: right;\n",
       "    }\n",
       "</style>\n",
       "<table border=\"1\" class=\"dataframe\">\n",
       "  <thead>\n",
       "    <tr style=\"text-align: right;\">\n",
       "      <th></th>\n",
       "      <th>Order Date</th>\n",
       "      <th>Sales</th>\n",
       "    </tr>\n",
       "  </thead>\n",
       "  <tbody>\n",
       "    <tr>\n",
       "      <th>845</th>\n",
       "      <td>1/1/2017</td>\n",
       "      <td>474.430</td>\n",
       "    </tr>\n",
       "    <tr>\n",
       "      <th>1707</th>\n",
       "      <td>1/1/2017</td>\n",
       "      <td>141.420</td>\n",
       "    </tr>\n",
       "    <tr>\n",
       "      <th>1708</th>\n",
       "      <td>1/1/2017</td>\n",
       "      <td>310.744</td>\n",
       "    </tr>\n",
       "    <tr>\n",
       "      <th>179</th>\n",
       "      <td>1/1/2017</td>\n",
       "      <td>48.896</td>\n",
       "    </tr>\n",
       "    <tr>\n",
       "      <th>181</th>\n",
       "      <td>1/10/2014</td>\n",
       "      <td>51.940</td>\n",
       "    </tr>\n",
       "  </tbody>\n",
       "</table>\n",
       "</div>"
      ],
      "text/plain": [
       "     Order Date    Sales\n",
       "845    1/1/2017  474.430\n",
       "1707   1/1/2017  141.420\n",
       "1708   1/1/2017  310.744\n",
       "179    1/1/2017   48.896\n",
       "181   1/10/2014   51.940"
      ]
     },
     "execution_count": 12,
     "metadata": {},
     "output_type": "execute_result"
    }
   ],
   "source": [
    "furniture.head()"
   ]
  },
  {
   "cell_type": "markdown",
   "metadata": {
    "colab_type": "text",
    "id": "NfhSVd2m2fHW"
   },
   "source": [
    "<font color = red><font size = 3>Aggregate sales data by date</font>"
   ]
  },
  {
   "cell_type": "code",
   "execution_count": 13,
   "metadata": {
    "colab": {},
    "colab_type": "code",
    "id": "Z7vL8r302fHY"
   },
   "outputs": [
    {
     "data": {
      "text/html": [
       "<div>\n",
       "<style scoped>\n",
       "    .dataframe tbody tr th:only-of-type {\n",
       "        vertical-align: middle;\n",
       "    }\n",
       "\n",
       "    .dataframe tbody tr th {\n",
       "        vertical-align: top;\n",
       "    }\n",
       "\n",
       "    .dataframe thead th {\n",
       "        text-align: right;\n",
       "    }\n",
       "</style>\n",
       "<table border=\"1\" class=\"dataframe\">\n",
       "  <thead>\n",
       "    <tr style=\"text-align: right;\">\n",
       "      <th></th>\n",
       "      <th>Order Date</th>\n",
       "      <th>Sales</th>\n",
       "    </tr>\n",
       "  </thead>\n",
       "  <tbody>\n",
       "    <tr>\n",
       "      <th>0</th>\n",
       "      <td>1/1/2017</td>\n",
       "      <td>975.4900</td>\n",
       "    </tr>\n",
       "    <tr>\n",
       "      <th>1</th>\n",
       "      <td>1/10/2014</td>\n",
       "      <td>51.9400</td>\n",
       "    </tr>\n",
       "    <tr>\n",
       "      <th>2</th>\n",
       "      <td>1/10/2015</td>\n",
       "      <td>1018.1040</td>\n",
       "    </tr>\n",
       "    <tr>\n",
       "      <th>3</th>\n",
       "      <td>1/10/2016</td>\n",
       "      <td>104.7700</td>\n",
       "    </tr>\n",
       "    <tr>\n",
       "      <th>4</th>\n",
       "      <td>1/11/2014</td>\n",
       "      <td>9.9400</td>\n",
       "    </tr>\n",
       "    <tr>\n",
       "      <th>...</th>\n",
       "      <td>...</td>\n",
       "      <td>...</td>\n",
       "    </tr>\n",
       "    <tr>\n",
       "      <th>884</th>\n",
       "      <td>9/8/2016</td>\n",
       "      <td>3374.9816</td>\n",
       "    </tr>\n",
       "    <tr>\n",
       "      <th>885</th>\n",
       "      <td>9/8/2017</td>\n",
       "      <td>1000.2390</td>\n",
       "    </tr>\n",
       "    <tr>\n",
       "      <th>886</th>\n",
       "      <td>9/9/2014</td>\n",
       "      <td>864.0240</td>\n",
       "    </tr>\n",
       "    <tr>\n",
       "      <th>887</th>\n",
       "      <td>9/9/2016</td>\n",
       "      <td>15.0080</td>\n",
       "    </tr>\n",
       "    <tr>\n",
       "      <th>888</th>\n",
       "      <td>9/9/2017</td>\n",
       "      <td>482.5640</td>\n",
       "    </tr>\n",
       "  </tbody>\n",
       "</table>\n",
       "<p>889 rows × 2 columns</p>\n",
       "</div>"
      ],
      "text/plain": [
       "    Order Date      Sales\n",
       "0     1/1/2017   975.4900\n",
       "1    1/10/2014    51.9400\n",
       "2    1/10/2015  1018.1040\n",
       "3    1/10/2016   104.7700\n",
       "4    1/11/2014     9.9400\n",
       "..         ...        ...\n",
       "884   9/8/2016  3374.9816\n",
       "885   9/8/2017  1000.2390\n",
       "886   9/9/2014   864.0240\n",
       "887   9/9/2016    15.0080\n",
       "888   9/9/2017   482.5640\n",
       "\n",
       "[889 rows x 2 columns]"
      ]
     },
     "execution_count": 13,
     "metadata": {},
     "output_type": "execute_result"
    }
   ],
   "source": [
    "furniture = furniture.groupby('Order Date')['Sales'].sum().reset_index()\n",
    "furniture"
   ]
  },
  {
   "cell_type": "markdown",
   "metadata": {
    "colab_type": "text",
    "id": "4f21lcOV2fHh"
   },
   "source": [
    "Indexing with the Time Series Data"
   ]
  },
  {
   "cell_type": "code",
   "execution_count": 14,
   "metadata": {},
   "outputs": [
    {
     "data": {
      "text/plain": [
       "1/1/2017      1\n",
       "6/16/2014     1\n",
       "6/11/2017     1\n",
       "6/12/2015     1\n",
       "6/12/2016     1\n",
       "             ..\n",
       "12/28/2017    1\n",
       "12/29/2014    1\n",
       "12/29/2016    1\n",
       "12/29/2017    1\n",
       "9/9/2017      1\n",
       "Name: Order Date, Length: 889, dtype: int64"
      ]
     },
     "execution_count": 14,
     "metadata": {},
     "output_type": "execute_result"
    }
   ],
   "source": [
    "furniture[\"Order Date\"].value_counts()"
   ]
  },
  {
   "cell_type": "code",
   "execution_count": 15,
   "metadata": {
    "colab": {},
    "colab_type": "code",
    "id": "31YVsYb_2fHj",
    "outputId": "95e35416-6448-48ba-eabc-4181d9875b0a"
   },
   "outputs": [],
   "source": [
    "furniture['Order Date'] = pd.to_datetime(furniture['Order Date'])\n",
    "furniture.sort_values(by=\"Order Date\", inplace=True)"
   ]
  },
  {
   "cell_type": "code",
   "execution_count": 16,
   "metadata": {},
   "outputs": [
    {
     "data": {
      "text/plain": [
       "Timestamp('2014-01-06 00:00:00')"
      ]
     },
     "execution_count": 16,
     "metadata": {},
     "output_type": "execute_result"
    }
   ],
   "source": [
    "furniture[\"Order Date\"].min() "
   ]
  },
  {
   "cell_type": "code",
   "execution_count": 17,
   "metadata": {},
   "outputs": [
    {
     "data": {
      "text/plain": [
       "Timestamp('2017-12-30 00:00:00')"
      ]
     },
     "execution_count": 17,
     "metadata": {},
     "output_type": "execute_result"
    }
   ],
   "source": [
    "furniture[\"Order Date\"].max()"
   ]
  },
  {
   "cell_type": "code",
   "execution_count": 18,
   "metadata": {},
   "outputs": [
    {
     "data": {
      "text/html": [
       "<div>\n",
       "<style scoped>\n",
       "    .dataframe tbody tr th:only-of-type {\n",
       "        vertical-align: middle;\n",
       "    }\n",
       "\n",
       "    .dataframe tbody tr th {\n",
       "        vertical-align: top;\n",
       "    }\n",
       "\n",
       "    .dataframe thead th {\n",
       "        text-align: right;\n",
       "    }\n",
       "</style>\n",
       "<table border=\"1\" class=\"dataframe\">\n",
       "  <thead>\n",
       "    <tr style=\"text-align: right;\">\n",
       "      <th></th>\n",
       "      <th>Order Date</th>\n",
       "      <th>Sales</th>\n",
       "    </tr>\n",
       "  </thead>\n",
       "  <tbody>\n",
       "    <tr>\n",
       "      <th>49</th>\n",
       "      <td>2014-01-06</td>\n",
       "      <td>2573.8200</td>\n",
       "    </tr>\n",
       "    <tr>\n",
       "      <th>50</th>\n",
       "      <td>2014-01-07</td>\n",
       "      <td>76.7280</td>\n",
       "    </tr>\n",
       "    <tr>\n",
       "      <th>1</th>\n",
       "      <td>2014-01-10</td>\n",
       "      <td>51.9400</td>\n",
       "    </tr>\n",
       "    <tr>\n",
       "      <th>4</th>\n",
       "      <td>2014-01-11</td>\n",
       "      <td>9.9400</td>\n",
       "    </tr>\n",
       "    <tr>\n",
       "      <th>7</th>\n",
       "      <td>2014-01-13</td>\n",
       "      <td>879.9390</td>\n",
       "    </tr>\n",
       "    <tr>\n",
       "      <th>...</th>\n",
       "      <td>...</td>\n",
       "      <td>...</td>\n",
       "    </tr>\n",
       "    <tr>\n",
       "      <th>290</th>\n",
       "      <td>2017-12-24</td>\n",
       "      <td>1393.4940</td>\n",
       "    </tr>\n",
       "    <tr>\n",
       "      <th>293</th>\n",
       "      <td>2017-12-25</td>\n",
       "      <td>832.4540</td>\n",
       "    </tr>\n",
       "    <tr>\n",
       "      <th>300</th>\n",
       "      <td>2017-12-28</td>\n",
       "      <td>551.2568</td>\n",
       "    </tr>\n",
       "    <tr>\n",
       "      <th>303</th>\n",
       "      <td>2017-12-29</td>\n",
       "      <td>2330.7180</td>\n",
       "    </tr>\n",
       "    <tr>\n",
       "      <th>309</th>\n",
       "      <td>2017-12-30</td>\n",
       "      <td>323.1360</td>\n",
       "    </tr>\n",
       "  </tbody>\n",
       "</table>\n",
       "<p>889 rows × 2 columns</p>\n",
       "</div>"
      ],
      "text/plain": [
       "    Order Date      Sales\n",
       "49  2014-01-06  2573.8200\n",
       "50  2014-01-07    76.7280\n",
       "1   2014-01-10    51.9400\n",
       "4   2014-01-11     9.9400\n",
       "7   2014-01-13   879.9390\n",
       "..         ...        ...\n",
       "290 2017-12-24  1393.4940\n",
       "293 2017-12-25   832.4540\n",
       "300 2017-12-28   551.2568\n",
       "303 2017-12-29  2330.7180\n",
       "309 2017-12-30   323.1360\n",
       "\n",
       "[889 rows x 2 columns]"
      ]
     },
     "execution_count": 18,
     "metadata": {},
     "output_type": "execute_result"
    }
   ],
   "source": [
    "furniture"
   ]
  },
  {
   "cell_type": "code",
   "execution_count": 19,
   "metadata": {},
   "outputs": [
    {
     "data": {
      "text/plain": [
       "DatetimeIndex(['2014-01-06', '2014-01-07', '2014-01-10', '2014-01-11',\n",
       "               '2014-01-13', '2014-01-14', '2014-01-16', '2014-01-19',\n",
       "               '2014-01-20', '2014-01-21',\n",
       "               ...\n",
       "               '2017-12-18', '2017-12-19', '2017-12-21', '2017-12-22',\n",
       "               '2017-12-23', '2017-12-24', '2017-12-25', '2017-12-28',\n",
       "               '2017-12-29', '2017-12-30'],\n",
       "              dtype='datetime64[ns]', name='Order Date', length=889, freq=None)"
      ]
     },
     "execution_count": 19,
     "metadata": {},
     "output_type": "execute_result"
    }
   ],
   "source": [
    "furniture.set_index('Order Date', inplace=True)\n",
    "furniture.index"
   ]
  },
  {
   "cell_type": "markdown",
   "metadata": {
    "colab_type": "text",
    "id": "IDXwPd0u2fHt"
   },
   "source": [
    "Resampling the datetime data. Here we use the start of each month as the timestamp and take the average daily sales value for a particular month since working with the current datetime data becomes tricky"
   ]
  },
  {
   "cell_type": "code",
   "execution_count": 20,
   "metadata": {},
   "outputs": [],
   "source": [
    "furniture.to_csv(\"df.csv\")"
   ]
  },
  {
   "cell_type": "code",
   "execution_count": 22,
   "metadata": {},
   "outputs": [
    {
     "data": {
      "text/plain": [
       "<AxesSubplot:xlabel='Order Date'>"
      ]
     },
     "execution_count": 22,
     "metadata": {},
     "output_type": "execute_result"
    },
    {
     "data": {
      "image/png": "[encoded data removed]",
      "text/plain": [
       "<Figure size 432x288 with 1 Axes>"
      ]
     },
     "metadata": {},
     "output_type": "display_data"
    }
   ],
   "source": [
    "furniture.plot()"
   ]
  },
  {
   "cell_type": "code",
   "execution_count": 23,
   "metadata": {
    "colab": {},
    "colab_type": "code",
    "id": "ShhlI-CQ2fH4"
   },
   "outputs": [],
   "source": [
    "y = furniture['Sales'].resample('MS').mean() "
   ]
  },
  {
   "cell_type": "code",
   "execution_count": 24,
   "metadata": {},
   "outputs": [
    {
     "data": {
      "text/plain": [
       "Order Date\n",
       "2014-01-01     480.194231\n",
       "2014-02-01     367.931600\n",
       "2014-03-01     857.291529\n",
       "2014-04-01     567.488357\n",
       "2014-05-01     432.049188\n",
       "2014-06-01     695.059242\n",
       "2014-07-01     601.169500\n",
       "2014-08-01     457.521656\n",
       "2014-09-01     992.353367\n",
       "2014-10-01     769.015437\n",
       "2014-11-01     980.221486\n",
       "2014-12-01    1532.298325\n",
       "2015-01-01     978.328467\n",
       "2015-02-01     522.395667\n",
       "2015-03-01     781.236437\n",
       "2015-04-01     805.822962\n",
       "2015-05-01     624.996700\n",
       "2015-06-01     428.565500\n",
       "2015-07-01     719.706316\n",
       "2015-08-01     602.412012\n",
       "2015-09-01    1382.790684\n",
       "2015-10-01     632.980184\n",
       "2015-11-01    1286.701354\n",
       "2015-12-01    1049.355418\n",
       "2016-01-01     508.182867\n",
       "2016-02-01     356.868273\n",
       "2016-03-01     609.575810\n",
       "2016-04-01     695.373158\n",
       "2016-05-01     687.265227\n",
       "2016-06-01     816.910750\n",
       "2016-07-01     768.736412\n",
       "2016-08-01     734.307782\n",
       "2016-09-01    1135.953371\n",
       "2016-10-01     624.872474\n",
       "2016-11-01    1271.345152\n",
       "2016-12-01    1410.719808\n",
       "2017-01-01     397.602133\n",
       "2017-02-01     528.179800\n",
       "2017-03-01     544.672240\n",
       "2017-04-01     453.297905\n",
       "2017-05-01     678.302328\n",
       "2017-06-01     826.460291\n",
       "2017-07-01     562.524857\n",
       "2017-08-01     857.881889\n",
       "2017-09-01    1209.508583\n",
       "2017-10-01     875.362728\n",
       "2017-11-01    1277.817759\n",
       "2017-12-01    1256.298672\n",
       "Freq: MS, Name: Sales, dtype: float64"
      ]
     },
     "execution_count": 24,
     "metadata": {},
     "output_type": "execute_result"
    }
   ],
   "source": [
    "y"
   ]
  },
  {
   "cell_type": "code",
   "execution_count": 25,
   "metadata": {
    "colab": {},
    "colab_type": "code",
    "id": "0RquBmFZ2fIA",
    "outputId": "8e108c34-3ece-4f9a-8718-bb81ad3f52e4"
   },
   "outputs": [
    {
     "data": {
      "text/plain": [
       "Order Date\n",
       "2017-01-01     397.602133\n",
       "2017-02-01     528.179800\n",
       "2017-03-01     544.672240\n",
       "2017-04-01     453.297905\n",
       "2017-05-01     678.302328\n",
       "2017-06-01     826.460291\n",
       "2017-07-01     562.524857\n",
       "2017-08-01     857.881889\n",
       "2017-09-01    1209.508583\n",
       "2017-10-01     875.362728\n",
       "2017-11-01    1277.817759\n",
       "2017-12-01    1256.298672\n",
       "Freq: MS, Name: Sales, dtype: float64"
      ]
     },
     "execution_count": 25,
     "metadata": {},
     "output_type": "execute_result"
    }
   ],
   "source": [
    "y['2017':]"
   ]
  },
  {
   "cell_type": "markdown",
   "metadata": {
    "colab_type": "text",
    "id": "ZhmEnOQw2fIM"
   },
   "source": [
    "<font color = red><font size = 5>Visualizing Furniture Sales Time Series Data</font>"
   ]
  },
  {
   "cell_type": "code",
   "execution_count": 27,
   "metadata": {
    "colab": {},
    "colab_type": "code",
    "id": "9ptjYqBH2fIS",
    "outputId": "3b174561-a0af-4316-a1d0-27ef663fb102"
   },
   "outputs": [
    {
     "data": {
      "image/png": "[encoded data removed]",
      "text/plain": [
       "<Figure size 1080x432 with 1 Axes>"
      ]
     },
     "metadata": {},
     "output_type": "display_data"
    }
   ],
   "source": [
    "y.plot(figsize=(15, 6))\n",
    "plt.show()"
   ]
  },
  {
   "cell_type": "markdown",
   "metadata": {
    "colab_type": "text",
    "id": "baqjp5IN2fIj"
   },
   "source": [
    "The plot clearly indicates that the time series has seasonality pattern.The sales are always low at the beginning of the year and high at the end of the year. There is always an upward trend within any single year with a couple of low months in the mid of the year"
   ]
  },
  {
   "cell_type": "code",
   "execution_count": 28,
   "metadata": {},
   "outputs": [],
   "source": [
    "train = y[:'2017-06-01']\n",
    "test = y['2017-07-01':]"
   ]
  },
  {
   "cell_type": "markdown",
   "metadata": {},
   "source": [
    "<font color = red><font size = 5> Single Exponential Smoothing </font>"
   ]
  },
  {
   "cell_type": "code",
   "execution_count": 29,
   "metadata": {},
   "outputs": [],
   "source": [
    "from statsmodels.tsa.holtwinters import ExponentialSmoothing"
   ]
  },
  {
   "cell_type": "code",
   "execution_count": 30,
   "metadata": {},
   "outputs": [],
   "source": [
    "# our guessed parameters\n",
    "alpha = 0.4\n",
    "beta = 0.2\n",
    "gamma = 0.01\n",
    "\n",
    "# initialise model\n",
    "ets_model = ExponentialSmoothing(train, trend='mul', seasonal='mul', seasonal_periods=12)\n",
    "ets_fit = ets_model.fit(smoothing_level=alpha, smoothing_slope=beta, smoothing_seasonal=gamma)"
   ]
  },
  {
   "cell_type": "code",
   "execution_count": 31,
   "metadata": {},
   "outputs": [
    {
     "data": {
      "text/plain": [
       "2017-07-01     738.154940\n",
       "2017-08-01     672.890623\n",
       "2017-09-01    1289.748476\n",
       "2017-10-01     760.326303\n",
       "2017-11-01    1383.208158\n",
       "2017-12-01    1579.578021\n",
       "2018-01-01     752.196023\n",
       "2018-02-01     653.213546\n",
       "2018-03-01     955.063330\n",
       "2018-04-01     865.383391\n",
       "2018-05-01     816.498568\n",
       "2018-06-01     962.600956\n",
       "Freq: MS, dtype: float64"
      ]
     },
     "execution_count": 31,
     "metadata": {},
     "output_type": "execute_result"
    }
   ],
   "source": [
    "fcast = ets_fit.forecast(steps=12)\n",
    "fcast"
   ]
  },
  {
   "cell_type": "code",
   "execution_count": 32,
   "metadata": {},
   "outputs": [
    {
     "data": {
      "text/plain": [
       "Order Date\n",
       "2017-07-01     562.524857\n",
       "2017-08-01     857.881889\n",
       "2017-09-01    1209.508583\n",
       "2017-10-01     875.362728\n",
       "2017-11-01    1277.817759\n",
       "2017-12-01    1256.298672\n",
       "Freq: MS, Name: Sales, dtype: float64"
      ]
     },
     "execution_count": 32,
     "metadata": {},
     "output_type": "execute_result"
    }
   ],
   "source": [
    "test"
   ]
  },
  {
   "cell_type": "code",
   "execution_count": 33,
   "metadata": {},
   "outputs": [
    {
     "name": "stdout",
     "output_type": "stream",
     "text": [
      "MSE:  33392.697911347735\n",
      "MAE:  164.09456901504458\n"
     ]
    }
   ],
   "source": [
    "print(\"MSE: \", np.mean((test-fcast)**2))\n",
    "print(\"MAE: \",np.mean(np.abs((test-fcast))))"
   ]
  },
  {
   "cell_type": "code",
   "execution_count": 34,
   "metadata": {},
   "outputs": [],
   "source": [
    "def ETS_auto(train, test,alpha=[None], beta=[None], gamma=[None]):\n",
    "    best_alpha=0\n",
    "    best_beta=0\n",
    "    best_gamma=0\n",
    "    best_mae=None\n",
    "    for i in alpha:\n",
    "        for j in beta:\n",
    "            for k in gamma:  \n",
    "                ets_model = ExponentialSmoothing(train, trend='mul', seasonal='mul', seasonal_periods=12)\n",
    "                ets_fit = ets_model.fit(smoothing_level=i, smoothing_slope=j, smoothing_seasonal=k)\n",
    "                fcast = ets_fit.forecast(steps=6)\n",
    "                mae=np.mean(np.abs((test-fcast)))\n",
    "                if best_mae is None or best_mae >mae:\n",
    "                    best_mae=mae\n",
    "                    best_alpha=i\n",
    "                    best_beta=j\n",
    "                    best_gamma=k\n",
    "    best_params={\"alpha\":i, \"beta\":j, \"gamma\":k,\"mae\":best_mae}\n",
    "    return best_params       "
   ]
  },
  {
   "cell_type": "code",
   "execution_count": 35,
   "metadata": {},
   "outputs": [],
   "source": [
    "import numpy as np\n",
    "from sklearn.metrics import mean_absolute_error\n",
    "from statsmodels.tsa.holtwinters import ExponentialSmoothing\n",
    "\n",
    "def auto_hwm(timeseries, val_split_date, alpha=[None], beta=[None], gamma=[None], phi=[None], \n",
    "              trend=None, seasonal=None, periods=None, verbose=False):\n",
    "\n",
    "    '''The auto_hwm (short for auto holt winters model) function to search for the best possible parameter\n",
    "        combination for the Exponential Smoothing model i.e. smoothing level, smoothing slope, \n",
    "        smoothing seasonal and damping slope based on mean absolute error.\n",
    "\n",
    "        ****Paramters****\n",
    "\n",
    "        timeseries: array-like\n",
    "\n",
    "                  Time-Series\n",
    "\n",
    "        val_split_date: str\n",
    "\n",
    "                  The datetime to split the time-series for validation\n",
    "\n",
    "        alpha: list of floats (optional)\n",
    "\n",
    "                  The list of alpha values for the simple exponential smoothing parameter\n",
    "\n",
    "        beta: list of floats (optional)\n",
    "\n",
    "                  The list of beta values for the Holt’s trend method parameter\n",
    "\n",
    "        gamma: list of floats (optional)\n",
    "\n",
    "                  The list of gamma values for the holt winters seasonal method parameter\n",
    "\n",
    "        phi: list of floats (optional)\n",
    "\n",
    "                  The list of phi values for the damped method parameter\n",
    "\n",
    "        trend: {“add”, “mul”, “additive”, “multiplicative”, None} (optional)\n",
    "\n",
    "                  Type of trend component.\n",
    "\n",
    "        seasonal: {“add”, “mul”, “additive”, “multiplicative”, None} (optional)\n",
    "                  \n",
    "                  Type of seasonal component.\n",
    "\n",
    "        periods: int (optional)\n",
    "                  \n",
    "                  The number of periods in a complete seasonal cycle\n",
    "\n",
    "        ****Returns****\n",
    "\n",
    "        best_params: dict\n",
    "\n",
    "                  The values of alpha, beta, gamma and phi for which the \n",
    "                  validation data (val_split_date) gives the least mean absolute error\n",
    "    '''\n",
    "\n",
    "    best_params = []\n",
    "    actual = timeseries[val_split_date:]\n",
    "\n",
    "    print('Evaluating Exponential Smoothing model for', len(alpha) * len(beta) * len(gamma) * len(phi), 'fits\\n')\n",
    "\n",
    "    for a in alpha:\n",
    "        for b in beta:\n",
    "            for g in gamma:\n",
    "                for p in phi:\n",
    "\n",
    "                    if(verbose == True):\n",
    "                        print('Checking for', {'alpha': a, 'beta': b, 'gamma': g, 'phi': p})\n",
    "\n",
    "                    model = ExponentialSmoothing(timeseries, trend=trend, seasonal=seasonal, seasonal_periods=periods)\n",
    "                    model.fit(smoothing_level=a, smoothing_slope=b, smoothing_seasonal=g, damping_slope=p)\n",
    "                    f_cast = model.predict(model.params, start=actual.index[0])\n",
    "                    score = np.float64(mean_absolute_error(actual, f_cast)).mean()\n",
    "\n",
    "                    best_params.append({'alpha': a, 'beta': b, 'gamma': g, 'phi': p, 'mae': score})\n",
    "\n",
    "    return min(best_params, key=lambda x: x['mae'])\n"
   ]
  },
  {
   "cell_type": "code",
   "execution_count": 36,
   "metadata": {},
   "outputs": [
    {
     "name": "stdout",
     "output_type": "stream",
     "text": [
      "Evaluating Exponential Smoothing model for 125 fits\n",
      "\n",
      "Checking for {'alpha': 0.0, 'beta': 0.0, 'gamma': 0.0, 'phi': None}\n"
     ]
    },
    {
     "name": "stderr",
     "output_type": "stream",
     "text": [
      "C:\\Users\\Bushra Ansari\\anaconda3\\lib\\site-packages\\statsmodels\\tsa\\holtwinters\\model.py:920: ConvergenceWarning: Optimization failed to converge. Check mle_retvals.\n",
      "  warnings.warn(\n",
      "C:\\Users\\Bushra Ansari\\anaconda3\\lib\\site-packages\\statsmodels\\tsa\\holtwinters\\model.py:920: ConvergenceWarning: Optimization failed to converge. Check mle_retvals.\n",
      "  warnings.warn(\n",
      "C:\\Users\\Bushra Ansari\\anaconda3\\lib\\site-packages\\statsmodels\\tsa\\holtwinters\\model.py:920: ConvergenceWarning: Optimization failed to converge. Check mle_retvals.\n",
      "  warnings.warn(\n",
      "C:\\Users\\Bushra Ansari\\anaconda3\\lib\\site-packages\\statsmodels\\tsa\\holtwinters\\model.py:920: ConvergenceWarning: Optimization failed to converge. Check mle_retvals.\n",
      "  warnings.warn(\n",
      "C:\\Users\\Bushra Ansari\\anaconda3\\lib\\site-packages\\statsmodels\\tsa\\holtwinters\\model.py:920: ConvergenceWarning: Optimization failed to converge. Check mle_retvals.\n",
      "  warnings.warn(\n",
      "C:\\Users\\Bushra Ansari\\anaconda3\\lib\\site-packages\\statsmodels\\tsa\\holtwinters\\model.py:920: ConvergenceWarning: Optimization failed to converge. Check mle_retvals.\n",
      "  warnings.warn(\n",
      "C:\\Users\\Bushra Ansari\\anaconda3\\lib\\site-packages\\statsmodels\\tsa\\holtwinters\\model.py:920: ConvergenceWarning: Optimization failed to converge. Check mle_retvals.\n",
      "  warnings.warn(\n",
      "C:\\Users\\Bushra Ansari\\anaconda3\\lib\\site-packages\\statsmodels\\tsa\\holtwinters\\model.py:920: ConvergenceWarning: Optimization failed to converge. Check mle_retvals.\n",
      "  warnings.warn(\n",
      "C:\\Users\\Bushra Ansari\\anaconda3\\lib\\site-packages\\statsmodels\\tsa\\holtwinters\\model.py:920: ConvergenceWarning: Optimization failed to converge. Check mle_retvals.\n",
      "  warnings.warn(\n",
      "C:\\Users\\Bushra Ansari\\anaconda3\\lib\\site-packages\\statsmodels\\tsa\\holtwinters\\model.py:920: ConvergenceWarning: Optimization failed to converge. Check mle_retvals.\n",
      "  warnings.warn(\n",
      "C:\\Users\\Bushra Ansari\\anaconda3\\lib\\site-packages\\statsmodels\\tsa\\holtwinters\\model.py:920: ConvergenceWarning: Optimization failed to converge. Check mle_retvals.\n",
      "  warnings.warn(\n",
      "C:\\Users\\Bushra Ansari\\anaconda3\\lib\\site-packages\\statsmodels\\tsa\\holtwinters\\model.py:920: ConvergenceWarning: Optimization failed to converge. Check mle_retvals.\n",
      "  warnings.warn(\n",
      "C:\\Users\\Bushra Ansari\\anaconda3\\lib\\site-packages\\statsmodels\\tsa\\holtwinters\\model.py:920: ConvergenceWarning: Optimization failed to converge. Check mle_retvals.\n",
      "  warnings.warn(\n",
      "C:\\Users\\Bushra Ansari\\anaconda3\\lib\\site-packages\\statsmodels\\tsa\\holtwinters\\model.py:920: ConvergenceWarning: Optimization failed to converge. Check mle_retvals.\n",
      "  warnings.warn(\n",
      "C:\\Users\\Bushra Ansari\\anaconda3\\lib\\site-packages\\statsmodels\\tsa\\holtwinters\\model.py:920: ConvergenceWarning: Optimization failed to converge. Check mle_retvals.\n",
      "  warnings.warn(\n",
      "C:\\Users\\Bushra Ansari\\anaconda3\\lib\\site-packages\\statsmodels\\tsa\\holtwinters\\model.py:920: ConvergenceWarning: Optimization failed to converge. Check mle_retvals.\n",
      "  warnings.warn(\n",
      "C:\\Users\\Bushra Ansari\\anaconda3\\lib\\site-packages\\statsmodels\\tsa\\holtwinters\\model.py:920: ConvergenceWarning: Optimization failed to converge. Check mle_retvals.\n",
      "  warnings.warn(\n",
      "C:\\Users\\Bushra Ansari\\anaconda3\\lib\\site-packages\\statsmodels\\tsa\\holtwinters\\model.py:920: ConvergenceWarning: Optimization failed to converge. Check mle_retvals.\n",
      "  warnings.warn(\n",
      "C:\\Users\\Bushra Ansari\\anaconda3\\lib\\site-packages\\statsmodels\\tsa\\holtwinters\\model.py:920: ConvergenceWarning: Optimization failed to converge. Check mle_retvals.\n",
      "  warnings.warn(\n"
     ]
    },
    {
     "name": "stdout",
     "output_type": "stream",
     "text": [
      "Checking for {'alpha': 0.0, 'beta': 0.0, 'gamma': 0.125, 'phi': None}\n",
      "Checking for {'alpha': 0.0, 'beta': 0.0, 'gamma': 0.25, 'phi': None}\n",
      "Checking for {'alpha': 0.0, 'beta': 0.0, 'gamma': 0.375, 'phi': None}\n",
      "Checking for {'alpha': 0.0, 'beta': 0.0, 'gamma': 0.5, 'phi': None}\n",
      "Checking for {'alpha': 0.0, 'beta': 0.125, 'gamma': 0.0, 'phi': None}\n",
      "Checking for {'alpha': 0.0, 'beta': 0.125, 'gamma': 0.125, 'phi': None}\n",
      "Checking for {'alpha': 0.0, 'beta': 0.125, 'gamma': 0.25, 'phi': None}\n",
      "Checking for {'alpha': 0.0, 'beta': 0.125, 'gamma': 0.375, 'phi': None}\n",
      "Checking for {'alpha': 0.0, 'beta': 0.125, 'gamma': 0.5, 'phi': None}\n",
      "Checking for {'alpha': 0.0, 'beta': 0.25, 'gamma': 0.0, 'phi': None}\n",
      "Checking for {'alpha': 0.0, 'beta': 0.25, 'gamma': 0.125, 'phi': None}\n",
      "Checking for {'alpha': 0.0, 'beta': 0.25, 'gamma': 0.25, 'phi': None}\n",
      "Checking for {'alpha': 0.0, 'beta': 0.25, 'gamma': 0.375, 'phi': None}\n",
      "Checking for {'alpha': 0.0, 'beta': 0.25, 'gamma': 0.5, 'phi': None}\n",
      "Checking for {'alpha': 0.0, 'beta': 0.375, 'gamma': 0.0, 'phi': None}\n",
      "Checking for {'alpha': 0.0, 'beta': 0.375, 'gamma': 0.125, 'phi': None}\n",
      "Checking for {'alpha': 0.0, 'beta': 0.375, 'gamma': 0.25, 'phi': None}\n",
      "Checking for {'alpha': 0.0, 'beta': 0.375, 'gamma': 0.375, 'phi': None}\n",
      "Checking for {'alpha': 0.0, 'beta': 0.375, 'gamma': 0.5, 'phi': None}\n",
      "Checking for {'alpha': 0.0, 'beta': 0.5, 'gamma': 0.0, 'phi': None}\n",
      "Checking for {'alpha': 0.0, 'beta': 0.5, 'gamma': 0.125, 'phi': None}\n"
     ]
    },
    {
     "name": "stderr",
     "output_type": "stream",
     "text": [
      "C:\\Users\\Bushra Ansari\\anaconda3\\lib\\site-packages\\statsmodels\\tsa\\holtwinters\\model.py:920: ConvergenceWarning: Optimization failed to converge. Check mle_retvals.\n",
      "  warnings.warn(\n",
      "C:\\Users\\Bushra Ansari\\anaconda3\\lib\\site-packages\\statsmodels\\tsa\\holtwinters\\model.py:920: ConvergenceWarning: Optimization failed to converge. Check mle_retvals.\n",
      "  warnings.warn(\n",
      "C:\\Users\\Bushra Ansari\\anaconda3\\lib\\site-packages\\statsmodels\\tsa\\holtwinters\\model.py:920: ConvergenceWarning: Optimization failed to converge. Check mle_retvals.\n",
      "  warnings.warn(\n",
      "C:\\Users\\Bushra Ansari\\anaconda3\\lib\\site-packages\\statsmodels\\tsa\\holtwinters\\model.py:920: ConvergenceWarning: Optimization failed to converge. Check mle_retvals.\n",
      "  warnings.warn(\n",
      "C:\\Users\\Bushra Ansari\\anaconda3\\lib\\site-packages\\statsmodels\\tsa\\holtwinters\\model.py:920: ConvergenceWarning: Optimization failed to converge. Check mle_retvals.\n",
      "  warnings.warn(\n",
      "C:\\Users\\Bushra Ansari\\anaconda3\\lib\\site-packages\\statsmodels\\tsa\\holtwinters\\model.py:920: ConvergenceWarning: Optimization failed to converge. Check mle_retvals.\n",
      "  warnings.warn(\n",
      "C:\\Users\\Bushra Ansari\\anaconda3\\lib\\site-packages\\statsmodels\\tsa\\holtwinters\\model.py:920: ConvergenceWarning: Optimization failed to converge. Check mle_retvals.\n",
      "  warnings.warn(\n",
      "C:\\Users\\Bushra Ansari\\anaconda3\\lib\\site-packages\\statsmodels\\tsa\\holtwinters\\model.py:920: ConvergenceWarning: Optimization failed to converge. Check mle_retvals.\n",
      "  warnings.warn(\n",
      "C:\\Users\\Bushra Ansari\\anaconda3\\lib\\site-packages\\statsmodels\\tsa\\holtwinters\\model.py:920: ConvergenceWarning: Optimization failed to converge. Check mle_retvals.\n",
      "  warnings.warn(\n",
      "C:\\Users\\Bushra Ansari\\anaconda3\\lib\\site-packages\\statsmodels\\tsa\\holtwinters\\model.py:920: ConvergenceWarning: Optimization failed to converge. Check mle_retvals.\n",
      "  warnings.warn(\n"
     ]
    },
    {
     "name": "stdout",
     "output_type": "stream",
     "text": [
      "Checking for {'alpha': 0.0, 'beta': 0.5, 'gamma': 0.25, 'phi': None}\n",
      "Checking for {'alpha': 0.0, 'beta': 0.5, 'gamma': 0.375, 'phi': None}\n",
      "Checking for {'alpha': 0.0, 'beta': 0.5, 'gamma': 0.5, 'phi': None}\n",
      "Checking for {'alpha': 0.125, 'beta': 0.0, 'gamma': 0.0, 'phi': None}\n",
      "Checking for {'alpha': 0.125, 'beta': 0.0, 'gamma': 0.125, 'phi': None}\n",
      "Checking for {'alpha': 0.125, 'beta': 0.0, 'gamma': 0.25, 'phi': None}\n",
      "Checking for {'alpha': 0.125, 'beta': 0.0, 'gamma': 0.375, 'phi': None}\n",
      "Checking for {'alpha': 0.125, 'beta': 0.0, 'gamma': 0.5, 'phi': None}\n",
      "Checking for {'alpha': 0.125, 'beta': 0.125, 'gamma': 0.0, 'phi': None}\n",
      "Checking for {'alpha': 0.125, 'beta': 0.125, 'gamma': 0.125, 'phi': None}\n",
      "Checking for {'alpha': 0.125, 'beta': 0.125, 'gamma': 0.25, 'phi': None}\n",
      "Checking for {'alpha': 0.125, 'beta': 0.125, 'gamma': 0.375, 'phi': None}\n",
      "Checking for {'alpha': 0.125, 'beta': 0.125, 'gamma': 0.5, 'phi': None}\n",
      "Checking for {'alpha': 0.125, 'beta': 0.25, 'gamma': 0.0, 'phi': None}\n",
      "Checking for {'alpha': 0.125, 'beta': 0.25, 'gamma': 0.125, 'phi': None}\n",
      "Checking for {'alpha': 0.125, 'beta': 0.25, 'gamma': 0.25, 'phi': None}\n",
      "Checking for {'alpha': 0.125, 'beta': 0.25, 'gamma': 0.375, 'phi': None}\n",
      "Checking for {'alpha': 0.125, 'beta': 0.25, 'gamma': 0.5, 'phi': None}\n",
      "Checking for {'alpha': 0.125, 'beta': 0.375, 'gamma': 0.0, 'phi': None}\n",
      "Checking for {'alpha': 0.125, 'beta': 0.375, 'gamma': 0.125, 'phi': None}\n",
      "Checking for {'alpha': 0.125, 'beta': 0.375, 'gamma': 0.25, 'phi': None}\n",
      "Checking for {'alpha': 0.125, 'beta': 0.375, 'gamma': 0.375, 'phi': None}\n",
      "Checking for {'alpha': 0.125, 'beta': 0.375, 'gamma': 0.5, 'phi': None}\n",
      "Checking for {'alpha': 0.125, 'beta': 0.5, 'gamma': 0.0, 'phi': None}\n",
      "Checking for {'alpha': 0.125, 'beta': 0.5, 'gamma': 0.125, 'phi': None}\n",
      "Checking for {'alpha': 0.125, 'beta': 0.5, 'gamma': 0.25, 'phi': None}\n",
      "Checking for {'alpha': 0.125, 'beta': 0.5, 'gamma': 0.375, 'phi': None}\n",
      "Checking for {'alpha': 0.125, 'beta': 0.5, 'gamma': 0.5, 'phi': None}\n",
      "Checking for {'alpha': 0.25, 'beta': 0.0, 'gamma': 0.0, 'phi': None}\n",
      "Checking for {'alpha': 0.25, 'beta': 0.0, 'gamma': 0.125, 'phi': None}\n",
      "Checking for {'alpha': 0.25, 'beta': 0.0, 'gamma': 0.25, 'phi': None}\n",
      "Checking for {'alpha': 0.25, 'beta': 0.0, 'gamma': 0.375, 'phi': None}\n",
      "Checking for {'alpha': 0.25, 'beta': 0.0, 'gamma': 0.5, 'phi': None}\n",
      "Checking for {'alpha': 0.25, 'beta': 0.125, 'gamma': 0.0, 'phi': None}\n",
      "Checking for {'alpha': 0.25, 'beta': 0.125, 'gamma': 0.125, 'phi': None}\n",
      "Checking for {'alpha': 0.25, 'beta': 0.125, 'gamma': 0.25, 'phi': None}\n",
      "Checking for {'alpha': 0.25, 'beta': 0.125, 'gamma': 0.375, 'phi': None}\n",
      "Checking for {'alpha': 0.25, 'beta': 0.125, 'gamma': 0.5, 'phi': None}\n",
      "Checking for {'alpha': 0.25, 'beta': 0.25, 'gamma': 0.0, 'phi': None}\n",
      "Checking for {'alpha': 0.25, 'beta': 0.25, 'gamma': 0.125, 'phi': None}\n",
      "Checking for {'alpha': 0.25, 'beta': 0.25, 'gamma': 0.25, 'phi': None}\n",
      "Checking for {'alpha': 0.25, 'beta': 0.25, 'gamma': 0.375, 'phi': None}\n",
      "Checking for {'alpha': 0.25, 'beta': 0.25, 'gamma': 0.5, 'phi': None}\n",
      "Checking for {'alpha': 0.25, 'beta': 0.375, 'gamma': 0.0, 'phi': None}\n",
      "Checking for {'alpha': 0.25, 'beta': 0.375, 'gamma': 0.125, 'phi': None}\n",
      "Checking for {'alpha': 0.25, 'beta': 0.375, 'gamma': 0.25, 'phi': None}\n",
      "Checking for {'alpha': 0.25, 'beta': 0.375, 'gamma': 0.375, 'phi': None}\n",
      "Checking for {'alpha': 0.25, 'beta': 0.375, 'gamma': 0.5, 'phi': None}\n",
      "Checking for {'alpha': 0.25, 'beta': 0.5, 'gamma': 0.0, 'phi': None}\n",
      "Checking for {'alpha': 0.25, 'beta': 0.5, 'gamma': 0.125, 'phi': None}\n",
      "Checking for {'alpha': 0.25, 'beta': 0.5, 'gamma': 0.25, 'phi': None}\n",
      "Checking for {'alpha': 0.25, 'beta': 0.5, 'gamma': 0.375, 'phi': None}\n",
      "Checking for {'alpha': 0.25, 'beta': 0.5, 'gamma': 0.5, 'phi': None}\n",
      "Checking for {'alpha': 0.375, 'beta': 0.0, 'gamma': 0.0, 'phi': None}\n",
      "Checking for {'alpha': 0.375, 'beta': 0.0, 'gamma': 0.125, 'phi': None}\n",
      "Checking for {'alpha': 0.375, 'beta': 0.0, 'gamma': 0.25, 'phi': None}\n",
      "Checking for {'alpha': 0.375, 'beta': 0.0, 'gamma': 0.375, 'phi': None}\n",
      "Checking for {'alpha': 0.375, 'beta': 0.0, 'gamma': 0.5, 'phi': None}\n",
      "Checking for {'alpha': 0.375, 'beta': 0.125, 'gamma': 0.0, 'phi': None}\n",
      "Checking for {'alpha': 0.375, 'beta': 0.125, 'gamma': 0.125, 'phi': None}\n",
      "Checking for {'alpha': 0.375, 'beta': 0.125, 'gamma': 0.25, 'phi': None}\n",
      "Checking for {'alpha': 0.375, 'beta': 0.125, 'gamma': 0.375, 'phi': None}\n",
      "Checking for {'alpha': 0.375, 'beta': 0.125, 'gamma': 0.5, 'phi': None}\n",
      "Checking for {'alpha': 0.375, 'beta': 0.25, 'gamma': 0.0, 'phi': None}\n",
      "Checking for {'alpha': 0.375, 'beta': 0.25, 'gamma': 0.125, 'phi': None}\n",
      "Checking for {'alpha': 0.375, 'beta': 0.25, 'gamma': 0.25, 'phi': None}\n",
      "Checking for {'alpha': 0.375, 'beta': 0.25, 'gamma': 0.375, 'phi': None}\n",
      "Checking for {'alpha': 0.375, 'beta': 0.25, 'gamma': 0.5, 'phi': None}\n",
      "Checking for {'alpha': 0.375, 'beta': 0.375, 'gamma': 0.0, 'phi': None}\n",
      "Checking for {'alpha': 0.375, 'beta': 0.375, 'gamma': 0.125, 'phi': None}\n",
      "Checking for {'alpha': 0.375, 'beta': 0.375, 'gamma': 0.25, 'phi': None}\n",
      "Checking for {'alpha': 0.375, 'beta': 0.375, 'gamma': 0.375, 'phi': None}\n",
      "Checking for {'alpha': 0.375, 'beta': 0.375, 'gamma': 0.5, 'phi': None}\n",
      "Checking for {'alpha': 0.375, 'beta': 0.5, 'gamma': 0.0, 'phi': None}\n",
      "Checking for {'alpha': 0.375, 'beta': 0.5, 'gamma': 0.125, 'phi': None}\n",
      "Checking for {'alpha': 0.375, 'beta': 0.5, 'gamma': 0.25, 'phi': None}\n",
      "Checking for {'alpha': 0.375, 'beta': 0.5, 'gamma': 0.375, 'phi': None}\n",
      "Checking for {'alpha': 0.375, 'beta': 0.5, 'gamma': 0.5, 'phi': None}\n",
      "Checking for {'alpha': 0.5, 'beta': 0.0, 'gamma': 0.0, 'phi': None}\n",
      "Checking for {'alpha': 0.5, 'beta': 0.0, 'gamma': 0.125, 'phi': None}\n",
      "Checking for {'alpha': 0.5, 'beta': 0.0, 'gamma': 0.25, 'phi': None}\n",
      "Checking for {'alpha': 0.5, 'beta': 0.0, 'gamma': 0.375, 'phi': None}\n",
      "Checking for {'alpha': 0.5, 'beta': 0.0, 'gamma': 0.5, 'phi': None}\n",
      "Checking for {'alpha': 0.5, 'beta': 0.125, 'gamma': 0.0, 'phi': None}\n",
      "Checking for {'alpha': 0.5, 'beta': 0.125, 'gamma': 0.125, 'phi': None}\n",
      "Checking for {'alpha': 0.5, 'beta': 0.125, 'gamma': 0.25, 'phi': None}\n",
      "Checking for {'alpha': 0.5, 'beta': 0.125, 'gamma': 0.375, 'phi': None}\n",
      "Checking for {'alpha': 0.5, 'beta': 0.125, 'gamma': 0.5, 'phi': None}\n",
      "Checking for {'alpha': 0.5, 'beta': 0.25, 'gamma': 0.0, 'phi': None}\n",
      "Checking for {'alpha': 0.5, 'beta': 0.25, 'gamma': 0.125, 'phi': None}\n",
      "Checking for {'alpha': 0.5, 'beta': 0.25, 'gamma': 0.25, 'phi': None}\n",
      "Checking for {'alpha': 0.5, 'beta': 0.25, 'gamma': 0.375, 'phi': None}\n",
      "Checking for {'alpha': 0.5, 'beta': 0.25, 'gamma': 0.5, 'phi': None}\n",
      "Checking for {'alpha': 0.5, 'beta': 0.375, 'gamma': 0.0, 'phi': None}\n",
      "Checking for {'alpha': 0.5, 'beta': 0.375, 'gamma': 0.125, 'phi': None}\n",
      "Checking for {'alpha': 0.5, 'beta': 0.375, 'gamma': 0.25, 'phi': None}\n",
      "Checking for {'alpha': 0.5, 'beta': 0.375, 'gamma': 0.375, 'phi': None}\n",
      "Checking for {'alpha': 0.5, 'beta': 0.375, 'gamma': 0.5, 'phi': None}\n",
      "Checking for {'alpha': 0.5, 'beta': 0.5, 'gamma': 0.0, 'phi': None}\n",
      "Checking for {'alpha': 0.5, 'beta': 0.5, 'gamma': 0.125, 'phi': None}\n",
      "Checking for {'alpha': 0.5, 'beta': 0.5, 'gamma': 0.25, 'phi': None}\n",
      "Checking for {'alpha': 0.5, 'beta': 0.5, 'gamma': 0.375, 'phi': None}\n",
      "Checking for {'alpha': 0.5, 'beta': 0.5, 'gamma': 0.5, 'phi': None}\n"
     ]
    },
    {
     "data": {
      "text/plain": [
       "{'alpha': 0.125,\n",
       " 'beta': 0.375,\n",
       " 'gamma': 0.0,\n",
       " 'phi': None,\n",
       " 'mae': 97.60098136939553}"
      ]
     },
     "execution_count": 36,
     "metadata": {},
     "output_type": "execute_result"
    }
   ],
   "source": [
    "auto_hwm(y, val_split_date = '2017-06-01', \n",
    "         alpha = np.linspace(0,0.5,5), \n",
    "         beta = np.linspace(0,0.5,5), \n",
    "         gamma = np.linspace(0,0.5,5), \n",
    "         trend='mul', \n",
    "         seasonal='mul', \n",
    "         periods=12, verbose=True)"
   ]
  },
  {
   "cell_type": "code",
   "execution_count": 40,
   "metadata": {},
   "outputs": [],
   "source": [
    "# best parameters\n",
    "alpha = 0.125\n",
    "beta = 0.375\n",
    "gamma = 0\n",
    "\n",
    "# initialise model\n",
    "ets_model = ExponentialSmoothing(y, trend='mul', seasonal='mul', seasonal_periods=12)\n",
    "ets_fit = ets_model.fit(smoothing_level=alpha, smoothing_slope=beta, smoothing_seasonal=gamma)"
   ]
  },
  {
   "cell_type": "code",
   "execution_count": 41,
   "metadata": {},
   "outputs": [],
   "source": [
    "fcast = ets_fit.forecast(steps=12)"
   ]
  },
  {
   "cell_type": "code",
   "execution_count": 42,
   "metadata": {},
   "outputs": [
    {
     "data": {
      "text/plain": [
       "2018-01-01     642.646690\n",
       "2018-02-01     519.518189\n",
       "2018-03-01     790.917233\n",
       "2018-04-01     713.051150\n",
       "2018-05-01     669.063101\n",
       "2018-06-01     949.837041\n",
       "2018-07-01     766.281724\n",
       "2018-08-01     789.704862\n",
       "2018-09-01    1459.785070\n",
       "2018-10-01     887.447178\n",
       "2018-11-01    1569.555167\n",
       "2018-12-01    1640.334280\n",
       "Freq: MS, dtype: float64"
      ]
     },
     "execution_count": 42,
     "metadata": {},
     "output_type": "execute_result"
    }
   ],
   "source": [
    "fcast"
   ]
  },
  {
   "cell_type": "markdown",
   "metadata": {
    "colab_type": "text",
    "id": "AE9tBgZx2fIj"
   },
   "source": [
    "<font color = red><font size = 5>Checking Stationarity </font>"
   ]
  },
  {
   "cell_type": "code",
   "execution_count": 43,
   "metadata": {},
   "outputs": [],
   "source": [
    "from statsmodels.tsa.stattools import adfuller"
   ]
  },
  {
   "cell_type": "code",
   "execution_count": 44,
   "metadata": {},
   "outputs": [
    {
     "data": {
      "text/plain": [
       "(-5.191070187339274,\n",
       " 9.1687566556655e-06,\n",
       " 10,\n",
       " 37,\n",
       " {'1%': -3.6209175221605827,\n",
       "  '5%': -2.9435394610388332,\n",
       "  '10%': -2.6104002410518627},\n",
       " 521.9616303121272)"
      ]
     },
     "execution_count": 44,
     "metadata": {},
     "output_type": "execute_result"
    }
   ],
   "source": [
    "adfuller(y)"
   ]
  },
  {
   "cell_type": "code",
   "execution_count": 45,
   "metadata": {
    "colab": {},
    "colab_type": "code",
    "id": "Ai7--10D2fIp",
    "outputId": "42e3da28-9e0f-40da-ae0d-e8e229cf5085"
   },
   "outputs": [
    {
     "name": "stdout",
     "output_type": "stream",
     "text": [
      "ADF Statistic: -5.191070\n",
      "p-value: 0.000009\n",
      "Critical Values:\n",
      "\t1%: -3.621\n",
      "\t5%: -2.944\n",
      "\t10%: -2.610\n"
     ]
    }
   ],
   "source": [
    "from pandas import Series\n",
    "from statsmodels.tsa.stattools import adfuller\n",
    "result = adfuller(y)\n",
    "print('ADF Statistic: %f' % result[0])\n",
    "print('p-value: %f' % result[1])\n",
    "print('Critical Values:')\n",
    "for key, value in result[4].items():\n",
    "    print('\\t%s: %.3f' % (key, value))"
   ]
  },
  {
   "cell_type": "markdown",
   "metadata": {
    "colab_type": "text",
    "id": "P_wzokgY2fI3"
   },
   "source": [
    "We can see that our statistic value of -5.191070 is less than the value of -3.621 at 1%. This suggests that we can reject the null hypothesis with a significance level of less than 1% (i.e. a low probability that the result is a statistical fluke). Rejecting the null hypothesis means that the process has no unit root, and in turn that the time series is stationary or does not have time-dependent structure.\n",
    "\n",
    "The p-value is 0.000009, which is way below the threshold (0.05). Hence the null-hypothesis is rejected. It suggests the time series does not have a unit root, meaning it is stationary."
   ]
  },
  {
   "cell_type": "markdown",
   "metadata": {
    "colab_type": "text",
    "id": "pXlsMkzz2fI4"
   },
   "source": [
    "<font color = red><font size = 5>Decomposing : </font></br>\n",
    "<font color = black><font size = 3>Decomposing the time series into three distinct components: trend, seasonality, and noise.</font>"
   ]
  },
  {
   "cell_type": "code",
   "execution_count": 46,
   "metadata": {},
   "outputs": [
    {
     "data": {
      "text/plain": [
       "<statsmodels.tsa.seasonal.DecomposeResult at 0x1fe7bd5c1f0>"
      ]
     },
     "execution_count": 46,
     "metadata": {},
     "output_type": "execute_result"
    }
   ],
   "source": [
    "from statsmodels.tsa.seasonal import seasonal_decompose\n",
    "decomposition = seasonal_decompose(y, model='multiplicative',  two_sided=False, extrapolate_trend=4)\n",
    "decomposition"
   ]
  },
  {
   "cell_type": "code",
   "execution_count": 97,
   "metadata": {},
   "outputs": [
    {
     "data": {
      "text/plain": [
       "Order Date\n",
       "2014-01-01    1.002710\n",
       "2014-02-01    1.019019\n",
       "2014-03-01    1.449618\n",
       "2014-04-01    1.059923\n",
       "2014-05-01    0.836962\n",
       "2014-06-01    1.152516\n",
       "2014-07-01    1.035863\n",
       "2014-08-01    0.784992\n",
       "2014-09-01    0.950487\n",
       "2014-10-01    1.177302\n",
       "2014-11-01    0.904377\n",
       "2014-12-01    1.269304\n",
       "2015-01-01    1.664691\n",
       "2015-02-01    1.160107\n",
       "2015-03-01    1.075209\n",
       "2015-04-01    1.237542\n",
       "2015-05-01    0.991407\n",
       "2015-06-01    0.594809\n",
       "2015-07-01    1.064848\n",
       "2015-08-01    0.890869\n",
       "2015-09-01    1.130075\n",
       "2015-10-01    0.830289\n",
       "2015-11-01    1.025524\n",
       "2015-12-01    0.769986\n",
       "2016-01-01    0.810682\n",
       "2016-02-01    0.796413\n",
       "2016-03-01    0.862330\n",
       "2016-04-01    1.124647\n",
       "2016-05-01    1.177519\n",
       "2016-06-01    1.189932\n",
       "2016-07-01    1.156875\n",
       "2016-08-01    1.109079\n",
       "2016-09-01    0.980359\n",
       "2016-10-01    0.888704\n",
       "2016-11-01    1.109356\n",
       "2016-12-01    1.102843\n",
       "2017-01-01    0.635298\n",
       "2017-02-01    1.137841\n",
       "2017-03-01    0.726224\n",
       "2017-04-01    0.691269\n",
       "2017-05-01    1.107494\n",
       "2017-06-01    1.176125\n",
       "2017-07-01    0.855795\n",
       "2017-08-01    1.328441\n",
       "2017-09-01    1.052460\n",
       "2017-10-01    1.217086\n",
       "2017-11-01    1.074124\n",
       "2017-12-01    0.971248\n",
       "Freq: MS, Name: resid, dtype: float64"
      ]
     },
     "execution_count": 97,
     "metadata": {},
     "output_type": "execute_result"
    }
   ],
   "source": []
  },
  {
   "cell_type": "code",
   "execution_count": 47,
   "metadata": {
    "colab": {},
    "colab_type": "code",
    "id": "SSi8mWUB2fI_",
    "outputId": "bdffe368-aa57-441c-e6ee-bb619140531e"
   },
   "outputs": [
    {
     "data": {
      "image/png": "[encoded data removed]",
      "text/plain": [
       "<Figure size 432x288 with 1 Axes>"
      ]
     },
     "metadata": {},
     "output_type": "display_data"
    },
    {
     "data": {
      "image/png": "[encoded data removed]",
      "text/plain": [
       "<Figure size 432x288 with 1 Axes>"
      ]
     },
     "metadata": {},
     "output_type": "display_data"
    },
    {
     "data": {
      "image/png": "[encoded data removed]",
      "text/plain": [
       "<Figure size 432x288 with 1 Axes>"
      ]
     },
     "metadata": {},
     "output_type": "display_data"
    },
    {
     "data": {
      "text/plain": [
       "<matplotlib.legend.Legend at 0x1fe7be545b0>"
      ]
     },
     "execution_count": 47,
     "metadata": {},
     "output_type": "execute_result"
    },
    {
     "data": {
      "image/png": "[encoded data removed]",
      "text/plain": [
       "<Figure size 432x288 with 1 Axes>"
      ]
     },
     "metadata": {},
     "output_type": "display_data"
    }
   ],
   "source": [
    "from statsmodels.tsa.seasonal import seasonal_decompose\n",
    "decomposition = seasonal_decompose(y, model='multiplicative',  two_sided=False, extrapolate_trend=4)\n",
    "\n",
    "plt.plot(y, label = 'Original')\n",
    "plt.legend(loc = 'best')\n",
    "\n",
    "trend = decomposition.trend\n",
    "plt.show()\n",
    "plt.plot(trend, label = 'Trend')\n",
    "plt.legend(loc = 'best')\n",
    "\n",
    "seasonal = decomposition.seasonal\n",
    "plt.show()\n",
    "plt.plot(seasonal, label = 'Seasonal')\n",
    "plt.legend(loc = 'best')\n",
    "\n",
    "residual = decomposition.resid\n",
    "plt.show()\n",
    "plt.plot(residual, label = 'Residual')\n",
    "plt.legend(loc='best')"
   ]
  },
  {
   "cell_type": "markdown",
   "metadata": {
    "colab_type": "text",
    "id": "ag1uQgOh2fJF"
   },
   "source": [
    "By visualizing the decomposed components of the original time series we can say that the sales of furniture is unstable, along with its obvious seasonality."
   ]
  },
  {
   "cell_type": "markdown",
   "metadata": {
    "colab_type": "text",
    "id": "P8lrmUY22fJI"
   },
   "source": [
    "<font color = red><font size = 5>Forecasting</font>"
   ]
  },
  {
   "cell_type": "markdown",
   "metadata": {
    "colab_type": "text",
    "id": "DzimuzaE2fJK"
   },
   "source": [
    "<font color = red><font size = 4>Time Series Forecasting using ARIMA</font></br>\n",
    "<font color = black><font size = 2>We will use ARIMA for forecasting our time series. ARIMA is also denoted as ARIMA(p,d,q) where p,d,q accounts for seasonality, trend and noise in the time series data</font>"
   ]
  },
  {
   "cell_type": "code",
   "execution_count": 48,
   "metadata": {
    "colab": {},
    "colab_type": "code",
    "id": "gYUZlLQW2fJL",
    "outputId": "ba489325-a76e-4d13-bc6b-a240cf888320"
   },
   "outputs": [
    {
     "name": "stdout",
     "output_type": "stream",
     "text": [
      "Examples of parameter combinations for Seasonal ARIMA...\n",
      "SARIMAX: (0, 0, 1) x (0, 0, 1, 12)\n",
      "SARIMAX: (0, 0, 1) x (0, 0, 2, 12)\n",
      "SARIMAX: (0, 0, 2) x (0, 1, 0, 12)\n",
      "SARIMAX: (0, 0, 2) x (0, 1, 1, 12)\n"
     ]
    }
   ],
   "source": [
    "p = d = q = range(0, 3)\n",
    "pdq = list(itertools.product(p, d, q))\n",
    "\n",
    "seasonal_pdq = [(x[0], x[1], x[2], 12) for x in list(itertools.product(p, d, q))]\n",
    "print('Examples of parameter combinations for Seasonal ARIMA...')\n",
    "print('SARIMAX: {} x {}'.format(pdq[1], seasonal_pdq[1]))\n",
    "print('SARIMAX: {} x {}'.format(pdq[1], seasonal_pdq[2]))\n",
    "print('SARIMAX: {} x {}'.format(pdq[2], seasonal_pdq[3]))\n",
    "print('SARIMAX: {} x {}'.format(pdq[2], seasonal_pdq[4]))"
   ]
  },
  {
   "cell_type": "markdown",
   "metadata": {
    "colab_type": "text",
    "id": "OhpHQ-uZ2fJQ"
   },
   "source": [
    "<font color = red><font size = 4>Parameter Selection </font></br>\n",
    "<font color = black><font size = 2>We use “grid search” to find the optimal set of parameters that yields the best performance for our model."
   ]
  },
  {
   "cell_type": "code",
   "execution_count": 49,
   "metadata": {
    "colab": {},
    "colab_type": "code",
    "id": "4PH7LPy82fJR",
    "outputId": "cc82e03d-9c2a-495c-cda9-ade16ce5a8b8"
   },
   "outputs": [
    {
     "name": "stdout",
     "output_type": "stream",
     "text": [
      "ARIMA(0, 0, 0)x(0, 0, 0, 12)12 - AIC:769.0817523205915\n"
     ]
    },
    {
     "name": "stderr",
     "output_type": "stream",
     "text": [
      "C:\\Users\\Bushra Ansari\\anaconda3\\lib\\site-packages\\statsmodels\\base\\model.py:566: ConvergenceWarning: Maximum Likelihood optimization failed to converge. Check mle_retvals\n",
      "  warnings.warn(\"Maximum Likelihood optimization failed to \"\n"
     ]
    },
    {
     "name": "stdout",
     "output_type": "stream",
     "text": [
      "ARIMA(0, 0, 0)x(0, 0, 1, 12)12 - AIC:1648.150812281747\n",
      "ARIMA(0, 0, 0)x(0, 0, 2, 12)12 - AIC:354.7862732407005\n",
      "ARIMA(0, 0, 0)x(0, 1, 0, 12)12 - AIC:477.7170130920111\n",
      "ARIMA(0, 0, 0)x(0, 1, 1, 12)12 - AIC:302.2702899793726\n",
      "ARIMA(0, 0, 0)x(0, 1, 2, 12)12 - AIC:146.88834672464736\n",
      "ARIMA(0, 0, 0)x(0, 2, 0, 12)12 - AIC:336.9536604856288\n",
      "ARIMA(0, 0, 0)x(0, 2, 1, 12)12 - AIC:149.84561033292687\n",
      "ARIMA(0, 0, 0)x(0, 2, 2, 12)12 - AIC:6.0\n",
      "ARIMA(0, 0, 0)x(1, 0, 0, 12)12 - AIC:497.2314433418337\n"
     ]
    },
    {
     "name": "stderr",
     "output_type": "stream",
     "text": [
      "C:\\Users\\Bushra Ansari\\anaconda3\\lib\\site-packages\\statsmodels\\base\\model.py:566: ConvergenceWarning: Maximum Likelihood optimization failed to converge. Check mle_retvals\n",
      "  warnings.warn(\"Maximum Likelihood optimization failed to \"\n"
     ]
    },
    {
     "name": "stdout",
     "output_type": "stream",
     "text": [
      "ARIMA(0, 0, 0)x(1, 0, 1, 12)12 - AIC:1232.1145479800155\n",
      "ARIMA(0, 0, 0)x(1, 0, 2, 12)12 - AIC:309.56039684622556\n",
      "ARIMA(0, 0, 0)x(1, 1, 0, 12)12 - AIC:318.00471991163414\n",
      "ARIMA(0, 0, 0)x(1, 1, 1, 12)12 - AIC:304.2488280302578\n",
      "ARIMA(0, 0, 0)x(1, 1, 2, 12)12 - AIC:148.83996705488377\n",
      "ARIMA(0, 0, 0)x(1, 2, 0, 12)12 - AIC:162.12029487165506\n",
      "ARIMA(0, 0, 0)x(1, 2, 1, 12)12 - AIC:151.35761675098883\n",
      "ARIMA(0, 0, 0)x(1, 2, 2, 12)12 - AIC:8.0\n",
      "ARIMA(0, 0, 0)x(2, 0, 0, 12)12 - AIC:319.96929434508735\n",
      "ARIMA(0, 0, 0)x(2, 0, 1, 12)12 - AIC:656.4514563514363\n",
      "ARIMA(0, 0, 0)x(2, 0, 2, 12)12 - AIC:307.8981846483094\n",
      "ARIMA(0, 0, 0)x(2, 1, 0, 12)12 - AIC:159.5144730671919\n"
     ]
    },
    {
     "name": "stderr",
     "output_type": "stream",
     "text": [
      "C:\\Users\\Bushra Ansari\\anaconda3\\lib\\site-packages\\statsmodels\\base\\model.py:566: ConvergenceWarning: Maximum Likelihood optimization failed to converge. Check mle_retvals\n",
      "  warnings.warn(\"Maximum Likelihood optimization failed to \"\n"
     ]
    },
    {
     "name": "stdout",
     "output_type": "stream",
     "text": [
      "ARIMA(0, 0, 0)x(2, 1, 1, 12)12 - AIC:161.29079492851716\n",
      "ARIMA(0, 0, 0)x(2, 1, 2, 12)12 - AIC:150.77405830117536\n",
      "ARIMA(0, 0, 0)x(2, 2, 0, 12)12 - AIC:6.0\n",
      "ARIMA(0, 0, 0)x(2, 2, 1, 12)12 - AIC:8.0\n",
      "ARIMA(0, 0, 0)x(2, 2, 2, 12)12 - AIC:10.0\n",
      "ARIMA(0, 0, 1)x(0, 0, 0, 12)12 - AIC:720.9252270758097\n"
     ]
    },
    {
     "name": "stderr",
     "output_type": "stream",
     "text": [
      "C:\\Users\\Bushra Ansari\\anaconda3\\lib\\site-packages\\statsmodels\\base\\model.py:566: ConvergenceWarning: Maximum Likelihood optimization failed to converge. Check mle_retvals\n",
      "  warnings.warn(\"Maximum Likelihood optimization failed to \"\n"
     ]
    },
    {
     "name": "stdout",
     "output_type": "stream",
     "text": [
      "ARIMA(0, 0, 1)x(0, 0, 1, 12)12 - AIC:2687.5782590646995\n",
      "ARIMA(0, 0, 1)x(0, 0, 2, 12)12 - AIC:323.4436688558082\n",
      "ARIMA(0, 0, 1)x(0, 1, 0, 12)12 - AIC:466.5607429809164\n",
      "ARIMA(0, 0, 1)x(0, 1, 1, 12)12 - AIC:291.62613896732864\n",
      "ARIMA(0, 0, 1)x(0, 1, 2, 12)12 - AIC:135.88293598954814\n",
      "ARIMA(0, 0, 1)x(0, 2, 0, 12)12 - AIC:324.4135789668787\n",
      "ARIMA(0, 0, 1)x(0, 2, 1, 12)12 - AIC:136.53719210574732\n",
      "ARIMA(0, 0, 1)x(0, 2, 2, 12)12 - AIC:8.0\n"
     ]
    },
    {
     "name": "stderr",
     "output_type": "stream",
     "text": [
      "C:\\Users\\Bushra Ansari\\anaconda3\\lib\\site-packages\\statsmodels\\base\\model.py:566: ConvergenceWarning: Maximum Likelihood optimization failed to converge. Check mle_retvals\n",
      "  warnings.warn(\"Maximum Likelihood optimization failed to \"\n"
     ]
    },
    {
     "name": "stdout",
     "output_type": "stream",
     "text": [
      "ARIMA(0, 0, 1)x(1, 0, 0, 12)12 - AIC:499.6410563895291\n"
     ]
    },
    {
     "name": "stderr",
     "output_type": "stream",
     "text": [
      "C:\\Users\\Bushra Ansari\\anaconda3\\lib\\site-packages\\statsmodels\\base\\model.py:566: ConvergenceWarning: Maximum Likelihood optimization failed to converge. Check mle_retvals\n",
      "  warnings.warn(\"Maximum Likelihood optimization failed to \"\n"
     ]
    },
    {
     "name": "stdout",
     "output_type": "stream",
     "text": [
      "ARIMA(0, 0, 1)x(1, 0, 1, 12)12 - AIC:2179.240855447669\n"
     ]
    },
    {
     "name": "stderr",
     "output_type": "stream",
     "text": [
      "C:\\Users\\Bushra Ansari\\anaconda3\\lib\\site-packages\\statsmodels\\base\\model.py:566: ConvergenceWarning: Maximum Likelihood optimization failed to converge. Check mle_retvals\n",
      "  warnings.warn(\"Maximum Likelihood optimization failed to \"\n"
     ]
    },
    {
     "name": "stdout",
     "output_type": "stream",
     "text": [
      "ARIMA(0, 0, 1)x(1, 0, 2, 12)12 - AIC:299.14201172109847\n",
      "ARIMA(0, 0, 1)x(1, 1, 0, 12)12 - AIC:319.9884876946869\n",
      "ARIMA(0, 0, 1)x(1, 1, 1, 12)12 - AIC:291.87255765683983\n",
      "ARIMA(0, 0, 1)x(1, 1, 2, 12)12 - AIC:137.6340991459675\n",
      "ARIMA(0, 0, 1)x(1, 2, 0, 12)12 - AIC:163.9883442810855\n",
      "ARIMA(0, 0, 1)x(1, 2, 1, 12)12 - AIC:137.70652786305723\n",
      "ARIMA(0, 0, 1)x(1, 2, 2, 12)12 - AIC:10.0\n",
      "ARIMA(0, 0, 1)x(2, 0, 0, 12)12 - AIC:321.9645277042794\n"
     ]
    },
    {
     "name": "stderr",
     "output_type": "stream",
     "text": [
      "C:\\Users\\Bushra Ansari\\anaconda3\\lib\\site-packages\\statsmodels\\base\\model.py:566: ConvergenceWarning: Maximum Likelihood optimization failed to converge. Check mle_retvals\n",
      "  warnings.warn(\"Maximum Likelihood optimization failed to \"\n"
     ]
    },
    {
     "name": "stdout",
     "output_type": "stream",
     "text": [
      "ARIMA(0, 0, 1)x(2, 0, 1, 12)12 - AIC:685.6923187744853\n"
     ]
    },
    {
     "name": "stderr",
     "output_type": "stream",
     "text": [
      "C:\\Users\\Bushra Ansari\\anaconda3\\lib\\site-packages\\statsmodels\\base\\model.py:566: ConvergenceWarning: Maximum Likelihood optimization failed to converge. Check mle_retvals\n",
      "  warnings.warn(\"Maximum Likelihood optimization failed to \"\n"
     ]
    },
    {
     "name": "stdout",
     "output_type": "stream",
     "text": [
      "ARIMA(0, 0, 1)x(2, 0, 2, 12)12 - AIC:296.98268805716714\n",
      "ARIMA(0, 0, 1)x(2, 1, 0, 12)12 - AIC:160.85410049250248\n",
      "ARIMA(0, 0, 1)x(2, 1, 1, 12)12 - AIC:162.63152998646927\n"
     ]
    },
    {
     "name": "stderr",
     "output_type": "stream",
     "text": [
      "C:\\Users\\Bushra Ansari\\anaconda3\\lib\\site-packages\\statsmodels\\base\\model.py:566: ConvergenceWarning: Maximum Likelihood optimization failed to converge. Check mle_retvals\n",
      "  warnings.warn(\"Maximum Likelihood optimization failed to \"\n"
     ]
    },
    {
     "name": "stdout",
     "output_type": "stream",
     "text": [
      "ARIMA(0, 0, 1)x(2, 1, 2, 12)12 - AIC:134.83938147093335\n",
      "ARIMA(0, 0, 1)x(2, 2, 0, 12)12 - AIC:8.0\n",
      "ARIMA(0, 0, 1)x(2, 2, 1, 12)12 - AIC:10.0\n",
      "ARIMA(0, 0, 1)x(2, 2, 2, 12)12 - AIC:12.0\n",
      "ARIMA(0, 0, 2)x(0, 0, 0, 12)12 - AIC:695.9854310935201\n"
     ]
    },
    {
     "name": "stderr",
     "output_type": "stream",
     "text": [
      "C:\\Users\\Bushra Ansari\\anaconda3\\lib\\site-packages\\statsmodels\\base\\model.py:566: ConvergenceWarning: Maximum Likelihood optimization failed to converge. Check mle_retvals\n",
      "  warnings.warn(\"Maximum Likelihood optimization failed to \"\n"
     ]
    },
    {
     "name": "stdout",
     "output_type": "stream",
     "text": [
      "ARIMA(0, 0, 2)x(0, 0, 1, 12)12 - AIC:2507.8854488892302\n",
      "ARIMA(0, 0, 2)x(0, 0, 2, 12)12 - AIC:311.1637215585529\n",
      "ARIMA(0, 0, 2)x(0, 1, 0, 12)12 - AIC:455.2093474618761\n",
      "ARIMA(0, 0, 2)x(0, 1, 1, 12)12 - AIC:279.996668914375\n"
     ]
    },
    {
     "name": "stderr",
     "output_type": "stream",
     "text": [
      "C:\\Users\\Bushra Ansari\\anaconda3\\lib\\site-packages\\statsmodels\\base\\model.py:566: ConvergenceWarning: Maximum Likelihood optimization failed to converge. Check mle_retvals\n",
      "  warnings.warn(\"Maximum Likelihood optimization failed to \"\n"
     ]
    },
    {
     "name": "stdout",
     "output_type": "stream",
     "text": [
      "ARIMA(0, 0, 2)x(0, 1, 2, 12)12 - AIC:121.51339160320873\n",
      "ARIMA(0, 0, 2)x(0, 2, 0, 12)12 - AIC:311.8417385725353\n",
      "ARIMA(0, 0, 2)x(0, 2, 1, 12)12 - AIC:121.64768702817248\n",
      "ARIMA(0, 0, 2)x(0, 2, 2, 12)12 - AIC:10.0\n"
     ]
    },
    {
     "name": "stderr",
     "output_type": "stream",
     "text": [
      "C:\\Users\\Bushra Ansari\\anaconda3\\lib\\site-packages\\statsmodels\\base\\model.py:566: ConvergenceWarning: Maximum Likelihood optimization failed to converge. Check mle_retvals\n",
      "  warnings.warn(\"Maximum Likelihood optimization failed to \"\n",
      "C:\\Users\\Bushra Ansari\\anaconda3\\lib\\site-packages\\statsmodels\\base\\model.py:566: ConvergenceWarning: Maximum Likelihood optimization failed to converge. Check mle_retvals\n",
      "  warnings.warn(\"Maximum Likelihood optimization failed to \"\n"
     ]
    },
    {
     "name": "stdout",
     "output_type": "stream",
     "text": [
      "ARIMA(0, 0, 2)x(1, 0, 0, 12)12 - AIC:501.0322027576551\n",
      "ARIMA(0, 0, 2)x(1, 0, 1, 12)12 - AIC:2126.3261741087704\n"
     ]
    },
    {
     "name": "stderr",
     "output_type": "stream",
     "text": [
      "C:\\Users\\Bushra Ansari\\anaconda3\\lib\\site-packages\\statsmodels\\base\\model.py:566: ConvergenceWarning: Maximum Likelihood optimization failed to converge. Check mle_retvals\n",
      "  warnings.warn(\"Maximum Likelihood optimization failed to \"\n"
     ]
    },
    {
     "name": "stdout",
     "output_type": "stream",
     "text": [
      "ARIMA(0, 0, 2)x(1, 0, 2, 12)12 - AIC:286.18469116685327\n",
      "ARIMA(0, 0, 2)x(1, 1, 0, 12)12 - AIC:321.88005844738836\n",
      "ARIMA(0, 0, 2)x(1, 1, 1, 12)12 - AIC:281.78833393067373\n"
     ]
    },
    {
     "name": "stderr",
     "output_type": "stream",
     "text": [
      "C:\\Users\\Bushra Ansari\\anaconda3\\lib\\site-packages\\statsmodels\\base\\model.py:566: ConvergenceWarning: Maximum Likelihood optimization failed to converge. Check mle_retvals\n",
      "  warnings.warn(\"Maximum Likelihood optimization failed to \"\n"
     ]
    },
    {
     "name": "stdout",
     "output_type": "stream",
     "text": [
      "ARIMA(0, 0, 2)x(1, 1, 2, 12)12 - AIC:122.1881388550083\n",
      "ARIMA(0, 0, 2)x(1, 2, 0, 12)12 - AIC:164.18237603755696\n",
      "ARIMA(0, 0, 2)x(1, 2, 1, 12)12 - AIC:123.961439474939\n",
      "ARIMA(0, 0, 2)x(1, 2, 2, 12)12 - AIC:12.0\n",
      "ARIMA(0, 0, 2)x(2, 0, 0, 12)12 - AIC:323.5822759544452\n"
     ]
    },
    {
     "name": "stderr",
     "output_type": "stream",
     "text": [
      "C:\\Users\\Bushra Ansari\\anaconda3\\lib\\site-packages\\statsmodels\\base\\model.py:566: ConvergenceWarning: Maximum Likelihood optimization failed to converge. Check mle_retvals\n",
      "  warnings.warn(\"Maximum Likelihood optimization failed to \"\n"
     ]
    },
    {
     "name": "stdout",
     "output_type": "stream",
     "text": [
      "ARIMA(0, 0, 2)x(2, 0, 1, 12)12 - AIC:695.9610325586198\n"
     ]
    },
    {
     "name": "stderr",
     "output_type": "stream",
     "text": [
      "C:\\Users\\Bushra Ansari\\anaconda3\\lib\\site-packages\\statsmodels\\base\\model.py:566: ConvergenceWarning: Maximum Likelihood optimization failed to converge. Check mle_retvals\n",
      "  warnings.warn(\"Maximum Likelihood optimization failed to \"\n"
     ]
    },
    {
     "name": "stdout",
     "output_type": "stream",
     "text": [
      "ARIMA(0, 0, 2)x(2, 0, 2, 12)12 - AIC:285.892797463011\n",
      "ARIMA(0, 0, 2)x(2, 1, 0, 12)12 - AIC:163.57819530872666\n",
      "ARIMA(0, 0, 2)x(2, 1, 1, 12)12 - AIC:164.35074076256652\n"
     ]
    },
    {
     "name": "stderr",
     "output_type": "stream",
     "text": [
      "C:\\Users\\Bushra Ansari\\anaconda3\\lib\\site-packages\\statsmodels\\base\\model.py:566: ConvergenceWarning: Maximum Likelihood optimization failed to converge. Check mle_retvals\n",
      "  warnings.warn(\"Maximum Likelihood optimization failed to \"\n"
     ]
    },
    {
     "name": "stdout",
     "output_type": "stream",
     "text": [
      "ARIMA(0, 0, 2)x(2, 1, 2, 12)12 - AIC:122.59527340704315\n",
      "ARIMA(0, 0, 2)x(2, 2, 0, 12)12 - AIC:10.0\n",
      "ARIMA(0, 0, 2)x(2, 2, 1, 12)12 - AIC:12.0\n",
      "ARIMA(0, 0, 2)x(2, 2, 2, 12)12 - AIC:14.0\n",
      "ARIMA(0, 1, 0)x(0, 0, 0, 12)12 - AIC:677.8947668414504\n"
     ]
    },
    {
     "name": "stderr",
     "output_type": "stream",
     "text": [
      "C:\\Users\\Bushra Ansari\\anaconda3\\lib\\site-packages\\statsmodels\\base\\model.py:566: ConvergenceWarning: Maximum Likelihood optimization failed to converge. Check mle_retvals\n",
      "  warnings.warn(\"Maximum Likelihood optimization failed to \"\n"
     ]
    },
    {
     "name": "stdout",
     "output_type": "stream",
     "text": [
      "ARIMA(0, 1, 0)x(0, 0, 1, 12)12 - AIC:1458.890677322674\n",
      "ARIMA(0, 1, 0)x(0, 0, 2, 12)12 - AIC:315.54758780433906\n",
      "ARIMA(0, 1, 0)x(0, 1, 0, 12)12 - AIC:486.6378567211039\n",
      "ARIMA(0, 1, 0)x(0, 1, 1, 12)12 - AIC:304.96712281679555\n",
      "ARIMA(0, 1, 0)x(0, 1, 2, 12)12 - AIC:139.90087903199907\n",
      "ARIMA(0, 1, 0)x(0, 2, 0, 12)12 - AIC:334.97781229775893\n",
      "ARIMA(0, 1, 0)x(0, 2, 1, 12)12 - AIC:139.41258905664606\n",
      "ARIMA(0, 1, 0)x(0, 2, 2, 12)12 - AIC:6.0\n",
      "ARIMA(0, 1, 0)x(1, 0, 0, 12)12 - AIC:497.7889663004408\n"
     ]
    },
    {
     "name": "stderr",
     "output_type": "stream",
     "text": [
      "C:\\Users\\Bushra Ansari\\anaconda3\\lib\\site-packages\\statsmodels\\base\\model.py:566: ConvergenceWarning: Maximum Likelihood optimization failed to converge. Check mle_retvals\n",
      "  warnings.warn(\"Maximum Likelihood optimization failed to \"\n"
     ]
    },
    {
     "name": "stdout",
     "output_type": "stream",
     "text": [
      "ARIMA(0, 1, 0)x(1, 0, 1, 12)12 - AIC:1387.4320077629673\n",
      "ARIMA(0, 1, 0)x(1, 0, 2, 12)12 - AIC:306.3042741397358\n",
      "ARIMA(0, 1, 0)x(1, 1, 0, 12)12 - AIC:319.7714068109212\n",
      "ARIMA(0, 1, 0)x(1, 1, 1, 12)12 - AIC:306.91132001514467\n"
     ]
    },
    {
     "name": "stderr",
     "output_type": "stream",
     "text": [
      "C:\\Users\\Bushra Ansari\\anaconda3\\lib\\site-packages\\statsmodels\\base\\model.py:566: ConvergenceWarning: Maximum Likelihood optimization failed to converge. Check mle_retvals\n",
      "  warnings.warn(\"Maximum Likelihood optimization failed to \"\n"
     ]
    },
    {
     "name": "stdout",
     "output_type": "stream",
     "text": [
      "ARIMA(0, 1, 0)x(1, 1, 2, 12)12 - AIC:141.94935419827473\n",
      "ARIMA(0, 1, 0)x(1, 2, 0, 12)12 - AIC:152.42852106596328\n"
     ]
    },
    {
     "name": "stderr",
     "output_type": "stream",
     "text": [
      "C:\\Users\\Bushra Ansari\\anaconda3\\lib\\site-packages\\statsmodels\\base\\model.py:566: ConvergenceWarning: Maximum Likelihood optimization failed to converge. Check mle_retvals\n",
      "  warnings.warn(\"Maximum Likelihood optimization failed to \"\n"
     ]
    },
    {
     "name": "stdout",
     "output_type": "stream",
     "text": [
      "ARIMA(0, 1, 0)x(1, 2, 1, 12)12 - AIC:141.41111741671125\n",
      "ARIMA(0, 1, 0)x(1, 2, 2, 12)12 - AIC:8.0\n",
      "ARIMA(0, 1, 0)x(2, 0, 0, 12)12 - AIC:317.69402237661177\n",
      "ARIMA(0, 1, 0)x(2, 0, 1, 12)12 - AIC:932.8180348619751\n"
     ]
    },
    {
     "name": "stderr",
     "output_type": "stream",
     "text": [
      "C:\\Users\\Bushra Ansari\\anaconda3\\lib\\site-packages\\statsmodels\\base\\model.py:566: ConvergenceWarning: Maximum Likelihood optimization failed to converge. Check mle_retvals\n",
      "  warnings.warn(\"Maximum Likelihood optimization failed to \"\n"
     ]
    },
    {
     "name": "stdout",
     "output_type": "stream",
     "text": [
      "ARIMA(0, 1, 0)x(2, 0, 2, 12)12 - AIC:307.0515052415531\n",
      "ARIMA(0, 1, 0)x(2, 1, 0, 12)12 - AIC:153.33829187964875\n",
      "ARIMA(0, 1, 0)x(2, 1, 1, 12)12 - AIC:155.0384623709436\n"
     ]
    },
    {
     "name": "stderr",
     "output_type": "stream",
     "text": [
      "C:\\Users\\Bushra Ansari\\anaconda3\\lib\\site-packages\\statsmodels\\base\\model.py:566: ConvergenceWarning: Maximum Likelihood optimization failed to converge. Check mle_retvals\n",
      "  warnings.warn(\"Maximum Likelihood optimization failed to \"\n"
     ]
    },
    {
     "name": "stdout",
     "output_type": "stream",
     "text": [
      "ARIMA(0, 1, 0)x(2, 1, 2, 12)12 - AIC:143.81214702354484\n",
      "ARIMA(0, 1, 0)x(2, 2, 0, 12)12 - AIC:6.0\n",
      "ARIMA(0, 1, 0)x(2, 2, 1, 12)12 - AIC:8.0\n",
      "ARIMA(0, 1, 0)x(2, 2, 2, 12)12 - AIC:10.0\n",
      "ARIMA(0, 1, 1)x(0, 0, 0, 12)12 - AIC:649.9056176817387\n",
      "ARIMA(0, 1, 1)x(0, 0, 1, 12)12 - AIC:2482.6024679943994\n",
      "ARIMA(0, 1, 1)x(0, 0, 2, 12)12 - AIC:295.4984100653544\n",
      "ARIMA(0, 1, 1)x(0, 1, 0, 12)12 - AIC:458.87055484827516\n",
      "ARIMA(0, 1, 1)x(0, 1, 1, 12)12 - AIC:279.5806233411625\n",
      "ARIMA(0, 1, 1)x(0, 1, 2, 12)12 - AIC:124.25148374266898\n",
      "ARIMA(0, 1, 1)x(0, 2, 0, 12)12 - AIC:317.1957697239934\n",
      "ARIMA(0, 1, 1)x(0, 2, 1, 12)12 - AIC:123.18774195984761\n",
      "ARIMA(0, 1, 1)x(0, 2, 2, 12)12 - AIC:8.0\n",
      "ARIMA(0, 1, 1)x(1, 0, 0, 12)12 - AIC:486.1832977442629\n"
     ]
    },
    {
     "name": "stderr",
     "output_type": "stream",
     "text": [
      "C:\\Users\\Bushra Ansari\\anaconda3\\lib\\site-packages\\statsmodels\\base\\model.py:566: ConvergenceWarning: Maximum Likelihood optimization failed to converge. Check mle_retvals\n",
      "  warnings.warn(\"Maximum Likelihood optimization failed to \"\n"
     ]
    },
    {
     "name": "stdout",
     "output_type": "stream",
     "text": [
      "ARIMA(0, 1, 1)x(1, 0, 1, 12)12 - AIC:1634.8090843898367\n"
     ]
    },
    {
     "name": "stderr",
     "output_type": "stream",
     "text": [
      "C:\\Users\\Bushra Ansari\\anaconda3\\lib\\site-packages\\statsmodels\\base\\model.py:566: ConvergenceWarning: Maximum Likelihood optimization failed to converge. Check mle_retvals\n",
      "  warnings.warn(\"Maximum Likelihood optimization failed to \"\n"
     ]
    },
    {
     "name": "stdout",
     "output_type": "stream",
     "text": [
      "ARIMA(0, 1, 1)x(1, 0, 2, 12)12 - AIC:289.02076553258684\n",
      "ARIMA(0, 1, 1)x(1, 1, 0, 12)12 - AIC:310.75743684174756\n",
      "ARIMA(0, 1, 1)x(1, 1, 1, 12)12 - AIC:281.5576621461245\n",
      "ARIMA(0, 1, 1)x(1, 1, 2, 12)12 - AIC:126.07741157123083\n",
      "ARIMA(0, 1, 1)x(1, 2, 0, 12)12 - AIC:154.4175410259362\n",
      "ARIMA(0, 1, 1)x(1, 2, 1, 12)12 - AIC:125.15199080628011\n",
      "ARIMA(0, 1, 1)x(1, 2, 2, 12)12 - AIC:10.0\n",
      "ARIMA(0, 1, 1)x(2, 0, 0, 12)12 - AIC:311.85906742412055\n"
     ]
    },
    {
     "name": "stderr",
     "output_type": "stream",
     "text": [
      "C:\\Users\\Bushra Ansari\\anaconda3\\lib\\site-packages\\statsmodels\\base\\model.py:566: ConvergenceWarning: Maximum Likelihood optimization failed to converge. Check mle_retvals\n",
      "  warnings.warn(\"Maximum Likelihood optimization failed to \"\n"
     ]
    },
    {
     "name": "stdout",
     "output_type": "stream",
     "text": [
      "ARIMA(0, 1, 1)x(2, 0, 1, 12)12 - AIC:940.5190811202177\n",
      "ARIMA(0, 1, 1)x(2, 0, 2, 12)12 - AIC:287.508895419754\n",
      "ARIMA(0, 1, 1)x(2, 1, 0, 12)12 - AIC:149.57227369321998\n",
      "ARIMA(0, 1, 1)x(2, 1, 1, 12)12 - AIC:151.43439374516626\n"
     ]
    },
    {
     "name": "stderr",
     "output_type": "stream",
     "text": [
      "C:\\Users\\Bushra Ansari\\anaconda3\\lib\\site-packages\\statsmodels\\base\\model.py:566: ConvergenceWarning: Maximum Likelihood optimization failed to converge. Check mle_retvals\n",
      "  warnings.warn(\"Maximum Likelihood optimization failed to \"\n"
     ]
    },
    {
     "name": "stdout",
     "output_type": "stream",
     "text": [
      "ARIMA(0, 1, 1)x(2, 1, 2, 12)12 - AIC:128.07526329150824\n",
      "ARIMA(0, 1, 1)x(2, 2, 0, 12)12 - AIC:8.0\n",
      "ARIMA(0, 1, 1)x(2, 2, 1, 12)12 - AIC:10.0\n",
      "ARIMA(0, 1, 1)x(2, 2, 2, 12)12 - AIC:12.0\n",
      "ARIMA(0, 1, 2)x(0, 0, 0, 12)12 - AIC:634.8844283595557\n",
      "ARIMA(0, 1, 2)x(0, 0, 1, 12)12 - AIC:2491.9450426834446\n"
     ]
    },
    {
     "name": "stderr",
     "output_type": "stream",
     "text": [
      "C:\\Users\\Bushra Ansari\\anaconda3\\lib\\site-packages\\statsmodels\\base\\model.py:566: ConvergenceWarning: Maximum Likelihood optimization failed to converge. Check mle_retvals\n",
      "  warnings.warn(\"Maximum Likelihood optimization failed to \"\n"
     ]
    },
    {
     "name": "stdout",
     "output_type": "stream",
     "text": [
      "ARIMA(0, 1, 2)x(0, 0, 2, 12)12 - AIC:283.60087644656045\n",
      "ARIMA(0, 1, 2)x(0, 1, 0, 12)12 - AIC:447.5857396952861\n",
      "ARIMA(0, 1, 2)x(0, 1, 1, 12)12 - AIC:269.83259451638094\n",
      "ARIMA(0, 1, 2)x(0, 1, 2, 12)12 - AIC:109.97825467856873\n",
      "ARIMA(0, 1, 2)x(0, 2, 0, 12)12 - AIC:305.03445359431646\n",
      "ARIMA(0, 1, 2)x(0, 2, 1, 12)12 - AIC:112.17910628360897\n",
      "ARIMA(0, 1, 2)x(0, 2, 2, 12)12 - AIC:10.0\n",
      "ARIMA(0, 1, 2)x(1, 0, 0, 12)12 - AIC:487.49869126828924\n",
      "ARIMA(0, 1, 2)x(1, 0, 1, 12)12 - AIC:2402.3860192672846\n"
     ]
    },
    {
     "name": "stderr",
     "output_type": "stream",
     "text": [
      "C:\\Users\\Bushra Ansari\\anaconda3\\lib\\site-packages\\statsmodels\\base\\model.py:566: ConvergenceWarning: Maximum Likelihood optimization failed to converge. Check mle_retvals\n",
      "  warnings.warn(\"Maximum Likelihood optimization failed to \"\n"
     ]
    },
    {
     "name": "stdout",
     "output_type": "stream",
     "text": [
      "ARIMA(0, 1, 2)x(1, 0, 2, 12)12 - AIC:276.4075358738751\n",
      "ARIMA(0, 1, 2)x(1, 1, 0, 12)12 - AIC:310.7338930728119\n",
      "ARIMA(0, 1, 2)x(1, 1, 1, 12)12 - AIC:271.79356960698556\n"
     ]
    },
    {
     "name": "stderr",
     "output_type": "stream",
     "text": [
      "C:\\Users\\Bushra Ansari\\anaconda3\\lib\\site-packages\\statsmodels\\base\\model.py:566: ConvergenceWarning: Maximum Likelihood optimization failed to converge. Check mle_retvals\n",
      "  warnings.warn(\"Maximum Likelihood optimization failed to \"\n"
     ]
    },
    {
     "name": "stdout",
     "output_type": "stream",
     "text": [
      "ARIMA(0, 1, 2)x(1, 1, 2, 12)12 - AIC:112.97468410941119\n",
      "ARIMA(0, 1, 2)x(1, 2, 0, 12)12 - AIC:154.69701034326533\n"
     ]
    },
    {
     "name": "stderr",
     "output_type": "stream",
     "text": [
      "C:\\Users\\Bushra Ansari\\anaconda3\\lib\\site-packages\\statsmodels\\base\\model.py:566: ConvergenceWarning: Maximum Likelihood optimization failed to converge. Check mle_retvals\n",
      "  warnings.warn(\"Maximum Likelihood optimization failed to \"\n"
     ]
    },
    {
     "name": "stdout",
     "output_type": "stream",
     "text": [
      "ARIMA(0, 1, 2)x(1, 2, 1, 12)12 - AIC:113.38656635695176\n",
      "ARIMA(0, 1, 2)x(1, 2, 2, 12)12 - AIC:12.0\n",
      "ARIMA(0, 1, 2)x(2, 0, 0, 12)12 - AIC:313.482384717017\n"
     ]
    },
    {
     "name": "stderr",
     "output_type": "stream",
     "text": [
      "C:\\Users\\Bushra Ansari\\anaconda3\\lib\\site-packages\\statsmodels\\base\\model.py:566: ConvergenceWarning: Maximum Likelihood optimization failed to converge. Check mle_retvals\n",
      "  warnings.warn(\"Maximum Likelihood optimization failed to \"\n"
     ]
    },
    {
     "name": "stdout",
     "output_type": "stream",
     "text": [
      "ARIMA(0, 1, 2)x(2, 0, 1, 12)12 - AIC:818.9986303517778\n",
      "ARIMA(0, 1, 2)x(2, 0, 2, 12)12 - AIC:275.74365019057177\n",
      "ARIMA(0, 1, 2)x(2, 1, 0, 12)12 - AIC:151.1905645906412\n"
     ]
    },
    {
     "name": "stderr",
     "output_type": "stream",
     "text": [
      "C:\\Users\\Bushra Ansari\\anaconda3\\lib\\site-packages\\statsmodels\\base\\model.py:566: ConvergenceWarning: Maximum Likelihood optimization failed to converge. Check mle_retvals\n",
      "  warnings.warn(\"Maximum Likelihood optimization failed to \"\n"
     ]
    },
    {
     "name": "stdout",
     "output_type": "stream",
     "text": [
      "ARIMA(0, 1, 2)x(2, 1, 1, 12)12 - AIC:153.3460237910153\n"
     ]
    },
    {
     "name": "stderr",
     "output_type": "stream",
     "text": [
      "C:\\Users\\Bushra Ansari\\anaconda3\\lib\\site-packages\\statsmodels\\base\\model.py:566: ConvergenceWarning: Maximum Likelihood optimization failed to converge. Check mle_retvals\n",
      "  warnings.warn(\"Maximum Likelihood optimization failed to \"\n"
     ]
    },
    {
     "name": "stdout",
     "output_type": "stream",
     "text": [
      "ARIMA(0, 1, 2)x(2, 1, 2, 12)12 - AIC:113.92632097860769\n",
      "ARIMA(0, 1, 2)x(2, 2, 0, 12)12 - AIC:10.0\n",
      "ARIMA(0, 1, 2)x(2, 2, 1, 12)12 - AIC:12.0\n",
      "ARIMA(0, 1, 2)x(2, 2, 2, 12)12 - AIC:14.0\n",
      "ARIMA(0, 2, 0)x(0, 0, 0, 12)12 - AIC:710.1125557024402\n"
     ]
    },
    {
     "name": "stderr",
     "output_type": "stream",
     "text": [
      "C:\\Users\\Bushra Ansari\\anaconda3\\lib\\site-packages\\statsmodels\\base\\model.py:566: ConvergenceWarning: Maximum Likelihood optimization failed to converge. Check mle_retvals\n",
      "  warnings.warn(\"Maximum Likelihood optimization failed to \"\n"
     ]
    },
    {
     "name": "stdout",
     "output_type": "stream",
     "text": [
      "ARIMA(0, 2, 0)x(0, 0, 1, 12)12 - AIC:1215.620388711466\n",
      "ARIMA(0, 2, 0)x(0, 0, 2, 12)12 - AIC:319.131703209972\n",
      "ARIMA(0, 2, 0)x(0, 1, 0, 12)12 - AIC:509.89680952051333\n",
      "ARIMA(0, 2, 0)x(0, 1, 1, 12)12 - AIC:315.58973980075683\n",
      "ARIMA(0, 2, 0)x(0, 1, 2, 12)12 - AIC:128.8600146180435\n",
      "ARIMA(0, 2, 0)x(0, 2, 0, 12)12 - AIC:342.9544197962702\n",
      "ARIMA(0, 2, 0)x(0, 2, 1, 12)12 - AIC:127.63190004588702\n",
      "ARIMA(0, 2, 0)x(0, 2, 2, 12)12 - AIC:6.0\n",
      "ARIMA(0, 2, 0)x(1, 0, 0, 12)12 - AIC:520.887712617653\n"
     ]
    },
    {
     "name": "stderr",
     "output_type": "stream",
     "text": [
      "C:\\Users\\Bushra Ansari\\anaconda3\\lib\\site-packages\\statsmodels\\base\\model.py:566: ConvergenceWarning: Maximum Likelihood optimization failed to converge. Check mle_retvals\n",
      "  warnings.warn(\"Maximum Likelihood optimization failed to \"\n"
     ]
    },
    {
     "name": "stdout",
     "output_type": "stream",
     "text": [
      "ARIMA(0, 2, 0)x(1, 0, 1, 12)12 - AIC:1262.2839497924422\n",
      "ARIMA(0, 2, 0)x(1, 0, 2, 12)12 - AIC:311.3535200783278\n",
      "ARIMA(0, 2, 0)x(1, 1, 0, 12)12 - AIC:331.2504844685115\n",
      "ARIMA(0, 2, 0)x(1, 1, 1, 12)12 - AIC:317.5552326946505\n",
      "ARIMA(0, 2, 0)x(1, 1, 2, 12)12 - AIC:130.8845696163819\n",
      "ARIMA(0, 2, 0)x(1, 2, 0, 12)12 - AIC:141.68398673297636\n"
     ]
    },
    {
     "name": "stderr",
     "output_type": "stream",
     "text": [
      "C:\\Users\\Bushra Ansari\\anaconda3\\lib\\site-packages\\statsmodels\\base\\model.py:566: ConvergenceWarning: Maximum Likelihood optimization failed to converge. Check mle_retvals\n",
      "  warnings.warn(\"Maximum Likelihood optimization failed to \"\n"
     ]
    },
    {
     "name": "stdout",
     "output_type": "stream",
     "text": [
      "ARIMA(0, 2, 0)x(1, 2, 1, 12)12 - AIC:129.5207470616439\n",
      "ARIMA(0, 2, 0)x(1, 2, 2, 12)12 - AIC:8.0\n",
      "ARIMA(0, 2, 0)x(2, 0, 0, 12)12 - AIC:327.5955004314904\n"
     ]
    },
    {
     "name": "stderr",
     "output_type": "stream",
     "text": [
      "C:\\Users\\Bushra Ansari\\anaconda3\\lib\\site-packages\\statsmodels\\base\\model.py:566: ConvergenceWarning: Maximum Likelihood optimization failed to converge. Check mle_retvals\n",
      "  warnings.warn(\"Maximum Likelihood optimization failed to \"\n"
     ]
    },
    {
     "name": "stdout",
     "output_type": "stream",
     "text": [
      "ARIMA(0, 2, 0)x(2, 0, 1, 12)12 - AIC:959.988214524675\n",
      "ARIMA(0, 2, 0)x(2, 0, 2, 12)12 - AIC:312.2057126442319\n",
      "ARIMA(0, 2, 0)x(2, 1, 0, 12)12 - AIC:143.52744982862265\n",
      "ARIMA(0, 2, 0)x(2, 1, 1, 12)12 - AIC:145.0966855017645\n"
     ]
    },
    {
     "name": "stderr",
     "output_type": "stream",
     "text": [
      "C:\\Users\\Bushra Ansari\\anaconda3\\lib\\site-packages\\statsmodels\\base\\model.py:566: ConvergenceWarning: Maximum Likelihood optimization failed to converge. Check mle_retvals\n",
      "  warnings.warn(\"Maximum Likelihood optimization failed to \"\n"
     ]
    },
    {
     "name": "stdout",
     "output_type": "stream",
     "text": [
      "ARIMA(0, 2, 0)x(2, 1, 2, 12)12 - AIC:132.67725613806724\n",
      "ARIMA(0, 2, 0)x(2, 2, 0, 12)12 - AIC:6.0\n",
      "ARIMA(0, 2, 0)x(2, 2, 1, 12)12 - AIC:8.0\n",
      "ARIMA(0, 2, 0)x(2, 2, 2, 12)12 - AIC:10.0\n",
      "ARIMA(0, 2, 1)x(0, 0, 0, 12)12 - AIC:652.8685965207345\n"
     ]
    },
    {
     "name": "stderr",
     "output_type": "stream",
     "text": [
      "C:\\Users\\Bushra Ansari\\anaconda3\\lib\\site-packages\\statsmodels\\base\\model.py:566: ConvergenceWarning: Maximum Likelihood optimization failed to converge. Check mle_retvals\n",
      "  warnings.warn(\"Maximum Likelihood optimization failed to \"\n"
     ]
    },
    {
     "name": "stdout",
     "output_type": "stream",
     "text": [
      "ARIMA(0, 2, 1)x(0, 0, 1, 12)12 - AIC:1097.584051695736\n",
      "ARIMA(0, 2, 1)x(0, 0, 2, 12)12 - AIC:288.6859049830033\n",
      "ARIMA(0, 2, 1)x(0, 1, 0, 12)12 - AIC:463.034654427939\n",
      "ARIMA(0, 2, 1)x(0, 1, 1, 12)12 - AIC:282.24604671049957\n",
      "ARIMA(0, 2, 1)x(0, 1, 2, 12)12 - AIC:114.86320979566533\n",
      "ARIMA(0, 2, 1)x(0, 2, 0, 12)12 - AIC:310.3285223971802\n",
      "ARIMA(0, 2, 1)x(0, 2, 1, 12)12 - AIC:112.08533450101373\n",
      "ARIMA(0, 2, 1)x(0, 2, 2, 12)12 - AIC:8.0\n",
      "ARIMA(0, 2, 1)x(1, 0, 0, 12)12 - AIC:489.9458560734445\n"
     ]
    },
    {
     "name": "stderr",
     "output_type": "stream",
     "text": [
      "C:\\Users\\Bushra Ansari\\anaconda3\\lib\\site-packages\\statsmodels\\base\\model.py:566: ConvergenceWarning: Maximum Likelihood optimization failed to converge. Check mle_retvals\n",
      "  warnings.warn(\"Maximum Likelihood optimization failed to \"\n"
     ]
    },
    {
     "name": "stdout",
     "output_type": "stream",
     "text": [
      "ARIMA(0, 2, 1)x(1, 0, 1, 12)12 - AIC:1175.957600113636\n"
     ]
    },
    {
     "name": "stderr",
     "output_type": "stream",
     "text": [
      "C:\\Users\\Bushra Ansari\\anaconda3\\lib\\site-packages\\statsmodels\\base\\model.py:566: ConvergenceWarning: Maximum Likelihood optimization failed to converge. Check mle_retvals\n",
      "  warnings.warn(\"Maximum Likelihood optimization failed to \"\n"
     ]
    },
    {
     "name": "stdout",
     "output_type": "stream",
     "text": [
      "ARIMA(0, 2, 1)x(1, 0, 2, 12)12 - AIC:284.90865644320036\n",
      "ARIMA(0, 2, 1)x(1, 1, 0, 12)12 - AIC:310.9864728692646\n",
      "ARIMA(0, 2, 1)x(1, 1, 1, 12)12 - AIC:284.2354053255341\n"
     ]
    },
    {
     "name": "stderr",
     "output_type": "stream",
     "text": [
      "C:\\Users\\Bushra Ansari\\anaconda3\\lib\\site-packages\\statsmodels\\base\\model.py:566: ConvergenceWarning: Maximum Likelihood optimization failed to converge. Check mle_retvals\n",
      "  warnings.warn(\"Maximum Likelihood optimization failed to \"\n"
     ]
    },
    {
     "name": "stdout",
     "output_type": "stream",
     "text": [
      "ARIMA(0, 2, 1)x(1, 1, 2, 12)12 - AIC:116.63494303369728\n",
      "ARIMA(0, 2, 1)x(1, 2, 0, 12)12 - AIC:143.27935910507574\n",
      "ARIMA(0, 2, 1)x(1, 2, 1, 12)12 - AIC:116.3462212351192\n",
      "ARIMA(0, 2, 1)x(1, 2, 2, 12)12 - AIC:10.0\n",
      "ARIMA(0, 2, 1)x(2, 0, 0, 12)12 - AIC:310.50562447090994\n"
     ]
    },
    {
     "name": "stderr",
     "output_type": "stream",
     "text": [
      "C:\\Users\\Bushra Ansari\\anaconda3\\lib\\site-packages\\statsmodels\\base\\model.py:566: ConvergenceWarning: Maximum Likelihood optimization failed to converge. Check mle_retvals\n",
      "  warnings.warn(\"Maximum Likelihood optimization failed to \"\n"
     ]
    },
    {
     "name": "stdout",
     "output_type": "stream",
     "text": [
      "ARIMA(0, 2, 1)x(2, 0, 1, 12)12 - AIC:892.3143608929578\n",
      "ARIMA(0, 2, 1)x(2, 0, 2, 12)12 - AIC:284.4723865209724\n",
      "ARIMA(0, 2, 1)x(2, 1, 0, 12)12 - AIC:142.29873089299008\n",
      "ARIMA(0, 2, 1)x(2, 1, 1, 12)12 - AIC:146.62326377538022\n"
     ]
    },
    {
     "name": "stderr",
     "output_type": "stream",
     "text": [
      "C:\\Users\\Bushra Ansari\\anaconda3\\lib\\site-packages\\statsmodels\\base\\model.py:566: ConvergenceWarning: Maximum Likelihood optimization failed to converge. Check mle_retvals\n",
      "  warnings.warn(\"Maximum Likelihood optimization failed to \"\n"
     ]
    },
    {
     "name": "stdout",
     "output_type": "stream",
     "text": [
      "ARIMA(0, 2, 1)x(2, 1, 2, 12)12 - AIC:117.89102853207044\n",
      "ARIMA(0, 2, 1)x(2, 2, 0, 12)12 - AIC:8.0\n",
      "ARIMA(0, 2, 1)x(2, 2, 1, 12)12 - AIC:10.0\n",
      "ARIMA(0, 2, 1)x(2, 2, 2, 12)12 - AIC:12.0\n",
      "ARIMA(0, 2, 2)x(0, 0, 0, 12)12 - AIC:628.8859101986712\n",
      "ARIMA(0, 2, 2)x(0, 0, 1, 12)12 - AIC:1181.4764758828185\n"
     ]
    },
    {
     "name": "stderr",
     "output_type": "stream",
     "text": [
      "C:\\Users\\Bushra Ansari\\anaconda3\\lib\\site-packages\\statsmodels\\base\\model.py:566: ConvergenceWarning: Maximum Likelihood optimization failed to converge. Check mle_retvals\n",
      "  warnings.warn(\"Maximum Likelihood optimization failed to \"\n"
     ]
    },
    {
     "name": "stdout",
     "output_type": "stream",
     "text": [
      "ARIMA(0, 2, 2)x(0, 0, 2, 12)12 - AIC:273.6722936404385\n",
      "ARIMA(0, 2, 2)x(0, 1, 0, 12)12 - AIC:440.1803441492682\n",
      "ARIMA(0, 2, 2)x(0, 1, 1, 12)12 - AIC:262.06304384742543\n"
     ]
    },
    {
     "name": "stderr",
     "output_type": "stream",
     "text": [
      "C:\\Users\\Bushra Ansari\\anaconda3\\lib\\site-packages\\statsmodels\\base\\model.py:566: ConvergenceWarning: Maximum Likelihood optimization failed to converge. Check mle_retvals\n",
      "  warnings.warn(\"Maximum Likelihood optimization failed to \"\n"
     ]
    },
    {
     "name": "stdout",
     "output_type": "stream",
     "text": [
      "ARIMA(0, 2, 2)x(0, 1, 2, 12)12 - AIC:99.04347047404113\n",
      "ARIMA(0, 2, 2)x(0, 2, 0, 12)12 - AIC:294.74667970544783\n",
      "ARIMA(0, 2, 2)x(0, 2, 1, 12)12 - AIC:96.60020987364369\n",
      "ARIMA(0, 2, 2)x(0, 2, 2, 12)12 - AIC:10.0\n",
      "ARIMA(0, 2, 2)x(1, 0, 0, 12)12 - AIC:482.9003702784564\n"
     ]
    },
    {
     "name": "stderr",
     "output_type": "stream",
     "text": [
      "C:\\Users\\Bushra Ansari\\anaconda3\\lib\\site-packages\\statsmodels\\base\\model.py:566: ConvergenceWarning: Maximum Likelihood optimization failed to converge. Check mle_retvals\n",
      "  warnings.warn(\"Maximum Likelihood optimization failed to \"\n"
     ]
    },
    {
     "name": "stdout",
     "output_type": "stream",
     "text": [
      "ARIMA(0, 2, 2)x(1, 0, 1, 12)12 - AIC:1358.4145441821925\n"
     ]
    },
    {
     "name": "stderr",
     "output_type": "stream",
     "text": [
      "C:\\Users\\Bushra Ansari\\anaconda3\\lib\\site-packages\\statsmodels\\base\\model.py:566: ConvergenceWarning: Maximum Likelihood optimization failed to converge. Check mle_retvals\n",
      "  warnings.warn(\"Maximum Likelihood optimization failed to \"\n"
     ]
    },
    {
     "name": "stdout",
     "output_type": "stream",
     "text": [
      "ARIMA(0, 2, 2)x(1, 0, 2, 12)12 - AIC:269.3540402750768\n",
      "ARIMA(0, 2, 2)x(1, 1, 0, 12)12 - AIC:305.8984452507645\n"
     ]
    },
    {
     "name": "stderr",
     "output_type": "stream",
     "text": [
      "C:\\Users\\Bushra Ansari\\anaconda3\\lib\\site-packages\\statsmodels\\base\\model.py:566: ConvergenceWarning: Maximum Likelihood optimization failed to converge. Check mle_retvals\n",
      "  warnings.warn(\"Maximum Likelihood optimization failed to \"\n"
     ]
    },
    {
     "name": "stdout",
     "output_type": "stream",
     "text": [
      "ARIMA(0, 2, 2)x(1, 1, 1, 12)12 - AIC:263.5280180410615\n"
     ]
    },
    {
     "name": "stderr",
     "output_type": "stream",
     "text": [
      "C:\\Users\\Bushra Ansari\\anaconda3\\lib\\site-packages\\statsmodels\\base\\model.py:566: ConvergenceWarning: Maximum Likelihood optimization failed to converge. Check mle_retvals\n",
      "  warnings.warn(\"Maximum Likelihood optimization failed to \"\n"
     ]
    },
    {
     "name": "stdout",
     "output_type": "stream",
     "text": [
      "ARIMA(0, 2, 2)x(1, 1, 2, 12)12 - AIC:101.05164993364158\n",
      "ARIMA(0, 2, 2)x(1, 2, 0, 12)12 - AIC:145.59346406213456\n"
     ]
    },
    {
     "name": "stderr",
     "output_type": "stream",
     "text": [
      "C:\\Users\\Bushra Ansari\\anaconda3\\lib\\site-packages\\statsmodels\\base\\model.py:566: ConvergenceWarning: Maximum Likelihood optimization failed to converge. Check mle_retvals\n",
      "  warnings.warn(\"Maximum Likelihood optimization failed to \"\n"
     ]
    },
    {
     "name": "stdout",
     "output_type": "stream",
     "text": [
      "ARIMA(0, 2, 2)x(1, 2, 1, 12)12 - AIC:98.90915447788953\n",
      "ARIMA(0, 2, 2)x(1, 2, 2, 12)12 - AIC:12.0\n",
      "ARIMA(0, 2, 2)x(2, 0, 0, 12)12 - AIC:306.3280772163003\n"
     ]
    },
    {
     "name": "stderr",
     "output_type": "stream",
     "text": [
      "C:\\Users\\Bushra Ansari\\anaconda3\\lib\\site-packages\\statsmodels\\base\\model.py:566: ConvergenceWarning: Maximum Likelihood optimization failed to converge. Check mle_retvals\n",
      "  warnings.warn(\"Maximum Likelihood optimization failed to \"\n"
     ]
    },
    {
     "name": "stdout",
     "output_type": "stream",
     "text": [
      "ARIMA(0, 2, 2)x(2, 0, 1, 12)12 - AIC:950.341501544316\n"
     ]
    },
    {
     "name": "stderr",
     "output_type": "stream",
     "text": [
      "C:\\Users\\Bushra Ansari\\anaconda3\\lib\\site-packages\\statsmodels\\base\\model.py:566: ConvergenceWarning: Maximum Likelihood optimization failed to converge. Check mle_retvals\n",
      "  warnings.warn(\"Maximum Likelihood optimization failed to \"\n"
     ]
    },
    {
     "name": "stdout",
     "output_type": "stream",
     "text": [
      "ARIMA(0, 2, 2)x(2, 0, 2, 12)12 - AIC:269.333599012312\n"
     ]
    },
    {
     "name": "stderr",
     "output_type": "stream",
     "text": [
      "C:\\Users\\Bushra Ansari\\anaconda3\\lib\\site-packages\\statsmodels\\base\\model.py:566: ConvergenceWarning: Maximum Likelihood optimization failed to converge. Check mle_retvals\n",
      "  warnings.warn(\"Maximum Likelihood optimization failed to \"\n"
     ]
    },
    {
     "name": "stdout",
     "output_type": "stream",
     "text": [
      "ARIMA(0, 2, 2)x(2, 1, 0, 12)12 - AIC:140.8637766259286\n"
     ]
    },
    {
     "name": "stderr",
     "output_type": "stream",
     "text": [
      "C:\\Users\\Bushra Ansari\\anaconda3\\lib\\site-packages\\statsmodels\\base\\model.py:566: ConvergenceWarning: Maximum Likelihood optimization failed to converge. Check mle_retvals\n",
      "  warnings.warn(\"Maximum Likelihood optimization failed to \"\n"
     ]
    },
    {
     "name": "stdout",
     "output_type": "stream",
     "text": [
      "ARIMA(0, 2, 2)x(2, 1, 1, 12)12 - AIC:143.11164750422844\n"
     ]
    },
    {
     "name": "stderr",
     "output_type": "stream",
     "text": [
      "C:\\Users\\Bushra Ansari\\anaconda3\\lib\\site-packages\\statsmodels\\base\\model.py:566: ConvergenceWarning: Maximum Likelihood optimization failed to converge. Check mle_retvals\n",
      "  warnings.warn(\"Maximum Likelihood optimization failed to \"\n"
     ]
    },
    {
     "name": "stdout",
     "output_type": "stream",
     "text": [
      "ARIMA(0, 2, 2)x(2, 1, 2, 12)12 - AIC:107.09358286260722\n",
      "ARIMA(0, 2, 2)x(2, 2, 0, 12)12 - AIC:10.0\n",
      "ARIMA(0, 2, 2)x(2, 2, 1, 12)12 - AIC:12.0\n",
      "ARIMA(0, 2, 2)x(2, 2, 2, 12)12 - AIC:14.0\n"
     ]
    },
    {
     "name": "stderr",
     "output_type": "stream",
     "text": [
      "C:\\Users\\Bushra Ansari\\anaconda3\\lib\\site-packages\\statsmodels\\base\\model.py:566: ConvergenceWarning: Maximum Likelihood optimization failed to converge. Check mle_retvals\n",
      "  warnings.warn(\"Maximum Likelihood optimization failed to \"\n"
     ]
    },
    {
     "name": "stdout",
     "output_type": "stream",
     "text": [
      "ARIMA(1, 0, 0)x(0, 0, 0, 12)12 - AIC:692.1645522067712\n",
      "ARIMA(1, 0, 0)x(0, 0, 1, 12)12 - AIC:1556.0399256830576\n",
      "ARIMA(1, 0, 0)x(0, 0, 2, 12)12 - AIC:329.8577321597476\n",
      "ARIMA(1, 0, 0)x(0, 1, 0, 12)12 - AIC:479.4632147852136\n",
      "ARIMA(1, 0, 0)x(0, 1, 1, 12)12 - AIC:304.2077675160968\n",
      "ARIMA(1, 0, 0)x(0, 1, 2, 12)12 - AIC:148.46829552146298\n",
      "ARIMA(1, 0, 0)x(0, 2, 0, 12)12 - AIC:338.2224810186686\n",
      "ARIMA(1, 0, 0)x(0, 2, 1, 12)12 - AIC:151.84507831803262\n",
      "ARIMA(1, 0, 0)x(0, 2, 2, 12)12 - AIC:8.0\n",
      "ARIMA(1, 0, 0)x(1, 0, 0, 12)12 - AIC:480.92593679352115\n"
     ]
    },
    {
     "name": "stderr",
     "output_type": "stream",
     "text": [
      "C:\\Users\\Bushra Ansari\\anaconda3\\lib\\site-packages\\statsmodels\\base\\model.py:566: ConvergenceWarning: Maximum Likelihood optimization failed to converge. Check mle_retvals\n",
      "  warnings.warn(\"Maximum Likelihood optimization failed to \"\n"
     ]
    },
    {
     "name": "stdout",
     "output_type": "stream",
     "text": [
      "ARIMA(1, 0, 0)x(1, 0, 1, 12)12 - AIC:1022.5669273068213\n"
     ]
    },
    {
     "name": "stderr",
     "output_type": "stream",
     "text": [
      "C:\\Users\\Bushra Ansari\\anaconda3\\lib\\site-packages\\statsmodels\\base\\model.py:566: ConvergenceWarning: Maximum Likelihood optimization failed to converge. Check mle_retvals\n",
      "  warnings.warn(\"Maximum Likelihood optimization failed to \"\n"
     ]
    },
    {
     "name": "stdout",
     "output_type": "stream",
     "text": [
      "ARIMA(1, 0, 0)x(1, 0, 2, 12)12 - AIC:311.92092676270164\n",
      "ARIMA(1, 0, 0)x(1, 1, 0, 12)12 - AIC:304.466467508459\n",
      "ARIMA(1, 0, 0)x(1, 1, 1, 12)12 - AIC:304.58426921437973\n",
      "ARIMA(1, 0, 0)x(1, 1, 2, 12)12 - AIC:150.46626820645488\n",
      "ARIMA(1, 0, 0)x(1, 2, 0, 12)12 - AIC:151.388203675642\n"
     ]
    },
    {
     "name": "stderr",
     "output_type": "stream",
     "text": [
      "C:\\Users\\Bushra Ansari\\anaconda3\\lib\\site-packages\\statsmodels\\base\\model.py:566: ConvergenceWarning: Maximum Likelihood optimization failed to converge. Check mle_retvals\n",
      "  warnings.warn(\"Maximum Likelihood optimization failed to \"\n"
     ]
    },
    {
     "name": "stdout",
     "output_type": "stream",
     "text": [
      "ARIMA(1, 0, 0)x(1, 2, 1, 12)12 - AIC:153.29394443542762\n",
      "ARIMA(1, 0, 0)x(1, 2, 2, 12)12 - AIC:10.0\n",
      "ARIMA(1, 0, 0)x(2, 0, 0, 12)12 - AIC:306.463949684273\n"
     ]
    },
    {
     "name": "stderr",
     "output_type": "stream",
     "text": [
      "C:\\Users\\Bushra Ansari\\anaconda3\\lib\\site-packages\\statsmodels\\base\\model.py:566: ConvergenceWarning: Maximum Likelihood optimization failed to converge. Check mle_retvals\n",
      "  warnings.warn(\"Maximum Likelihood optimization failed to \"\n"
     ]
    },
    {
     "name": "stdout",
     "output_type": "stream",
     "text": [
      "ARIMA(1, 0, 0)x(2, 0, 1, 12)12 - AIC:709.4762136922784\n"
     ]
    },
    {
     "name": "stderr",
     "output_type": "stream",
     "text": [
      "C:\\Users\\Bushra Ansari\\anaconda3\\lib\\site-packages\\statsmodels\\base\\model.py:566: ConvergenceWarning: Maximum Likelihood optimization failed to converge. Check mle_retvals\n",
      "  warnings.warn(\"Maximum Likelihood optimization failed to \"\n"
     ]
    },
    {
     "name": "stdout",
     "output_type": "stream",
     "text": [
      "ARIMA(1, 0, 0)x(2, 0, 2, 12)12 - AIC:309.8109407049156\n",
      "ARIMA(1, 0, 0)x(2, 1, 0, 12)12 - AIC:148.47129149084705\n",
      "ARIMA(1, 0, 0)x(2, 1, 1, 12)12 - AIC:150.47090738532597\n",
      "ARIMA(1, 0, 0)x(2, 1, 2, 12)12 - AIC:152.46207035734275\n",
      "ARIMA(1, 0, 0)x(2, 2, 0, 12)12 - AIC:8.0\n",
      "ARIMA(1, 0, 0)x(2, 2, 1, 12)12 - AIC:10.0\n",
      "ARIMA(1, 0, 0)x(2, 2, 2, 12)12 - AIC:12.0\n",
      "ARIMA(1, 0, 1)x(0, 0, 0, 12)12 - AIC:665.7794442185991\n"
     ]
    },
    {
     "name": "stderr",
     "output_type": "stream",
     "text": [
      "C:\\Users\\Bushra Ansari\\anaconda3\\lib\\site-packages\\statsmodels\\base\\model.py:566: ConvergenceWarning: Maximum Likelihood optimization failed to converge. Check mle_retvals\n",
      "  warnings.warn(\"Maximum Likelihood optimization failed to \"\n"
     ]
    },
    {
     "name": "stdout",
     "output_type": "stream",
     "text": [
      "ARIMA(1, 0, 1)x(0, 0, 1, 12)12 - AIC:2107.931167461749\n",
      "ARIMA(1, 0, 1)x(0, 0, 2, 12)12 - AIC:311.068230753554\n",
      "ARIMA(1, 0, 1)x(0, 1, 0, 12)12 - AIC:468.3685195814962\n",
      "ARIMA(1, 0, 1)x(0, 1, 1, 12)12 - AIC:293.342219396591\n",
      "ARIMA(1, 0, 1)x(0, 1, 2, 12)12 - AIC:137.44660510144524\n",
      "ARIMA(1, 0, 1)x(0, 2, 0, 12)12 - AIC:326.36049011937166\n",
      "ARIMA(1, 0, 1)x(0, 2, 1, 12)12 - AIC:140.00660547902197\n",
      "ARIMA(1, 0, 1)x(0, 2, 2, 12)12 - AIC:10.0\n",
      "ARIMA(1, 0, 1)x(1, 0, 0, 12)12 - AIC:482.57633238768034\n",
      "ARIMA(1, 0, 1)x(1, 0, 1, 12)12 - AIC:2177.178849906198\n"
     ]
    },
    {
     "name": "stderr",
     "output_type": "stream",
     "text": [
      "C:\\Users\\Bushra Ansari\\anaconda3\\lib\\site-packages\\statsmodels\\base\\model.py:566: ConvergenceWarning: Maximum Likelihood optimization failed to converge. Check mle_retvals\n",
      "  warnings.warn(\"Maximum Likelihood optimization failed to \"\n",
      "C:\\Users\\Bushra Ansari\\anaconda3\\lib\\site-packages\\statsmodels\\base\\model.py:566: ConvergenceWarning: Maximum Likelihood optimization failed to converge. Check mle_retvals\n",
      "  warnings.warn(\"Maximum Likelihood optimization failed to \"\n"
     ]
    },
    {
     "name": "stdout",
     "output_type": "stream",
     "text": [
      "ARIMA(1, 0, 1)x(1, 0, 2, 12)12 - AIC:301.02284834763276\n",
      "ARIMA(1, 0, 1)x(1, 1, 0, 12)12 - AIC:306.01560021768887\n",
      "ARIMA(1, 0, 1)x(1, 1, 1, 12)12 - AIC:293.751318812428\n",
      "ARIMA(1, 0, 1)x(1, 1, 2, 12)12 - AIC:139.5995560359549\n",
      "ARIMA(1, 0, 1)x(1, 2, 0, 12)12 - AIC:153.66789029612298\n",
      "ARIMA(1, 0, 1)x(1, 2, 1, 12)12 - AIC:138.87977123942528\n",
      "ARIMA(1, 0, 1)x(1, 2, 2, 12)12 - AIC:12.0\n",
      "ARIMA(1, 0, 1)x(2, 0, 0, 12)12 - AIC:309.7096567887332\n"
     ]
    },
    {
     "name": "stderr",
     "output_type": "stream",
     "text": [
      "C:\\Users\\Bushra Ansari\\anaconda3\\lib\\site-packages\\statsmodels\\base\\model.py:566: ConvergenceWarning: Maximum Likelihood optimization failed to converge. Check mle_retvals\n",
      "  warnings.warn(\"Maximum Likelihood optimization failed to \"\n"
     ]
    },
    {
     "name": "stdout",
     "output_type": "stream",
     "text": [
      "ARIMA(1, 0, 1)x(2, 0, 1, 12)12 - AIC:780.7152241520654\n"
     ]
    },
    {
     "name": "stderr",
     "output_type": "stream",
     "text": [
      "C:\\Users\\Bushra Ansari\\anaconda3\\lib\\site-packages\\statsmodels\\base\\model.py:566: ConvergenceWarning: Maximum Likelihood optimization failed to converge. Check mle_retvals\n",
      "  warnings.warn(\"Maximum Likelihood optimization failed to \"\n"
     ]
    },
    {
     "name": "stdout",
     "output_type": "stream",
     "text": [
      "ARIMA(1, 0, 1)x(2, 0, 2, 12)12 - AIC:298.7790915062413\n",
      "ARIMA(1, 0, 1)x(2, 1, 0, 12)12 - AIC:148.64415332320863\n",
      "ARIMA(1, 0, 1)x(2, 1, 1, 12)12 - AIC:152.4450399560287\n"
     ]
    },
    {
     "name": "stderr",
     "output_type": "stream",
     "text": [
      "C:\\Users\\Bushra Ansari\\anaconda3\\lib\\site-packages\\statsmodels\\base\\model.py:566: ConvergenceWarning: Maximum Likelihood optimization failed to converge. Check mle_retvals\n",
      "  warnings.warn(\"Maximum Likelihood optimization failed to \"\n"
     ]
    },
    {
     "name": "stdout",
     "output_type": "stream",
     "text": [
      "ARIMA(1, 0, 1)x(2, 1, 2, 12)12 - AIC:136.30013969828983\n",
      "ARIMA(1, 0, 1)x(2, 2, 0, 12)12 - AIC:10.0\n",
      "ARIMA(1, 0, 1)x(2, 2, 1, 12)12 - AIC:12.0\n",
      "ARIMA(1, 0, 1)x(2, 2, 2, 12)12 - AIC:14.0\n",
      "ARIMA(1, 0, 2)x(0, 0, 0, 12)12 - AIC:652.5371565502678\n",
      "ARIMA(1, 0, 2)x(0, 0, 1, 12)12 - AIC:2549.6889162297343\n"
     ]
    },
    {
     "name": "stderr",
     "output_type": "stream",
     "text": [
      "C:\\Users\\Bushra Ansari\\anaconda3\\lib\\site-packages\\statsmodels\\base\\model.py:566: ConvergenceWarning: Maximum Likelihood optimization failed to converge. Check mle_retvals\n",
      "  warnings.warn(\"Maximum Likelihood optimization failed to \"\n",
      "C:\\Users\\Bushra Ansari\\anaconda3\\lib\\site-packages\\statsmodels\\base\\model.py:566: ConvergenceWarning: Maximum Likelihood optimization failed to converge. Check mle_retvals\n",
      "  warnings.warn(\"Maximum Likelihood optimization failed to \"\n"
     ]
    },
    {
     "name": "stdout",
     "output_type": "stream",
     "text": [
      "ARIMA(1, 0, 2)x(0, 0, 2, 12)12 - AIC:298.3772820432883\n",
      "ARIMA(1, 0, 2)x(0, 1, 0, 12)12 - AIC:454.5162597159926\n",
      "ARIMA(1, 0, 2)x(0, 1, 1, 12)12 - AIC:277.758892759503\n"
     ]
    },
    {
     "name": "stderr",
     "output_type": "stream",
     "text": [
      "C:\\Users\\Bushra Ansari\\anaconda3\\lib\\site-packages\\statsmodels\\base\\model.py:566: ConvergenceWarning: Maximum Likelihood optimization failed to converge. Check mle_retvals\n",
      "  warnings.warn(\"Maximum Likelihood optimization failed to \"\n"
     ]
    },
    {
     "name": "stdout",
     "output_type": "stream",
     "text": [
      "ARIMA(1, 0, 2)x(0, 1, 2, 12)12 - AIC:122.83844516128259\n",
      "ARIMA(1, 0, 2)x(0, 2, 0, 12)12 - AIC:311.9686688259668\n"
     ]
    },
    {
     "name": "stderr",
     "output_type": "stream",
     "text": [
      "C:\\Users\\Bushra Ansari\\anaconda3\\lib\\site-packages\\statsmodels\\base\\model.py:566: ConvergenceWarning: Maximum Likelihood optimization failed to converge. Check mle_retvals\n",
      "  warnings.warn(\"Maximum Likelihood optimization failed to \"\n"
     ]
    },
    {
     "name": "stdout",
     "output_type": "stream",
     "text": [
      "ARIMA(1, 0, 2)x(0, 2, 1, 12)12 - AIC:120.0121926369795\n",
      "ARIMA(1, 0, 2)x(0, 2, 2, 12)12 - AIC:12.0\n",
      "ARIMA(1, 0, 2)x(1, 0, 0, 12)12 - AIC:483.9435796166859\n",
      "ARIMA(1, 0, 2)x(1, 0, 1, 12)12 - AIC:2128.5392633258493\n"
     ]
    },
    {
     "name": "stderr",
     "output_type": "stream",
     "text": [
      "C:\\Users\\Bushra Ansari\\anaconda3\\lib\\site-packages\\statsmodels\\base\\model.py:566: ConvergenceWarning: Maximum Likelihood optimization failed to converge. Check mle_retvals\n",
      "  warnings.warn(\"Maximum Likelihood optimization failed to \"\n"
     ]
    },
    {
     "name": "stdout",
     "output_type": "stream",
     "text": [
      "ARIMA(1, 0, 2)x(1, 0, 2, 12)12 - AIC:290.9909360603308\n",
      "ARIMA(1, 0, 2)x(1, 1, 0, 12)12 - AIC:305.8460722900972\n",
      "ARIMA(1, 0, 2)x(1, 1, 1, 12)12 - AIC:279.7400732255015\n"
     ]
    },
    {
     "name": "stderr",
     "output_type": "stream",
     "text": [
      "C:\\Users\\Bushra Ansari\\anaconda3\\lib\\site-packages\\statsmodels\\base\\model.py:566: ConvergenceWarning: Maximum Likelihood optimization failed to converge. Check mle_retvals\n",
      "  warnings.warn(\"Maximum Likelihood optimization failed to \"\n"
     ]
    },
    {
     "name": "stdout",
     "output_type": "stream",
     "text": [
      "ARIMA(1, 0, 2)x(1, 1, 2, 12)12 - AIC:124.37977814047629\n"
     ]
    },
    {
     "name": "stderr",
     "output_type": "stream",
     "text": [
      "C:\\Users\\Bushra Ansari\\anaconda3\\lib\\site-packages\\statsmodels\\base\\model.py:566: ConvergenceWarning: Maximum Likelihood optimization failed to converge. Check mle_retvals\n",
      "  warnings.warn(\"Maximum Likelihood optimization failed to \"\n"
     ]
    },
    {
     "name": "stdout",
     "output_type": "stream",
     "text": [
      "ARIMA(1, 0, 2)x(1, 2, 0, 12)12 - AIC:153.2389210962732\n"
     ]
    },
    {
     "name": "stderr",
     "output_type": "stream",
     "text": [
      "C:\\Users\\Bushra Ansari\\anaconda3\\lib\\site-packages\\statsmodels\\base\\model.py:566: ConvergenceWarning: Maximum Likelihood optimization failed to converge. Check mle_retvals\n",
      "  warnings.warn(\"Maximum Likelihood optimization failed to \"\n"
     ]
    },
    {
     "name": "stdout",
     "output_type": "stream",
     "text": [
      "ARIMA(1, 0, 2)x(1, 2, 1, 12)12 - AIC:120.16199793037516\n",
      "ARIMA(1, 0, 2)x(1, 2, 2, 12)12 - AIC:14.0\n",
      "ARIMA(1, 0, 2)x(2, 0, 0, 12)12 - AIC:309.0066792975315\n"
     ]
    },
    {
     "name": "stderr",
     "output_type": "stream",
     "text": [
      "C:\\Users\\Bushra Ansari\\anaconda3\\lib\\site-packages\\statsmodels\\base\\model.py:566: ConvergenceWarning: Maximum Likelihood optimization failed to converge. Check mle_retvals\n",
      "  warnings.warn(\"Maximum Likelihood optimization failed to \"\n"
     ]
    },
    {
     "name": "stdout",
     "output_type": "stream",
     "text": [
      "ARIMA(1, 0, 2)x(2, 0, 1, 12)12 - AIC:657.8412969051492\n"
     ]
    },
    {
     "name": "stderr",
     "output_type": "stream",
     "text": [
      "C:\\Users\\Bushra Ansari\\anaconda3\\lib\\site-packages\\statsmodels\\base\\model.py:566: ConvergenceWarning: Maximum Likelihood optimization failed to converge. Check mle_retvals\n",
      "  warnings.warn(\"Maximum Likelihood optimization failed to \"\n"
     ]
    },
    {
     "name": "stdout",
     "output_type": "stream",
     "text": [
      "ARIMA(1, 0, 2)x(2, 0, 2, 12)12 - AIC:286.3200327579395\n",
      "ARIMA(1, 0, 2)x(2, 1, 0, 12)12 - AIC:150.64208002440054\n"
     ]
    },
    {
     "name": "stderr",
     "output_type": "stream",
     "text": [
      "C:\\Users\\Bushra Ansari\\anaconda3\\lib\\site-packages\\statsmodels\\base\\model.py:566: ConvergenceWarning: Maximum Likelihood optimization failed to converge. Check mle_retvals\n",
      "  warnings.warn(\"Maximum Likelihood optimization failed to \"\n"
     ]
    },
    {
     "name": "stdout",
     "output_type": "stream",
     "text": [
      "ARIMA(1, 0, 2)x(2, 1, 1, 12)12 - AIC:152.69542426100077\n"
     ]
    },
    {
     "name": "stderr",
     "output_type": "stream",
     "text": [
      "C:\\Users\\Bushra Ansari\\anaconda3\\lib\\site-packages\\statsmodels\\base\\model.py:566: ConvergenceWarning: Maximum Likelihood optimization failed to converge. Check mle_retvals\n",
      "  warnings.warn(\"Maximum Likelihood optimization failed to \"\n"
     ]
    },
    {
     "name": "stdout",
     "output_type": "stream",
     "text": [
      "ARIMA(1, 0, 2)x(2, 1, 2, 12)12 - AIC:126.97579285170225\n",
      "ARIMA(1, 0, 2)x(2, 2, 0, 12)12 - AIC:12.0\n",
      "ARIMA(1, 0, 2)x(2, 2, 1, 12)12 - AIC:14.0\n",
      "ARIMA(1, 0, 2)x(2, 2, 2, 12)12 - AIC:16.0\n",
      "ARIMA(1, 1, 0)x(0, 0, 0, 12)12 - AIC:671.2513547541902\n"
     ]
    },
    {
     "name": "stderr",
     "output_type": "stream",
     "text": [
      "C:\\Users\\Bushra Ansari\\anaconda3\\lib\\site-packages\\statsmodels\\base\\model.py:566: ConvergenceWarning: Maximum Likelihood optimization failed to converge. Check mle_retvals\n",
      "  warnings.warn(\"Maximum Likelihood optimization failed to \"\n"
     ]
    },
    {
     "name": "stdout",
     "output_type": "stream",
     "text": [
      "ARIMA(1, 1, 0)x(0, 0, 1, 12)12 - AIC:1390.4391218604178\n",
      "ARIMA(1, 1, 0)x(0, 0, 2, 12)12 - AIC:313.8089614374279\n",
      "ARIMA(1, 1, 0)x(0, 1, 0, 12)12 - AIC:479.20034222811347\n",
      "ARIMA(1, 1, 0)x(0, 1, 1, 12)12 - AIC:300.21306116190965\n",
      "ARIMA(1, 1, 0)x(0, 1, 2, 12)12 - AIC:141.07356676677716\n",
      "ARIMA(1, 1, 0)x(0, 2, 0, 12)12 - AIC:332.3956597623955\n",
      "ARIMA(1, 1, 0)x(0, 2, 1, 12)12 - AIC:140.96246737935283\n",
      "ARIMA(1, 1, 0)x(0, 2, 2, 12)12 - AIC:8.0\n",
      "ARIMA(1, 1, 0)x(1, 0, 0, 12)12 - AIC:475.34036587849226\n"
     ]
    },
    {
     "name": "stderr",
     "output_type": "stream",
     "text": [
      "C:\\Users\\Bushra Ansari\\anaconda3\\lib\\site-packages\\statsmodels\\base\\model.py:566: ConvergenceWarning: Maximum Likelihood optimization failed to converge. Check mle_retvals\n",
      "  warnings.warn(\"Maximum Likelihood optimization failed to \"\n"
     ]
    },
    {
     "name": "stdout",
     "output_type": "stream",
     "text": [
      "ARIMA(1, 1, 0)x(1, 0, 1, 12)12 - AIC:1055.1084773459788\n"
     ]
    },
    {
     "name": "stderr",
     "output_type": "stream",
     "text": [
      "C:\\Users\\Bushra Ansari\\anaconda3\\lib\\site-packages\\statsmodels\\base\\model.py:566: ConvergenceWarning: Maximum Likelihood optimization failed to converge. Check mle_retvals\n",
      "  warnings.warn(\"Maximum Likelihood optimization failed to \"\n"
     ]
    },
    {
     "name": "stdout",
     "output_type": "stream",
     "text": [
      "ARIMA(1, 1, 0)x(1, 0, 2, 12)12 - AIC:305.35633160177446\n",
      "ARIMA(1, 1, 0)x(1, 1, 0, 12)12 - AIC:300.6270901345405\n",
      "ARIMA(1, 1, 0)x(1, 1, 1, 12)12 - AIC:302.3264992512191\n",
      "ARIMA(1, 1, 0)x(1, 1, 2, 12)12 - AIC:143.05792041337543\n",
      "ARIMA(1, 1, 0)x(1, 2, 0, 12)12 - AIC:140.97940432821568\n",
      "ARIMA(1, 1, 0)x(1, 2, 1, 12)12 - AIC:142.44494457930153\n",
      "ARIMA(1, 1, 0)x(1, 2, 2, 12)12 - AIC:10.0\n",
      "ARIMA(1, 1, 0)x(2, 0, 0, 12)12 - AIC:301.76885242895526\n",
      "ARIMA(1, 1, 0)x(2, 0, 1, 12)12 - AIC:873.211640231392\n",
      "ARIMA(1, 1, 0)x(2, 0, 2, 12)12 - AIC:305.5489372378141\n",
      "ARIMA(1, 1, 0)x(2, 1, 0, 12)12 - AIC:141.03361172504108\n",
      "ARIMA(1, 1, 0)x(2, 1, 1, 12)12 - AIC:142.9332030493112\n",
      "ARIMA(1, 1, 0)x(2, 1, 2, 12)12 - AIC:144.93321219354945\n",
      "ARIMA(1, 1, 0)x(2, 2, 0, 12)12 - AIC:8.0\n",
      "ARIMA(1, 1, 0)x(2, 2, 1, 12)12 - AIC:10.0\n",
      "ARIMA(1, 1, 0)x(2, 2, 2, 12)12 - AIC:12.0\n",
      "ARIMA(1, 1, 1)x(0, 0, 0, 12)12 - AIC:649.0318019835871\n"
     ]
    },
    {
     "name": "stderr",
     "output_type": "stream",
     "text": [
      "C:\\Users\\Bushra Ansari\\anaconda3\\lib\\site-packages\\statsmodels\\base\\model.py:566: ConvergenceWarning: Maximum Likelihood optimization failed to converge. Check mle_retvals\n",
      "  warnings.warn(\"Maximum Likelihood optimization failed to \"\n"
     ]
    },
    {
     "name": "stdout",
     "output_type": "stream",
     "text": [
      "ARIMA(1, 1, 1)x(0, 0, 1, 12)12 - AIC:2447.874000586573\n",
      "ARIMA(1, 1, 1)x(0, 0, 2, 12)12 - AIC:296.29257055433135\n",
      "ARIMA(1, 1, 1)x(0, 1, 0, 12)12 - AIC:460.4762687610352\n",
      "ARIMA(1, 1, 1)x(0, 1, 1, 12)12 - AIC:281.3873006939387\n",
      "ARIMA(1, 1, 1)x(0, 1, 2, 12)12 - AIC:126.23923691794207\n",
      "ARIMA(1, 1, 1)x(0, 2, 0, 12)12 - AIC:317.99077543475903\n",
      "ARIMA(1, 1, 1)x(0, 2, 1, 12)12 - AIC:127.02337312432402\n",
      "ARIMA(1, 1, 1)x(0, 2, 2, 12)12 - AIC:10.0\n",
      "ARIMA(1, 1, 1)x(1, 0, 0, 12)12 - AIC:469.5250354660882\n"
     ]
    },
    {
     "name": "stderr",
     "output_type": "stream",
     "text": [
      "C:\\Users\\Bushra Ansari\\anaconda3\\lib\\site-packages\\statsmodels\\base\\model.py:566: ConvergenceWarning: Maximum Likelihood optimization failed to converge. Check mle_retvals\n",
      "  warnings.warn(\"Maximum Likelihood optimization failed to \"\n"
     ]
    },
    {
     "name": "stdout",
     "output_type": "stream",
     "text": [
      "ARIMA(1, 1, 1)x(1, 0, 1, 12)12 - AIC:2181.1468154899794\n",
      "ARIMA(1, 1, 1)x(1, 0, 2, 12)12 - AIC:289.5032098686416\n",
      "ARIMA(1, 1, 1)x(1, 1, 0, 12)12 - AIC:297.78754395435413\n",
      "ARIMA(1, 1, 1)x(1, 1, 1, 12)12 - AIC:283.3661017054992\n",
      "ARIMA(1, 1, 1)x(1, 1, 2, 12)12 - AIC:128.07390204061147\n",
      "ARIMA(1, 1, 1)x(1, 2, 0, 12)12 - AIC:139.8988438957388\n",
      "ARIMA(1, 1, 1)x(1, 2, 1, 12)12 - AIC:126.41574491243115\n",
      "ARIMA(1, 1, 1)x(1, 2, 2, 12)12 - AIC:12.0\n",
      "ARIMA(1, 1, 1)x(2, 0, 0, 12)12 - AIC:304.8135321454533\n"
     ]
    },
    {
     "name": "stderr",
     "output_type": "stream",
     "text": [
      "C:\\Users\\Bushra Ansari\\anaconda3\\lib\\site-packages\\statsmodels\\base\\model.py:566: ConvergenceWarning: Maximum Likelihood optimization failed to converge. Check mle_retvals\n",
      "  warnings.warn(\"Maximum Likelihood optimization failed to \"\n"
     ]
    },
    {
     "name": "stdout",
     "output_type": "stream",
     "text": [
      "ARIMA(1, 1, 1)x(2, 0, 1, 12)12 - AIC:894.7600522766506\n"
     ]
    },
    {
     "name": "stderr",
     "output_type": "stream",
     "text": [
      "C:\\Users\\Bushra Ansari\\anaconda3\\lib\\site-packages\\statsmodels\\base\\model.py:566: ConvergenceWarning: Maximum Likelihood optimization failed to converge. Check mle_retvals\n",
      "  warnings.warn(\"Maximum Likelihood optimization failed to \"\n"
     ]
    },
    {
     "name": "stdout",
     "output_type": "stream",
     "text": [
      "ARIMA(1, 1, 1)x(2, 0, 2, 12)12 - AIC:289.1754752690172\n",
      "ARIMA(1, 1, 1)x(2, 1, 0, 12)12 - AIC:138.337143651791\n"
     ]
    },
    {
     "name": "stderr",
     "output_type": "stream",
     "text": [
      "C:\\Users\\Bushra Ansari\\anaconda3\\lib\\site-packages\\statsmodels\\base\\model.py:566: ConvergenceWarning: Maximum Likelihood optimization failed to converge. Check mle_retvals\n",
      "  warnings.warn(\"Maximum Likelihood optimization failed to \"\n"
     ]
    },
    {
     "name": "stdout",
     "output_type": "stream",
     "text": [
      "ARIMA(1, 1, 1)x(2, 1, 1, 12)12 - AIC:140.32911071584297\n"
     ]
    },
    {
     "name": "stderr",
     "output_type": "stream",
     "text": [
      "C:\\Users\\Bushra Ansari\\anaconda3\\lib\\site-packages\\statsmodels\\base\\model.py:566: ConvergenceWarning: Maximum Likelihood optimization failed to converge. Check mle_retvals\n",
      "  warnings.warn(\"Maximum Likelihood optimization failed to \"\n"
     ]
    },
    {
     "name": "stdout",
     "output_type": "stream",
     "text": [
      "ARIMA(1, 1, 1)x(2, 1, 2, 12)12 - AIC:130.25013647041573\n",
      "ARIMA(1, 1, 1)x(2, 2, 0, 12)12 - AIC:10.0\n",
      "ARIMA(1, 1, 1)x(2, 2, 1, 12)12 - AIC:12.0\n",
      "ARIMA(1, 1, 1)x(2, 2, 2, 12)12 - AIC:14.0\n",
      "ARIMA(1, 1, 2)x(0, 0, 0, 12)12 - AIC:636.8790377891872\n",
      "ARIMA(1, 1, 2)x(0, 0, 1, 12)12 - AIC:2036.1830126853652\n",
      "ARIMA(1, 1, 2)x(0, 0, 2, 12)12 - AIC:280.94583113060713\n",
      "ARIMA(1, 1, 2)x(0, 1, 0, 12)12 - AIC:449.47888589754507\n",
      "ARIMA(1, 1, 2)x(0, 1, 1, 12)12 - AIC:270.580437035684\n",
      "ARIMA(1, 1, 2)x(0, 1, 2, 12)12 - AIC:110.6498912186672\n",
      "ARIMA(1, 1, 2)x(0, 2, 0, 12)12 - AIC:305.71513971589866\n"
     ]
    },
    {
     "name": "stderr",
     "output_type": "stream",
     "text": [
      "C:\\Users\\Bushra Ansari\\anaconda3\\lib\\site-packages\\statsmodels\\base\\model.py:566: ConvergenceWarning: Maximum Likelihood optimization failed to converge. Check mle_retvals\n",
      "  warnings.warn(\"Maximum Likelihood optimization failed to \"\n"
     ]
    },
    {
     "name": "stdout",
     "output_type": "stream",
     "text": [
      "ARIMA(1, 1, 2)x(0, 2, 1, 12)12 - AIC:114.87726256386549\n",
      "ARIMA(1, 1, 2)x(0, 2, 2, 12)12 - AIC:12.0\n",
      "ARIMA(1, 1, 2)x(1, 0, 0, 12)12 - AIC:471.0555765030862\n",
      "ARIMA(1, 1, 2)x(1, 0, 1, 12)12 - AIC:1807.8078989497008\n"
     ]
    },
    {
     "name": "stderr",
     "output_type": "stream",
     "text": [
      "C:\\Users\\Bushra Ansari\\anaconda3\\lib\\site-packages\\statsmodels\\base\\model.py:566: ConvergenceWarning: Maximum Likelihood optimization failed to converge. Check mle_retvals\n",
      "  warnings.warn(\"Maximum Likelihood optimization failed to \"\n",
      "C:\\Users\\Bushra Ansari\\anaconda3\\lib\\site-packages\\statsmodels\\base\\model.py:566: ConvergenceWarning: Maximum Likelihood optimization failed to converge. Check mle_retvals\n",
      "  warnings.warn(\"Maximum Likelihood optimization failed to \"\n"
     ]
    },
    {
     "name": "stdout",
     "output_type": "stream",
     "text": [
      "ARIMA(1, 1, 2)x(1, 0, 2, 12)12 - AIC:278.2302792953689\n"
     ]
    },
    {
     "name": "stderr",
     "output_type": "stream",
     "text": [
      "C:\\Users\\Bushra Ansari\\anaconda3\\lib\\site-packages\\statsmodels\\base\\model.py:566: ConvergenceWarning: Maximum Likelihood optimization failed to converge. Check mle_retvals\n",
      "  warnings.warn(\"Maximum Likelihood optimization failed to \"\n"
     ]
    },
    {
     "name": "stdout",
     "output_type": "stream",
     "text": [
      "ARIMA(1, 1, 2)x(1, 1, 0, 12)12 - AIC:299.78468999949183\n"
     ]
    },
    {
     "name": "stderr",
     "output_type": "stream",
     "text": [
      "C:\\Users\\Bushra Ansari\\anaconda3\\lib\\site-packages\\statsmodels\\base\\model.py:566: ConvergenceWarning: Maximum Likelihood optimization failed to converge. Check mle_retvals\n",
      "  warnings.warn(\"Maximum Likelihood optimization failed to \"\n"
     ]
    },
    {
     "name": "stdout",
     "output_type": "stream",
     "text": [
      "ARIMA(1, 1, 2)x(1, 1, 1, 12)12 - AIC:273.20151874917576\n"
     ]
    },
    {
     "name": "stderr",
     "output_type": "stream",
     "text": [
      "C:\\Users\\Bushra Ansari\\anaconda3\\lib\\site-packages\\statsmodels\\base\\model.py:566: ConvergenceWarning: Maximum Likelihood optimization failed to converge. Check mle_retvals\n",
      "  warnings.warn(\"Maximum Likelihood optimization failed to \"\n"
     ]
    },
    {
     "name": "stdout",
     "output_type": "stream",
     "text": [
      "ARIMA(1, 1, 2)x(1, 1, 2, 12)12 - AIC:110.86763018497079\n",
      "ARIMA(1, 1, 2)x(1, 2, 0, 12)12 - AIC:142.46380187455668\n"
     ]
    },
    {
     "name": "stderr",
     "output_type": "stream",
     "text": [
      "C:\\Users\\Bushra Ansari\\anaconda3\\lib\\site-packages\\statsmodels\\base\\model.py:566: ConvergenceWarning: Maximum Likelihood optimization failed to converge. Check mle_retvals\n",
      "  warnings.warn(\"Maximum Likelihood optimization failed to \"\n"
     ]
    },
    {
     "name": "stdout",
     "output_type": "stream",
     "text": [
      "ARIMA(1, 1, 2)x(1, 2, 1, 12)12 - AIC:112.19710083308838\n",
      "ARIMA(1, 1, 2)x(1, 2, 2, 12)12 - AIC:14.0\n",
      "ARIMA(1, 1, 2)x(2, 0, 0, 12)12 - AIC:302.217768102773\n",
      "ARIMA(1, 1, 2)x(2, 0, 1, 12)12 - AIC:930.3025745936457\n"
     ]
    },
    {
     "name": "stderr",
     "output_type": "stream",
     "text": [
      "C:\\Users\\Bushra Ansari\\anaconda3\\lib\\site-packages\\statsmodels\\base\\model.py:566: ConvergenceWarning: Maximum Likelihood optimization failed to converge. Check mle_retvals\n",
      "  warnings.warn(\"Maximum Likelihood optimization failed to \"\n"
     ]
    },
    {
     "name": "stdout",
     "output_type": "stream",
     "text": [
      "ARIMA(1, 1, 2)x(2, 0, 2, 12)12 - AIC:278.51939410940963\n"
     ]
    },
    {
     "name": "stderr",
     "output_type": "stream",
     "text": [
      "C:\\Users\\Bushra Ansari\\anaconda3\\lib\\site-packages\\statsmodels\\base\\model.py:566: ConvergenceWarning: Maximum Likelihood optimization failed to converge. Check mle_retvals\n",
      "  warnings.warn(\"Maximum Likelihood optimization failed to \"\n"
     ]
    },
    {
     "name": "stdout",
     "output_type": "stream",
     "text": [
      "ARIMA(1, 1, 2)x(2, 1, 0, 12)12 - AIC:140.86254622266603\n"
     ]
    },
    {
     "name": "stderr",
     "output_type": "stream",
     "text": [
      "C:\\Users\\Bushra Ansari\\anaconda3\\lib\\site-packages\\statsmodels\\base\\model.py:566: ConvergenceWarning: Maximum Likelihood optimization failed to converge. Check mle_retvals\n",
      "  warnings.warn(\"Maximum Likelihood optimization failed to \"\n"
     ]
    },
    {
     "name": "stdout",
     "output_type": "stream",
     "text": [
      "ARIMA(1, 1, 2)x(2, 1, 1, 12)12 - AIC:142.22894134597897\n"
     ]
    },
    {
     "name": "stderr",
     "output_type": "stream",
     "text": [
      "C:\\Users\\Bushra Ansari\\anaconda3\\lib\\site-packages\\statsmodels\\base\\model.py:566: ConvergenceWarning: Maximum Likelihood optimization failed to converge. Check mle_retvals\n",
      "  warnings.warn(\"Maximum Likelihood optimization failed to \"\n"
     ]
    },
    {
     "name": "stdout",
     "output_type": "stream",
     "text": [
      "ARIMA(1, 1, 2)x(2, 1, 2, 12)12 - AIC:112.86550452774489\n",
      "ARIMA(1, 1, 2)x(2, 2, 0, 12)12 - AIC:12.0\n",
      "ARIMA(1, 1, 2)x(2, 2, 1, 12)12 - AIC:14.0\n",
      "ARIMA(1, 1, 2)x(2, 2, 2, 12)12 - AIC:16.0\n",
      "ARIMA(1, 2, 0)x(0, 0, 0, 12)12 - AIC:691.2298181871188\n",
      "ARIMA(1, 2, 0)x(0, 0, 1, 12)12 - AIC:1369.123252572813\n",
      "ARIMA(1, 2, 0)x(0, 0, 2, 12)12 - AIC:314.20978872994607\n",
      "ARIMA(1, 2, 0)x(0, 1, 0, 12)12 - AIC:487.72549582761314\n",
      "ARIMA(1, 2, 0)x(0, 1, 1, 12)12 - AIC:301.91514986776707\n",
      "ARIMA(1, 2, 0)x(0, 1, 2, 12)12 - AIC:130.77323947190112\n",
      "ARIMA(1, 2, 0)x(0, 2, 0, 12)12 - AIC:326.7564415658333\n",
      "ARIMA(1, 2, 0)x(0, 2, 1, 12)12 - AIC:129.58856438121228\n",
      "ARIMA(1, 2, 0)x(0, 2, 2, 12)12 - AIC:8.0\n",
      "ARIMA(1, 2, 0)x(1, 0, 0, 12)12 - AIC:485.7746885900553\n"
     ]
    },
    {
     "name": "stderr",
     "output_type": "stream",
     "text": [
      "C:\\Users\\Bushra Ansari\\anaconda3\\lib\\site-packages\\statsmodels\\base\\model.py:566: ConvergenceWarning: Maximum Likelihood optimization failed to converge. Check mle_retvals\n",
      "  warnings.warn(\"Maximum Likelihood optimization failed to \"\n"
     ]
    },
    {
     "name": "stdout",
     "output_type": "stream",
     "text": [
      "ARIMA(1, 2, 0)x(1, 0, 1, 12)12 - AIC:1349.0842887379288\n",
      "ARIMA(1, 2, 0)x(1, 0, 2, 12)12 - AIC:303.73329930675254\n",
      "ARIMA(1, 2, 0)x(1, 1, 0, 12)12 - AIC:302.055214322534\n",
      "ARIMA(1, 2, 0)x(1, 1, 1, 12)12 - AIC:302.474547061197\n"
     ]
    },
    {
     "name": "stderr",
     "output_type": "stream",
     "text": [
      "C:\\Users\\Bushra Ansari\\anaconda3\\lib\\site-packages\\statsmodels\\base\\model.py:566: ConvergenceWarning: Maximum Likelihood optimization failed to converge. Check mle_retvals\n",
      "  warnings.warn(\"Maximum Likelihood optimization failed to \"\n"
     ]
    },
    {
     "name": "stdout",
     "output_type": "stream",
     "text": [
      "ARIMA(1, 2, 0)x(1, 1, 2, 12)12 - AIC:132.8774808783453\n",
      "ARIMA(1, 2, 0)x(1, 2, 0, 12)12 - AIC:129.59004245503502\n",
      "ARIMA(1, 2, 0)x(1, 2, 1, 12)12 - AIC:131.5885184266857\n",
      "ARIMA(1, 2, 0)x(1, 2, 2, 12)12 - AIC:10.0\n",
      "ARIMA(1, 2, 0)x(2, 0, 0, 12)12 - AIC:303.8385216914169\n"
     ]
    },
    {
     "name": "stderr",
     "output_type": "stream",
     "text": [
      "C:\\Users\\Bushra Ansari\\anaconda3\\lib\\site-packages\\statsmodels\\base\\model.py:566: ConvergenceWarning: Maximum Likelihood optimization failed to converge. Check mle_retvals\n",
      "  warnings.warn(\"Maximum Likelihood optimization failed to \"\n"
     ]
    },
    {
     "name": "stdout",
     "output_type": "stream",
     "text": [
      "ARIMA(1, 2, 0)x(2, 0, 1, 12)12 - AIC:981.4297466544683\n",
      "ARIMA(1, 2, 0)x(2, 0, 2, 12)12 - AIC:303.8302914129712\n",
      "ARIMA(1, 2, 0)x(2, 1, 0, 12)12 - AIC:130.86502683952588\n"
     ]
    },
    {
     "name": "stderr",
     "output_type": "stream",
     "text": [
      "C:\\Users\\Bushra Ansari\\anaconda3\\lib\\site-packages\\statsmodels\\base\\model.py:566: ConvergenceWarning: Maximum Likelihood optimization failed to converge. Check mle_retvals\n",
      "  warnings.warn(\"Maximum Likelihood optimization failed to \"\n"
     ]
    },
    {
     "name": "stdout",
     "output_type": "stream",
     "text": [
      "ARIMA(1, 2, 0)x(2, 1, 1, 12)12 - AIC:132.55791418171452\n",
      "ARIMA(1, 2, 0)x(2, 1, 2, 12)12 - AIC:134.60016399019844\n",
      "ARIMA(1, 2, 0)x(2, 2, 0, 12)12 - AIC:8.0\n",
      "ARIMA(1, 2, 0)x(2, 2, 1, 12)12 - AIC:10.0\n",
      "ARIMA(1, 2, 0)x(2, 2, 2, 12)12 - AIC:12.0\n",
      "ARIMA(1, 2, 1)x(0, 0, 0, 12)12 - AIC:647.5183048787485\n"
     ]
    },
    {
     "name": "stderr",
     "output_type": "stream",
     "text": [
      "C:\\Users\\Bushra Ansari\\anaconda3\\lib\\site-packages\\statsmodels\\base\\model.py:566: ConvergenceWarning: Maximum Likelihood optimization failed to converge. Check mle_retvals\n",
      "  warnings.warn(\"Maximum Likelihood optimization failed to \"\n"
     ]
    },
    {
     "name": "stdout",
     "output_type": "stream",
     "text": [
      "ARIMA(1, 2, 1)x(0, 0, 1, 12)12 - AIC:2505.8508384187435\n",
      "ARIMA(1, 2, 1)x(0, 0, 2, 12)12 - AIC:288.00885490336304\n",
      "ARIMA(1, 2, 1)x(0, 1, 0, 12)12 - AIC:455.9868411970376\n",
      "ARIMA(1, 2, 1)x(0, 1, 1, 12)12 - AIC:278.8955672587277\n",
      "ARIMA(1, 2, 1)x(0, 1, 2, 12)12 - AIC:116.1394829819968\n",
      "ARIMA(1, 2, 1)x(0, 2, 0, 12)12 - AIC:308.33975356025644\n",
      "ARIMA(1, 2, 1)x(0, 2, 1, 12)12 - AIC:116.30507432550942\n",
      "ARIMA(1, 2, 1)x(0, 2, 2, 12)12 - AIC:10.0\n",
      "ARIMA(1, 2, 1)x(1, 0, 0, 12)12 - AIC:470.83502628215797\n"
     ]
    },
    {
     "name": "stderr",
     "output_type": "stream",
     "text": [
      "C:\\Users\\Bushra Ansari\\anaconda3\\lib\\site-packages\\statsmodels\\base\\model.py:566: ConvergenceWarning: Maximum Likelihood optimization failed to converge. Check mle_retvals\n",
      "  warnings.warn(\"Maximum Likelihood optimization failed to \"\n"
     ]
    },
    {
     "name": "stdout",
     "output_type": "stream",
     "text": [
      "ARIMA(1, 2, 1)x(1, 0, 1, 12)12 - AIC:296.0416775181663\n"
     ]
    },
    {
     "name": "stderr",
     "output_type": "stream",
     "text": [
      "C:\\Users\\Bushra Ansari\\anaconda3\\lib\\site-packages\\statsmodels\\base\\model.py:566: ConvergenceWarning: Maximum Likelihood optimization failed to converge. Check mle_retvals\n",
      "  warnings.warn(\"Maximum Likelihood optimization failed to \"\n"
     ]
    },
    {
     "name": "stdout",
     "output_type": "stream",
     "text": [
      "ARIMA(1, 2, 1)x(1, 0, 2, 12)12 - AIC:284.0801063024895\n",
      "ARIMA(1, 2, 1)x(1, 1, 0, 12)12 - AIC:293.09174468289194\n",
      "ARIMA(1, 2, 1)x(1, 1, 1, 12)12 - AIC:280.8604639140697\n"
     ]
    },
    {
     "name": "stderr",
     "output_type": "stream",
     "text": [
      "C:\\Users\\Bushra Ansari\\anaconda3\\lib\\site-packages\\statsmodels\\base\\model.py:566: ConvergenceWarning: Maximum Likelihood optimization failed to converge. Check mle_retvals\n",
      "  warnings.warn(\"Maximum Likelihood optimization failed to \"\n"
     ]
    },
    {
     "name": "stdout",
     "output_type": "stream",
     "text": [
      "ARIMA(1, 2, 1)x(1, 1, 2, 12)12 - AIC:117.96621434480807\n"
     ]
    },
    {
     "name": "stderr",
     "output_type": "stream",
     "text": [
      "C:\\Users\\Bushra Ansari\\anaconda3\\lib\\site-packages\\statsmodels\\base\\model.py:566: ConvergenceWarning: Maximum Likelihood optimization failed to converge. Check mle_retvals\n",
      "  warnings.warn(\"Maximum Likelihood optimization failed to \"\n"
     ]
    },
    {
     "name": "stdout",
     "output_type": "stream",
     "text": [
      "ARIMA(1, 2, 1)x(1, 2, 0, 12)12 - AIC:128.4645617815375\n"
     ]
    },
    {
     "name": "stderr",
     "output_type": "stream",
     "text": [
      "C:\\Users\\Bushra Ansari\\anaconda3\\lib\\site-packages\\statsmodels\\base\\model.py:566: ConvergenceWarning: Maximum Likelihood optimization failed to converge. Check mle_retvals\n",
      "  warnings.warn(\"Maximum Likelihood optimization failed to \"\n"
     ]
    },
    {
     "name": "stdout",
     "output_type": "stream",
     "text": [
      "ARIMA(1, 2, 1)x(1, 2, 1, 12)12 - AIC:110.5030708376388\n",
      "ARIMA(1, 2, 1)x(1, 2, 2, 12)12 - AIC:12.0\n",
      "ARIMA(1, 2, 1)x(2, 0, 0, 12)12 - AIC:293.7678013029156\n"
     ]
    },
    {
     "name": "stderr",
     "output_type": "stream",
     "text": [
      "C:\\Users\\Bushra Ansari\\anaconda3\\lib\\site-packages\\statsmodels\\base\\model.py:566: ConvergenceWarning: Maximum Likelihood optimization failed to converge. Check mle_retvals\n",
      "  warnings.warn(\"Maximum Likelihood optimization failed to \"\n"
     ]
    },
    {
     "name": "stdout",
     "output_type": "stream",
     "text": [
      "ARIMA(1, 2, 1)x(2, 0, 1, 12)12 - AIC:1000.6754362566604\n",
      "ARIMA(1, 2, 1)x(2, 0, 2, 12)12 - AIC:284.1402254200651\n",
      "ARIMA(1, 2, 1)x(2, 1, 0, 12)12 - AIC:130.67250513585373\n"
     ]
    },
    {
     "name": "stderr",
     "output_type": "stream",
     "text": [
      "C:\\Users\\Bushra Ansari\\anaconda3\\lib\\site-packages\\statsmodels\\base\\model.py:566: ConvergenceWarning: Maximum Likelihood optimization failed to converge. Check mle_retvals\n",
      "  warnings.warn(\"Maximum Likelihood optimization failed to \"\n"
     ]
    },
    {
     "name": "stdout",
     "output_type": "stream",
     "text": [
      "ARIMA(1, 2, 1)x(2, 1, 1, 12)12 - AIC:132.1495866731488\n"
     ]
    },
    {
     "name": "stderr",
     "output_type": "stream",
     "text": [
      "C:\\Users\\Bushra Ansari\\anaconda3\\lib\\site-packages\\statsmodels\\base\\model.py:566: ConvergenceWarning: Maximum Likelihood optimization failed to converge. Check mle_retvals\n",
      "  warnings.warn(\"Maximum Likelihood optimization failed to \"\n"
     ]
    },
    {
     "name": "stdout",
     "output_type": "stream",
     "text": [
      "ARIMA(1, 2, 1)x(2, 1, 2, 12)12 - AIC:120.20552515298476\n",
      "ARIMA(1, 2, 1)x(2, 2, 0, 12)12 - AIC:10.0\n",
      "ARIMA(1, 2, 1)x(2, 2, 1, 12)12 - AIC:12.0\n",
      "ARIMA(1, 2, 1)x(2, 2, 2, 12)12 - AIC:14.0\n"
     ]
    },
    {
     "name": "stderr",
     "output_type": "stream",
     "text": [
      "C:\\Users\\Bushra Ansari\\anaconda3\\lib\\site-packages\\statsmodels\\base\\model.py:566: ConvergenceWarning: Maximum Likelihood optimization failed to converge. Check mle_retvals\n",
      "  warnings.warn(\"Maximum Likelihood optimization failed to \"\n",
      "C:\\Users\\Bushra Ansari\\anaconda3\\lib\\site-packages\\statsmodels\\base\\model.py:566: ConvergenceWarning: Maximum Likelihood optimization failed to converge. Check mle_retvals\n",
      "  warnings.warn(\"Maximum Likelihood optimization failed to \"\n"
     ]
    },
    {
     "name": "stdout",
     "output_type": "stream",
     "text": [
      "ARIMA(1, 2, 2)x(0, 0, 0, 12)12 - AIC:629.3897471140089\n",
      "ARIMA(1, 2, 2)x(0, 0, 1, 12)12 - AIC:1567.387047803139\n"
     ]
    },
    {
     "name": "stderr",
     "output_type": "stream",
     "text": [
      "C:\\Users\\Bushra Ansari\\anaconda3\\lib\\site-packages\\statsmodels\\base\\model.py:566: ConvergenceWarning: Maximum Likelihood optimization failed to converge. Check mle_retvals\n",
      "  warnings.warn(\"Maximum Likelihood optimization failed to \"\n"
     ]
    },
    {
     "name": "stdout",
     "output_type": "stream",
     "text": [
      "ARIMA(1, 2, 2)x(0, 0, 2, 12)12 - AIC:274.81053935427326\n",
      "ARIMA(1, 2, 2)x(0, 1, 0, 12)12 - AIC:442.0816341806546\n"
     ]
    },
    {
     "name": "stderr",
     "output_type": "stream",
     "text": [
      "C:\\Users\\Bushra Ansari\\anaconda3\\lib\\site-packages\\statsmodels\\base\\model.py:566: ConvergenceWarning: Maximum Likelihood optimization failed to converge. Check mle_retvals\n",
      "  warnings.warn(\"Maximum Likelihood optimization failed to \"\n"
     ]
    },
    {
     "name": "stdout",
     "output_type": "stream",
     "text": [
      "ARIMA(1, 2, 2)x(0, 1, 1, 12)12 - AIC:263.8094449768508\n"
     ]
    },
    {
     "name": "stderr",
     "output_type": "stream",
     "text": [
      "C:\\Users\\Bushra Ansari\\anaconda3\\lib\\site-packages\\statsmodels\\base\\model.py:566: ConvergenceWarning: Maximum Likelihood optimization failed to converge. Check mle_retvals\n",
      "  warnings.warn(\"Maximum Likelihood optimization failed to \"\n"
     ]
    },
    {
     "name": "stdout",
     "output_type": "stream",
     "text": [
      "ARIMA(1, 2, 2)x(0, 1, 2, 12)12 - AIC:99.379023716568\n",
      "ARIMA(1, 2, 2)x(0, 2, 0, 12)12 - AIC:294.56278264590026\n",
      "ARIMA(1, 2, 2)x(0, 2, 1, 12)12 - AIC:107.5291147824958\n",
      "ARIMA(1, 2, 2)x(0, 2, 2, 12)12 - AIC:12.0\n",
      "ARIMA(1, 2, 2)x(1, 0, 0, 12)12 - AIC:470.5931669609878\n"
     ]
    },
    {
     "name": "stderr",
     "output_type": "stream",
     "text": [
      "C:\\Users\\Bushra Ansari\\anaconda3\\lib\\site-packages\\statsmodels\\base\\model.py:566: ConvergenceWarning: Maximum Likelihood optimization failed to converge. Check mle_retvals\n",
      "  warnings.warn(\"Maximum Likelihood optimization failed to \"\n"
     ]
    },
    {
     "name": "stdout",
     "output_type": "stream",
     "text": [
      "ARIMA(1, 2, 2)x(1, 0, 1, 12)12 - AIC:2117.209199989885\n"
     ]
    },
    {
     "name": "stderr",
     "output_type": "stream",
     "text": [
      "C:\\Users\\Bushra Ansari\\anaconda3\\lib\\site-packages\\statsmodels\\base\\model.py:566: ConvergenceWarning: Maximum Likelihood optimization failed to converge. Check mle_retvals\n",
      "  warnings.warn(\"Maximum Likelihood optimization failed to \"\n"
     ]
    },
    {
     "name": "stdout",
     "output_type": "stream",
     "text": [
      "ARIMA(1, 2, 2)x(1, 0, 2, 12)12 - AIC:270.91991376178464\n",
      "ARIMA(1, 2, 2)x(1, 1, 0, 12)12 - AIC:293.3465954552888\n",
      "ARIMA(1, 2, 2)x(1, 1, 1, 12)12 - AIC:265.43062100391114\n"
     ]
    },
    {
     "name": "stderr",
     "output_type": "stream",
     "text": [
      "C:\\Users\\Bushra Ansari\\anaconda3\\lib\\site-packages\\statsmodels\\base\\model.py:566: ConvergenceWarning: Maximum Likelihood optimization failed to converge. Check mle_retvals\n",
      "  warnings.warn(\"Maximum Likelihood optimization failed to \"\n"
     ]
    },
    {
     "name": "stdout",
     "output_type": "stream",
     "text": [
      "ARIMA(1, 2, 2)x(1, 1, 2, 12)12 - AIC:103.35798843542204\n",
      "ARIMA(1, 2, 2)x(1, 2, 0, 12)12 - AIC:127.95948031354723\n"
     ]
    },
    {
     "name": "stderr",
     "output_type": "stream",
     "text": [
      "C:\\Users\\Bushra Ansari\\anaconda3\\lib\\site-packages\\statsmodels\\base\\model.py:566: ConvergenceWarning: Maximum Likelihood optimization failed to converge. Check mle_retvals\n",
      "  warnings.warn(\"Maximum Likelihood optimization failed to \"\n"
     ]
    },
    {
     "name": "stdout",
     "output_type": "stream",
     "text": [
      "ARIMA(1, 2, 2)x(1, 2, 1, 12)12 - AIC:103.90625019683812\n",
      "ARIMA(1, 2, 2)x(1, 2, 2, 12)12 - AIC:14.0\n",
      "ARIMA(1, 2, 2)x(2, 0, 0, 12)12 - AIC:294.0029141373477\n",
      "ARIMA(1, 2, 2)x(2, 0, 1, 12)12 - AIC:750.1394067100956\n"
     ]
    },
    {
     "name": "stderr",
     "output_type": "stream",
     "text": [
      "C:\\Users\\Bushra Ansari\\anaconda3\\lib\\site-packages\\statsmodels\\base\\model.py:566: ConvergenceWarning: Maximum Likelihood optimization failed to converge. Check mle_retvals\n",
      "  warnings.warn(\"Maximum Likelihood optimization failed to \"\n"
     ]
    },
    {
     "name": "stdout",
     "output_type": "stream",
     "text": [
      "ARIMA(1, 2, 2)x(2, 0, 2, 12)12 - AIC:271.78820411910056\n",
      "ARIMA(1, 2, 2)x(2, 1, 0, 12)12 - AIC:129.61643100444883\n"
     ]
    },
    {
     "name": "stderr",
     "output_type": "stream",
     "text": [
      "C:\\Users\\Bushra Ansari\\anaconda3\\lib\\site-packages\\statsmodels\\base\\model.py:566: ConvergenceWarning: Maximum Likelihood optimization failed to converge. Check mle_retvals\n",
      "  warnings.warn(\"Maximum Likelihood optimization failed to \"\n"
     ]
    },
    {
     "name": "stdout",
     "output_type": "stream",
     "text": [
      "ARIMA(1, 2, 2)x(2, 1, 1, 12)12 - AIC:129.18025045048455\n"
     ]
    },
    {
     "name": "stderr",
     "output_type": "stream",
     "text": [
      "C:\\Users\\Bushra Ansari\\anaconda3\\lib\\site-packages\\statsmodels\\base\\model.py:566: ConvergenceWarning: Maximum Likelihood optimization failed to converge. Check mle_retvals\n",
      "  warnings.warn(\"Maximum Likelihood optimization failed to \"\n"
     ]
    },
    {
     "name": "stdout",
     "output_type": "stream",
     "text": [
      "ARIMA(1, 2, 2)x(2, 1, 2, 12)12 - AIC:104.42262694635858\n",
      "ARIMA(1, 2, 2)x(2, 2, 0, 12)12 - AIC:12.0\n",
      "ARIMA(1, 2, 2)x(2, 2, 1, 12)12 - AIC:14.0\n",
      "ARIMA(1, 2, 2)x(2, 2, 2, 12)12 - AIC:16.0\n",
      "ARIMA(2, 0, 0)x(0, 0, 0, 12)12 - AIC:673.0244705850719\n"
     ]
    },
    {
     "name": "stderr",
     "output_type": "stream",
     "text": [
      "C:\\Users\\Bushra Ansari\\anaconda3\\lib\\site-packages\\statsmodels\\base\\model.py:566: ConvergenceWarning: Maximum Likelihood optimization failed to converge. Check mle_retvals\n",
      "  warnings.warn(\"Maximum Likelihood optimization failed to \"\n"
     ]
    },
    {
     "name": "stdout",
     "output_type": "stream",
     "text": [
      "ARIMA(2, 0, 0)x(0, 0, 1, 12)12 - AIC:1523.8704385212548\n",
      "ARIMA(2, 0, 0)x(0, 0, 2, 12)12 - AIC:329.6445545186863\n",
      "ARIMA(2, 0, 0)x(0, 1, 0, 12)12 - AIC:468.31523432718774\n",
      "ARIMA(2, 0, 0)x(0, 1, 1, 12)12 - AIC:305.76047109182866\n",
      "ARIMA(2, 0, 0)x(0, 1, 2, 12)12 - AIC:150.46805218439357\n",
      "ARIMA(2, 0, 0)x(0, 2, 0, 12)12 - AIC:326.1432862885688\n",
      "ARIMA(2, 0, 0)x(0, 2, 1, 12)12 - AIC:153.8278167552646\n",
      "ARIMA(2, 0, 0)x(0, 2, 2, 12)12 - AIC:10.0\n",
      "ARIMA(2, 0, 0)x(1, 0, 0, 12)12 - AIC:469.60455394734925\n"
     ]
    },
    {
     "name": "stderr",
     "output_type": "stream",
     "text": [
      "C:\\Users\\Bushra Ansari\\anaconda3\\lib\\site-packages\\statsmodels\\base\\model.py:566: ConvergenceWarning: Maximum Likelihood optimization failed to converge. Check mle_retvals\n",
      "  warnings.warn(\"Maximum Likelihood optimization failed to \"\n"
     ]
    },
    {
     "name": "stdout",
     "output_type": "stream",
     "text": [
      "ARIMA(2, 0, 0)x(1, 0, 1, 12)12 - AIC:1027.4846624787135\n"
     ]
    },
    {
     "name": "stderr",
     "output_type": "stream",
     "text": [
      "C:\\Users\\Bushra Ansari\\anaconda3\\lib\\site-packages\\statsmodels\\base\\model.py:566: ConvergenceWarning: Maximum Likelihood optimization failed to converge. Check mle_retvals\n",
      "  warnings.warn(\"Maximum Likelihood optimization failed to \"\n"
     ]
    },
    {
     "name": "stdout",
     "output_type": "stream",
     "text": [
      "ARIMA(2, 0, 0)x(1, 0, 2, 12)12 - AIC:312.85456845439614\n",
      "ARIMA(2, 0, 0)x(1, 1, 0, 12)12 - AIC:293.5694644840524\n",
      "ARIMA(2, 0, 0)x(1, 1, 1, 12)12 - AIC:295.36059734624536\n"
     ]
    },
    {
     "name": "stderr",
     "output_type": "stream",
     "text": [
      "C:\\Users\\Bushra Ansari\\anaconda3\\lib\\site-packages\\statsmodels\\base\\model.py:566: ConvergenceWarning: Maximum Likelihood optimization failed to converge. Check mle_retvals\n",
      "  warnings.warn(\"Maximum Likelihood optimization failed to \"\n"
     ]
    },
    {
     "name": "stdout",
     "output_type": "stream",
     "text": [
      "ARIMA(2, 0, 0)x(1, 1, 2, 12)12 - AIC:152.46824146982684\n",
      "ARIMA(2, 0, 0)x(1, 2, 0, 12)12 - AIC:134.47815433027313\n",
      "ARIMA(2, 0, 0)x(1, 2, 1, 12)12 - AIC:136.13115318274572\n",
      "ARIMA(2, 0, 0)x(1, 2, 2, 12)12 - AIC:12.0\n",
      "ARIMA(2, 0, 0)x(2, 0, 0, 12)12 - AIC:295.528190972671\n",
      "ARIMA(2, 0, 0)x(2, 0, 1, 12)12 - AIC:692.9901383028791\n"
     ]
    },
    {
     "name": "stderr",
     "output_type": "stream",
     "text": [
      "C:\\Users\\Bushra Ansari\\anaconda3\\lib\\site-packages\\statsmodels\\base\\model.py:566: ConvergenceWarning: Maximum Likelihood optimization failed to converge. Check mle_retvals\n",
      "  warnings.warn(\"Maximum Likelihood optimization failed to \"\n"
     ]
    },
    {
     "name": "stdout",
     "output_type": "stream",
     "text": [
      "ARIMA(2, 0, 0)x(2, 0, 2, 12)12 - AIC:299.1945283781074\n",
      "ARIMA(2, 0, 0)x(2, 1, 0, 12)12 - AIC:136.04020418829904\n"
     ]
    },
    {
     "name": "stderr",
     "output_type": "stream",
     "text": [
      "C:\\Users\\Bushra Ansari\\anaconda3\\lib\\site-packages\\statsmodels\\base\\model.py:566: ConvergenceWarning: Maximum Likelihood optimization failed to converge. Check mle_retvals\n",
      "  warnings.warn(\"Maximum Likelihood optimization failed to \"\n"
     ]
    },
    {
     "name": "stdout",
     "output_type": "stream",
     "text": [
      "ARIMA(2, 0, 0)x(2, 1, 1, 12)12 - AIC:137.5563817003544\n"
     ]
    },
    {
     "name": "stderr",
     "output_type": "stream",
     "text": [
      "C:\\Users\\Bushra Ansari\\anaconda3\\lib\\site-packages\\statsmodels\\base\\model.py:566: ConvergenceWarning: Maximum Likelihood optimization failed to converge. Check mle_retvals\n",
      "  warnings.warn(\"Maximum Likelihood optimization failed to \"\n"
     ]
    },
    {
     "name": "stdout",
     "output_type": "stream",
     "text": [
      "ARIMA(2, 0, 0)x(2, 1, 2, 12)12 - AIC:136.90541499551875\n",
      "ARIMA(2, 0, 0)x(2, 2, 0, 12)12 - AIC:10.0\n",
      "ARIMA(2, 0, 0)x(2, 2, 1, 12)12 - AIC:12.0\n",
      "ARIMA(2, 0, 0)x(2, 2, 2, 12)12 - AIC:14.0\n",
      "ARIMA(2, 0, 1)x(0, 0, 0, 12)12 - AIC:665.7944839756194\n"
     ]
    },
    {
     "name": "stderr",
     "output_type": "stream",
     "text": [
      "C:\\Users\\Bushra Ansari\\anaconda3\\lib\\site-packages\\statsmodels\\base\\model.py:566: ConvergenceWarning: Maximum Likelihood optimization failed to converge. Check mle_retvals\n",
      "  warnings.warn(\"Maximum Likelihood optimization failed to \"\n"
     ]
    },
    {
     "name": "stdout",
     "output_type": "stream",
     "text": [
      "ARIMA(2, 0, 1)x(0, 0, 1, 12)12 - AIC:2422.6352988853014\n"
     ]
    },
    {
     "name": "stderr",
     "output_type": "stream",
     "text": [
      "C:\\Users\\Bushra Ansari\\anaconda3\\lib\\site-packages\\statsmodels\\base\\model.py:566: ConvergenceWarning: Maximum Likelihood optimization failed to converge. Check mle_retvals\n",
      "  warnings.warn(\"Maximum Likelihood optimization failed to \"\n"
     ]
    },
    {
     "name": "stdout",
     "output_type": "stream",
     "text": [
      "ARIMA(2, 0, 1)x(0, 0, 2, 12)12 - AIC:312.7435321431298\n",
      "ARIMA(2, 0, 1)x(0, 1, 0, 12)12 - AIC:469.8069210954454\n",
      "ARIMA(2, 0, 1)x(0, 1, 1, 12)12 - AIC:295.31054163462653\n"
     ]
    },
    {
     "name": "stderr",
     "output_type": "stream",
     "text": [
      "C:\\Users\\Bushra Ansari\\anaconda3\\lib\\site-packages\\statsmodels\\base\\model.py:566: ConvergenceWarning: Maximum Likelihood optimization failed to converge. Check mle_retvals\n",
      "  warnings.warn(\"Maximum Likelihood optimization failed to \"\n"
     ]
    },
    {
     "name": "stdout",
     "output_type": "stream",
     "text": [
      "ARIMA(2, 0, 1)x(0, 1, 2, 12)12 - AIC:133.76789268047645\n",
      "ARIMA(2, 0, 1)x(0, 2, 0, 12)12 - AIC:326.6148901285315\n",
      "ARIMA(2, 0, 1)x(0, 2, 1, 12)12 - AIC:136.41927809982562\n",
      "ARIMA(2, 0, 1)x(0, 2, 2, 12)12 - AIC:12.0\n",
      "ARIMA(2, 0, 1)x(1, 0, 0, 12)12 - AIC:471.15581793164097\n"
     ]
    },
    {
     "name": "stderr",
     "output_type": "stream",
     "text": [
      "C:\\Users\\Bushra Ansari\\anaconda3\\lib\\site-packages\\statsmodels\\base\\model.py:566: ConvergenceWarning: Maximum Likelihood optimization failed to converge. Check mle_retvals\n",
      "  warnings.warn(\"Maximum Likelihood optimization failed to \"\n"
     ]
    },
    {
     "name": "stdout",
     "output_type": "stream",
     "text": [
      "ARIMA(2, 0, 1)x(1, 0, 1, 12)12 - AIC:2095.732829709774\n"
     ]
    },
    {
     "name": "stderr",
     "output_type": "stream",
     "text": [
      "C:\\Users\\Bushra Ansari\\anaconda3\\lib\\site-packages\\statsmodels\\base\\model.py:566: ConvergenceWarning: Maximum Likelihood optimization failed to converge. Check mle_retvals\n",
      "  warnings.warn(\"Maximum Likelihood optimization failed to \"\n"
     ]
    },
    {
     "name": "stdout",
     "output_type": "stream",
     "text": [
      "ARIMA(2, 0, 1)x(1, 0, 2, 12)12 - AIC:301.76183212682514\n",
      "ARIMA(2, 0, 1)x(1, 1, 0, 12)12 - AIC:294.1493643320073\n"
     ]
    },
    {
     "name": "stderr",
     "output_type": "stream",
     "text": [
      "C:\\Users\\Bushra Ansari\\anaconda3\\lib\\site-packages\\statsmodels\\base\\model.py:566: ConvergenceWarning: Maximum Likelihood optimization failed to converge. Check mle_retvals\n",
      "  warnings.warn(\"Maximum Likelihood optimization failed to \"\n"
     ]
    },
    {
     "name": "stdout",
     "output_type": "stream",
     "text": [
      "ARIMA(2, 0, 1)x(1, 1, 1, 12)12 - AIC:292.8820896938415\n"
     ]
    },
    {
     "name": "stderr",
     "output_type": "stream",
     "text": [
      "C:\\Users\\Bushra Ansari\\anaconda3\\lib\\site-packages\\statsmodels\\base\\model.py:566: ConvergenceWarning: Maximum Likelihood optimization failed to converge. Check mle_retvals\n",
      "  warnings.warn(\"Maximum Likelihood optimization failed to \"\n"
     ]
    },
    {
     "name": "stdout",
     "output_type": "stream",
     "text": [
      "ARIMA(2, 0, 1)x(1, 1, 2, 12)12 - AIC:137.00627323030233\n",
      "ARIMA(2, 0, 1)x(1, 2, 0, 12)12 - AIC:136.47829623064757\n"
     ]
    },
    {
     "name": "stderr",
     "output_type": "stream",
     "text": [
      "C:\\Users\\Bushra Ansari\\anaconda3\\lib\\site-packages\\statsmodels\\base\\model.py:566: ConvergenceWarning: Maximum Likelihood optimization failed to converge. Check mle_retvals\n",
      "  warnings.warn(\"Maximum Likelihood optimization failed to \"\n"
     ]
    },
    {
     "name": "stdout",
     "output_type": "stream",
     "text": [
      "ARIMA(2, 0, 1)x(1, 2, 1, 12)12 - AIC:142.62356340959474\n",
      "ARIMA(2, 0, 1)x(1, 2, 2, 12)12 - AIC:14.0\n",
      "ARIMA(2, 0, 1)x(2, 0, 0, 12)12 - AIC:295.9333701064104\n"
     ]
    },
    {
     "name": "stderr",
     "output_type": "stream",
     "text": [
      "C:\\Users\\Bushra Ansari\\anaconda3\\lib\\site-packages\\statsmodels\\base\\model.py:566: ConvergenceWarning: Maximum Likelihood optimization failed to converge. Check mle_retvals\n",
      "  warnings.warn(\"Maximum Likelihood optimization failed to \"\n"
     ]
    },
    {
     "name": "stdout",
     "output_type": "stream",
     "text": [
      "ARIMA(2, 0, 1)x(2, 0, 1, 12)12 - AIC:690.4424037590726\n"
     ]
    },
    {
     "name": "stderr",
     "output_type": "stream",
     "text": [
      "C:\\Users\\Bushra Ansari\\anaconda3\\lib\\site-packages\\statsmodels\\base\\model.py:566: ConvergenceWarning: Maximum Likelihood optimization failed to converge. Check mle_retvals\n",
      "  warnings.warn(\"Maximum Likelihood optimization failed to \"\n"
     ]
    },
    {
     "name": "stdout",
     "output_type": "stream",
     "text": [
      "ARIMA(2, 0, 1)x(2, 0, 2, 12)12 - AIC:299.95669092522127\n"
     ]
    },
    {
     "name": "stderr",
     "output_type": "stream",
     "text": [
      "C:\\Users\\Bushra Ansari\\anaconda3\\lib\\site-packages\\statsmodels\\base\\model.py:566: ConvergenceWarning: Maximum Likelihood optimization failed to converge. Check mle_retvals\n",
      "  warnings.warn(\"Maximum Likelihood optimization failed to \"\n"
     ]
    },
    {
     "name": "stdout",
     "output_type": "stream",
     "text": [
      "ARIMA(2, 0, 1)x(2, 1, 0, 12)12 - AIC:133.59272996266023\n"
     ]
    },
    {
     "name": "stderr",
     "output_type": "stream",
     "text": [
      "C:\\Users\\Bushra Ansari\\anaconda3\\lib\\site-packages\\statsmodels\\base\\model.py:566: ConvergenceWarning: Maximum Likelihood optimization failed to converge. Check mle_retvals\n",
      "  warnings.warn(\"Maximum Likelihood optimization failed to \"\n"
     ]
    },
    {
     "name": "stdout",
     "output_type": "stream",
     "text": [
      "ARIMA(2, 0, 1)x(2, 1, 1, 12)12 - AIC:140.15543688047\n"
     ]
    },
    {
     "name": "stderr",
     "output_type": "stream",
     "text": [
      "C:\\Users\\Bushra Ansari\\anaconda3\\lib\\site-packages\\statsmodels\\base\\model.py:566: ConvergenceWarning: Maximum Likelihood optimization failed to converge. Check mle_retvals\n",
      "  warnings.warn(\"Maximum Likelihood optimization failed to \"\n"
     ]
    },
    {
     "name": "stdout",
     "output_type": "stream",
     "text": [
      "ARIMA(2, 0, 1)x(2, 1, 2, 12)12 - AIC:144.10015448105173\n",
      "ARIMA(2, 0, 1)x(2, 2, 0, 12)12 - AIC:12.0\n",
      "ARIMA(2, 0, 1)x(2, 2, 1, 12)12 - AIC:14.0\n",
      "ARIMA(2, 0, 1)x(2, 2, 2, 12)12 - AIC:16.0\n",
      "ARIMA(2, 0, 2)x(0, 0, 0, 12)12 - AIC:653.6818630914654\n",
      "ARIMA(2, 0, 2)x(0, 0, 1, 12)12 - AIC:2352.882403139406\n"
     ]
    },
    {
     "name": "stderr",
     "output_type": "stream",
     "text": [
      "C:\\Users\\Bushra Ansari\\anaconda3\\lib\\site-packages\\statsmodels\\base\\model.py:566: ConvergenceWarning: Maximum Likelihood optimization failed to converge. Check mle_retvals\n",
      "  warnings.warn(\"Maximum Likelihood optimization failed to \"\n",
      "C:\\Users\\Bushra Ansari\\anaconda3\\lib\\site-packages\\statsmodels\\base\\model.py:566: ConvergenceWarning: Maximum Likelihood optimization failed to converge. Check mle_retvals\n",
      "  warnings.warn(\"Maximum Likelihood optimization failed to \"\n"
     ]
    },
    {
     "name": "stdout",
     "output_type": "stream",
     "text": [
      "ARIMA(2, 0, 2)x(0, 0, 2, 12)12 - AIC:296.4983008461848\n"
     ]
    },
    {
     "name": "stderr",
     "output_type": "stream",
     "text": [
      "C:\\Users\\Bushra Ansari\\anaconda3\\lib\\site-packages\\statsmodels\\base\\model.py:566: ConvergenceWarning: Maximum Likelihood optimization failed to converge. Check mle_retvals\n",
      "  warnings.warn(\"Maximum Likelihood optimization failed to \"\n"
     ]
    },
    {
     "name": "stdout",
     "output_type": "stream",
     "text": [
      "ARIMA(2, 0, 2)x(0, 1, 0, 12)12 - AIC:453.64031570093783\n"
     ]
    },
    {
     "name": "stderr",
     "output_type": "stream",
     "text": [
      "C:\\Users\\Bushra Ansari\\anaconda3\\lib\\site-packages\\statsmodels\\base\\model.py:566: ConvergenceWarning: Maximum Likelihood optimization failed to converge. Check mle_retvals\n",
      "  warnings.warn(\"Maximum Likelihood optimization failed to \"\n"
     ]
    },
    {
     "name": "stdout",
     "output_type": "stream",
     "text": [
      "ARIMA(2, 0, 2)x(0, 1, 1, 12)12 - AIC:276.3382324925825\n"
     ]
    },
    {
     "name": "stderr",
     "output_type": "stream",
     "text": [
      "C:\\Users\\Bushra Ansari\\anaconda3\\lib\\site-packages\\statsmodels\\base\\model.py:566: ConvergenceWarning: Maximum Likelihood optimization failed to converge. Check mle_retvals\n",
      "  warnings.warn(\"Maximum Likelihood optimization failed to \"\n"
     ]
    },
    {
     "name": "stdout",
     "output_type": "stream",
     "text": [
      "ARIMA(2, 0, 2)x(0, 1, 2, 12)12 - AIC:122.4595847619986\n",
      "ARIMA(2, 0, 2)x(0, 2, 0, 12)12 - AIC:314.45821367123284\n"
     ]
    },
    {
     "name": "stderr",
     "output_type": "stream",
     "text": [
      "C:\\Users\\Bushra Ansari\\anaconda3\\lib\\site-packages\\statsmodels\\base\\model.py:566: ConvergenceWarning: Maximum Likelihood optimization failed to converge. Check mle_retvals\n",
      "  warnings.warn(\"Maximum Likelihood optimization failed to \"\n"
     ]
    },
    {
     "name": "stdout",
     "output_type": "stream",
     "text": [
      "ARIMA(2, 0, 2)x(0, 2, 1, 12)12 - AIC:125.38219435892817\n",
      "ARIMA(2, 0, 2)x(0, 2, 2, 12)12 - AIC:14.0\n",
      "ARIMA(2, 0, 2)x(1, 0, 0, 12)12 - AIC:471.84787708638123\n"
     ]
    },
    {
     "name": "stderr",
     "output_type": "stream",
     "text": [
      "C:\\Users\\Bushra Ansari\\anaconda3\\lib\\site-packages\\statsmodels\\base\\model.py:566: ConvergenceWarning: Maximum Likelihood optimization failed to converge. Check mle_retvals\n",
      "  warnings.warn(\"Maximum Likelihood optimization failed to \"\n"
     ]
    },
    {
     "name": "stdout",
     "output_type": "stream",
     "text": [
      "ARIMA(2, 0, 2)x(1, 0, 1, 12)12 - AIC:1772.4040563098538\n"
     ]
    },
    {
     "name": "stderr",
     "output_type": "stream",
     "text": [
      "C:\\Users\\Bushra Ansari\\anaconda3\\lib\\site-packages\\statsmodels\\base\\model.py:566: ConvergenceWarning: Maximum Likelihood optimization failed to converge. Check mle_retvals\n",
      "  warnings.warn(\"Maximum Likelihood optimization failed to \"\n"
     ]
    },
    {
     "name": "stdout",
     "output_type": "stream",
     "text": [
      "ARIMA(2, 0, 2)x(1, 0, 2, 12)12 - AIC:292.9689488183577\n"
     ]
    },
    {
     "name": "stderr",
     "output_type": "stream",
     "text": [
      "C:\\Users\\Bushra Ansari\\anaconda3\\lib\\site-packages\\statsmodels\\base\\model.py:566: ConvergenceWarning: Maximum Likelihood optimization failed to converge. Check mle_retvals\n",
      "  warnings.warn(\"Maximum Likelihood optimization failed to \"\n"
     ]
    },
    {
     "name": "stdout",
     "output_type": "stream",
     "text": [
      "ARIMA(2, 0, 2)x(1, 1, 0, 12)12 - AIC:288.56154663505913\n"
     ]
    },
    {
     "name": "stderr",
     "output_type": "stream",
     "text": [
      "C:\\Users\\Bushra Ansari\\anaconda3\\lib\\site-packages\\statsmodels\\base\\model.py:566: ConvergenceWarning: Maximum Likelihood optimization failed to converge. Check mle_retvals\n",
      "  warnings.warn(\"Maximum Likelihood optimization failed to \"\n"
     ]
    },
    {
     "name": "stdout",
     "output_type": "stream",
     "text": [
      "ARIMA(2, 0, 2)x(1, 1, 1, 12)12 - AIC:280.18486511014066\n"
     ]
    },
    {
     "name": "stderr",
     "output_type": "stream",
     "text": [
      "C:\\Users\\Bushra Ansari\\anaconda3\\lib\\site-packages\\statsmodels\\base\\model.py:566: ConvergenceWarning: Maximum Likelihood optimization failed to converge. Check mle_retvals\n",
      "  warnings.warn(\"Maximum Likelihood optimization failed to \"\n"
     ]
    },
    {
     "name": "stdout",
     "output_type": "stream",
     "text": [
      "ARIMA(2, 0, 2)x(1, 1, 2, 12)12 - AIC:126.90414166262187\n",
      "ARIMA(2, 0, 2)x(1, 2, 0, 12)12 - AIC:135.25203411519868\n"
     ]
    },
    {
     "name": "stderr",
     "output_type": "stream",
     "text": [
      "C:\\Users\\Bushra Ansari\\anaconda3\\lib\\site-packages\\statsmodels\\base\\model.py:566: ConvergenceWarning: Maximum Likelihood optimization failed to converge. Check mle_retvals\n",
      "  warnings.warn(\"Maximum Likelihood optimization failed to \"\n"
     ]
    },
    {
     "name": "stdout",
     "output_type": "stream",
     "text": [
      "ARIMA(2, 0, 2)x(1, 2, 1, 12)12 - AIC:126.06942872722558\n",
      "ARIMA(2, 0, 2)x(1, 2, 2, 12)12 - AIC:16.0\n"
     ]
    },
    {
     "name": "stderr",
     "output_type": "stream",
     "text": [
      "C:\\Users\\Bushra Ansari\\anaconda3\\lib\\site-packages\\statsmodels\\base\\model.py:566: ConvergenceWarning: Maximum Likelihood optimization failed to converge. Check mle_retvals\n",
      "  warnings.warn(\"Maximum Likelihood optimization failed to \"\n"
     ]
    },
    {
     "name": "stdout",
     "output_type": "stream",
     "text": [
      "ARIMA(2, 0, 2)x(2, 0, 0, 12)12 - AIC:292.2915106024848\n"
     ]
    },
    {
     "name": "stderr",
     "output_type": "stream",
     "text": [
      "C:\\Users\\Bushra Ansari\\anaconda3\\lib\\site-packages\\statsmodels\\base\\model.py:566: ConvergenceWarning: Maximum Likelihood optimization failed to converge. Check mle_retvals\n",
      "  warnings.warn(\"Maximum Likelihood optimization failed to \"\n"
     ]
    },
    {
     "name": "stdout",
     "output_type": "stream",
     "text": [
      "ARIMA(2, 0, 2)x(2, 0, 1, 12)12 - AIC:806.9495349546406\n"
     ]
    },
    {
     "name": "stderr",
     "output_type": "stream",
     "text": [
      "C:\\Users\\Bushra Ansari\\anaconda3\\lib\\site-packages\\statsmodels\\base\\model.py:566: ConvergenceWarning: Maximum Likelihood optimization failed to converge. Check mle_retvals\n",
      "  warnings.warn(\"Maximum Likelihood optimization failed to \"\n"
     ]
    },
    {
     "name": "stdout",
     "output_type": "stream",
     "text": [
      "ARIMA(2, 0, 2)x(2, 0, 2, 12)12 - AIC:290.3322068127567\n"
     ]
    },
    {
     "name": "stderr",
     "output_type": "stream",
     "text": [
      "C:\\Users\\Bushra Ansari\\anaconda3\\lib\\site-packages\\statsmodels\\base\\model.py:566: ConvergenceWarning: Maximum Likelihood optimization failed to converge. Check mle_retvals\n",
      "  warnings.warn(\"Maximum Likelihood optimization failed to \"\n"
     ]
    },
    {
     "name": "stdout",
     "output_type": "stream",
     "text": [
      "ARIMA(2, 0, 2)x(2, 1, 0, 12)12 - AIC:133.45967024512046\n"
     ]
    },
    {
     "name": "stderr",
     "output_type": "stream",
     "text": [
      "C:\\Users\\Bushra Ansari\\anaconda3\\lib\\site-packages\\statsmodels\\base\\model.py:566: ConvergenceWarning: Maximum Likelihood optimization failed to converge. Check mle_retvals\n",
      "  warnings.warn(\"Maximum Likelihood optimization failed to \"\n"
     ]
    },
    {
     "name": "stdout",
     "output_type": "stream",
     "text": [
      "ARIMA(2, 0, 2)x(2, 1, 1, 12)12 - AIC:134.80827277530977\n"
     ]
    },
    {
     "name": "stderr",
     "output_type": "stream",
     "text": [
      "C:\\Users\\Bushra Ansari\\anaconda3\\lib\\site-packages\\statsmodels\\base\\model.py:566: ConvergenceWarning: Maximum Likelihood optimization failed to converge. Check mle_retvals\n",
      "  warnings.warn(\"Maximum Likelihood optimization failed to \"\n"
     ]
    },
    {
     "name": "stdout",
     "output_type": "stream",
     "text": [
      "ARIMA(2, 0, 2)x(2, 1, 2, 12)12 - AIC:127.54046391583849\n",
      "ARIMA(2, 0, 2)x(2, 2, 0, 12)12 - AIC:14.0\n",
      "ARIMA(2, 0, 2)x(2, 2, 1, 12)12 - AIC:16.0\n",
      "ARIMA(2, 0, 2)x(2, 2, 2, 12)12 - AIC:18.0\n",
      "ARIMA(2, 1, 0)x(0, 0, 0, 12)12 - AIC:651.8913365664915\n"
     ]
    },
    {
     "name": "stderr",
     "output_type": "stream",
     "text": [
      "C:\\Users\\Bushra Ansari\\anaconda3\\lib\\site-packages\\statsmodels\\base\\model.py:566: ConvergenceWarning: Maximum Likelihood optimization failed to converge. Check mle_retvals\n",
      "  warnings.warn(\"Maximum Likelihood optimization failed to \"\n"
     ]
    },
    {
     "name": "stdout",
     "output_type": "stream",
     "text": [
      "ARIMA(2, 1, 0)x(0, 0, 1, 12)12 - AIC:1385.7441390144297\n",
      "ARIMA(2, 1, 0)x(0, 0, 2, 12)12 - AIC:309.75357364468647\n",
      "ARIMA(2, 1, 0)x(0, 1, 0, 12)12 - AIC:464.89194824201576\n",
      "ARIMA(2, 1, 0)x(0, 1, 1, 12)12 - AIC:300.27072677062546\n",
      "ARIMA(2, 1, 0)x(0, 1, 2, 12)12 - AIC:140.40064933253822\n",
      "ARIMA(2, 1, 0)x(0, 2, 0, 12)12 - AIC:318.6712257569023\n",
      "ARIMA(2, 1, 0)x(0, 2, 1, 12)12 - AIC:142.91921627436597\n",
      "ARIMA(2, 1, 0)x(0, 2, 2, 12)12 - AIC:10.0\n",
      "ARIMA(2, 1, 0)x(1, 0, 0, 12)12 - AIC:461.97779691394624\n"
     ]
    },
    {
     "name": "stderr",
     "output_type": "stream",
     "text": [
      "C:\\Users\\Bushra Ansari\\anaconda3\\lib\\site-packages\\statsmodels\\base\\model.py:566: ConvergenceWarning: Maximum Likelihood optimization failed to converge. Check mle_retvals\n",
      "  warnings.warn(\"Maximum Likelihood optimization failed to \"\n"
     ]
    },
    {
     "name": "stdout",
     "output_type": "stream",
     "text": [
      "ARIMA(2, 1, 0)x(1, 0, 1, 12)12 - AIC:991.120851550729\n",
      "ARIMA(2, 1, 0)x(1, 0, 2, 12)12 - AIC:305.5688551731612\n",
      "ARIMA(2, 1, 0)x(1, 1, 0, 12)12 - AIC:288.3935650417792\n",
      "ARIMA(2, 1, 0)x(1, 1, 1, 12)12 - AIC:289.32382951400075\n"
     ]
    },
    {
     "name": "stderr",
     "output_type": "stream",
     "text": [
      "C:\\Users\\Bushra Ansari\\anaconda3\\lib\\site-packages\\statsmodels\\base\\model.py:566: ConvergenceWarning: Maximum Likelihood optimization failed to converge. Check mle_retvals\n",
      "  warnings.warn(\"Maximum Likelihood optimization failed to \"\n"
     ]
    },
    {
     "name": "stdout",
     "output_type": "stream",
     "text": [
      "ARIMA(2, 1, 0)x(1, 1, 2, 12)12 - AIC:142.36871754853354\n",
      "ARIMA(2, 1, 0)x(1, 2, 0, 12)12 - AIC:127.60471418792642\n"
     ]
    },
    {
     "name": "stderr",
     "output_type": "stream",
     "text": [
      "C:\\Users\\Bushra Ansari\\anaconda3\\lib\\site-packages\\statsmodels\\base\\model.py:566: ConvergenceWarning: Maximum Likelihood optimization failed to converge. Check mle_retvals\n",
      "  warnings.warn(\"Maximum Likelihood optimization failed to \"\n"
     ]
    },
    {
     "name": "stdout",
     "output_type": "stream",
     "text": [
      "ARIMA(2, 1, 0)x(1, 2, 1, 12)12 - AIC:129.25274840240394\n",
      "ARIMA(2, 1, 0)x(1, 2, 2, 12)12 - AIC:12.0\n",
      "ARIMA(2, 1, 0)x(2, 0, 0, 12)12 - AIC:288.759869837132\n"
     ]
    },
    {
     "name": "stderr",
     "output_type": "stream",
     "text": [
      "C:\\Users\\Bushra Ansari\\anaconda3\\lib\\site-packages\\statsmodels\\base\\model.py:566: ConvergenceWarning: Maximum Likelihood optimization failed to converge. Check mle_retvals\n",
      "  warnings.warn(\"Maximum Likelihood optimization failed to \"\n"
     ]
    },
    {
     "name": "stdout",
     "output_type": "stream",
     "text": [
      "ARIMA(2, 1, 0)x(2, 0, 1, 12)12 - AIC:814.4408140960622\n"
     ]
    },
    {
     "name": "stderr",
     "output_type": "stream",
     "text": [
      "C:\\Users\\Bushra Ansari\\anaconda3\\lib\\site-packages\\statsmodels\\base\\model.py:566: ConvergenceWarning: Maximum Likelihood optimization failed to converge. Check mle_retvals\n",
      "  warnings.warn(\"Maximum Likelihood optimization failed to \"\n"
     ]
    },
    {
     "name": "stdout",
     "output_type": "stream",
     "text": [
      "ARIMA(2, 1, 0)x(2, 0, 2, 12)12 - AIC:292.09976956225523\n",
      "ARIMA(2, 1, 0)x(2, 1, 0, 12)12 - AIC:126.8691050070545\n",
      "ARIMA(2, 1, 0)x(2, 1, 1, 12)12 - AIC:128.32471504128964\n",
      "ARIMA(2, 1, 0)x(2, 1, 2, 12)12 - AIC:130.1752199110007\n",
      "ARIMA(2, 1, 0)x(2, 2, 0, 12)12 - AIC:10.0\n",
      "ARIMA(2, 1, 0)x(2, 2, 1, 12)12 - AIC:12.0\n",
      "ARIMA(2, 1, 0)x(2, 2, 2, 12)12 - AIC:14.0\n",
      "ARIMA(2, 1, 1)x(0, 0, 0, 12)12 - AIC:653.7027592627578\n"
     ]
    },
    {
     "name": "stderr",
     "output_type": "stream",
     "text": [
      "C:\\Users\\Bushra Ansari\\anaconda3\\lib\\site-packages\\statsmodels\\base\\model.py:566: ConvergenceWarning: Maximum Likelihood optimization failed to converge. Check mle_retvals\n",
      "  warnings.warn(\"Maximum Likelihood optimization failed to \"\n"
     ]
    },
    {
     "name": "stdout",
     "output_type": "stream",
     "text": [
      "ARIMA(2, 1, 1)x(0, 0, 1, 12)12 - AIC:2548.8850559020234\n",
      "ARIMA(2, 1, 1)x(0, 0, 2, 12)12 - AIC:299.20765200729505\n",
      "ARIMA(2, 1, 1)x(0, 1, 0, 12)12 - AIC:461.57371821054335\n",
      "ARIMA(2, 1, 1)x(0, 1, 1, 12)12 - AIC:283.26647176282484\n",
      "ARIMA(2, 1, 1)x(0, 1, 2, 12)12 - AIC:126.19789518420893\n",
      "ARIMA(2, 1, 1)x(0, 2, 0, 12)12 - AIC:319.47517657370423\n",
      "ARIMA(2, 1, 1)x(0, 2, 1, 12)12 - AIC:124.42338571101651\n",
      "ARIMA(2, 1, 1)x(0, 2, 2, 12)12 - AIC:12.0\n",
      "ARIMA(2, 1, 1)x(1, 0, 0, 12)12 - AIC:457.9119800485955\n"
     ]
    },
    {
     "name": "stderr",
     "output_type": "stream",
     "text": [
      "C:\\Users\\Bushra Ansari\\anaconda3\\lib\\site-packages\\statsmodels\\base\\model.py:566: ConvergenceWarning: Maximum Likelihood optimization failed to converge. Check mle_retvals\n",
      "  warnings.warn(\"Maximum Likelihood optimization failed to \"\n"
     ]
    },
    {
     "name": "stdout",
     "output_type": "stream",
     "text": [
      "ARIMA(2, 1, 1)x(1, 0, 1, 12)12 - AIC:1978.5220803072082\n"
     ]
    },
    {
     "name": "stderr",
     "output_type": "stream",
     "text": [
      "C:\\Users\\Bushra Ansari\\anaconda3\\lib\\site-packages\\statsmodels\\base\\model.py:566: ConvergenceWarning: Maximum Likelihood optimization failed to converge. Check mle_retvals\n",
      "  warnings.warn(\"Maximum Likelihood optimization failed to \"\n"
     ]
    },
    {
     "name": "stdout",
     "output_type": "stream",
     "text": [
      "ARIMA(2, 1, 1)x(1, 0, 2, 12)12 - AIC:291.23847247832884\n",
      "ARIMA(2, 1, 1)x(1, 1, 0, 12)12 - AIC:287.8557403107638\n",
      "ARIMA(2, 1, 1)x(1, 1, 1, 12)12 - AIC:285.2604010915382\n"
     ]
    },
    {
     "name": "stderr",
     "output_type": "stream",
     "text": [
      "C:\\Users\\Bushra Ansari\\anaconda3\\lib\\site-packages\\statsmodels\\base\\model.py:566: ConvergenceWarning: Maximum Likelihood optimization failed to converge. Check mle_retvals\n",
      "  warnings.warn(\"Maximum Likelihood optimization failed to \"\n"
     ]
    },
    {
     "name": "stdout",
     "output_type": "stream",
     "text": [
      "ARIMA(2, 1, 1)x(1, 1, 2, 12)12 - AIC:128.33445294253633\n"
     ]
    },
    {
     "name": "stderr",
     "output_type": "stream",
     "text": [
      "C:\\Users\\Bushra Ansari\\anaconda3\\lib\\site-packages\\statsmodels\\base\\model.py:566: ConvergenceWarning: Maximum Likelihood optimization failed to converge. Check mle_retvals\n",
      "  warnings.warn(\"Maximum Likelihood optimization failed to \"\n"
     ]
    },
    {
     "name": "stdout",
     "output_type": "stream",
     "text": [
      "ARIMA(2, 1, 1)x(1, 2, 0, 12)12 - AIC:124.67848246488258\n"
     ]
    },
    {
     "name": "stderr",
     "output_type": "stream",
     "text": [
      "C:\\Users\\Bushra Ansari\\anaconda3\\lib\\site-packages\\statsmodels\\base\\model.py:566: ConvergenceWarning: Maximum Likelihood optimization failed to converge. Check mle_retvals\n",
      "  warnings.warn(\"Maximum Likelihood optimization failed to \"\n"
     ]
    },
    {
     "name": "stdout",
     "output_type": "stream",
     "text": [
      "ARIMA(2, 1, 1)x(1, 2, 1, 12)12 - AIC:125.85110369929482\n",
      "ARIMA(2, 1, 1)x(1, 2, 2, 12)12 - AIC:14.0\n",
      "ARIMA(2, 1, 1)x(2, 0, 0, 12)12 - AIC:287.84509317704567\n"
     ]
    },
    {
     "name": "stderr",
     "output_type": "stream",
     "text": [
      "C:\\Users\\Bushra Ansari\\anaconda3\\lib\\site-packages\\statsmodels\\base\\model.py:566: ConvergenceWarning: Maximum Likelihood optimization failed to converge. Check mle_retvals\n",
      "  warnings.warn(\"Maximum Likelihood optimization failed to \"\n"
     ]
    },
    {
     "name": "stdout",
     "output_type": "stream",
     "text": [
      "ARIMA(2, 1, 1)x(2, 0, 1, 12)12 - AIC:888.2309746090901\n",
      "ARIMA(2, 1, 1)x(2, 0, 2, 12)12 - AIC:294.0826289614667\n",
      "ARIMA(2, 1, 1)x(2, 1, 0, 12)12 - AIC:126.32876516339601\n"
     ]
    },
    {
     "name": "stderr",
     "output_type": "stream",
     "text": [
      "C:\\Users\\Bushra Ansari\\anaconda3\\lib\\site-packages\\statsmodels\\base\\model.py:566: ConvergenceWarning: Maximum Likelihood optimization failed to converge. Check mle_retvals\n",
      "  warnings.warn(\"Maximum Likelihood optimization failed to \"\n"
     ]
    },
    {
     "name": "stdout",
     "output_type": "stream",
     "text": [
      "ARIMA(2, 1, 1)x(2, 1, 1, 12)12 - AIC:128.11506298505702\n"
     ]
    },
    {
     "name": "stderr",
     "output_type": "stream",
     "text": [
      "C:\\Users\\Bushra Ansari\\anaconda3\\lib\\site-packages\\statsmodels\\base\\model.py:566: ConvergenceWarning: Maximum Likelihood optimization failed to converge. Check mle_retvals\n",
      "  warnings.warn(\"Maximum Likelihood optimization failed to \"\n"
     ]
    },
    {
     "name": "stdout",
     "output_type": "stream",
     "text": [
      "ARIMA(2, 1, 1)x(2, 1, 2, 12)12 - AIC:130.39075687487878\n",
      "ARIMA(2, 1, 1)x(2, 2, 0, 12)12 - AIC:12.0\n",
      "ARIMA(2, 1, 1)x(2, 2, 1, 12)12 - AIC:14.0\n",
      "ARIMA(2, 1, 1)x(2, 2, 2, 12)12 - AIC:16.0\n",
      "ARIMA(2, 1, 2)x(0, 0, 0, 12)12 - AIC:642.1210464616584\n"
     ]
    },
    {
     "name": "stderr",
     "output_type": "stream",
     "text": [
      "C:\\Users\\Bushra Ansari\\anaconda3\\lib\\site-packages\\statsmodels\\base\\model.py:566: ConvergenceWarning: Maximum Likelihood optimization failed to converge. Check mle_retvals\n",
      "  warnings.warn(\"Maximum Likelihood optimization failed to \"\n"
     ]
    },
    {
     "name": "stdout",
     "output_type": "stream",
     "text": [
      "ARIMA(2, 1, 2)x(0, 0, 1, 12)12 - AIC:1657.8793703130677\n",
      "ARIMA(2, 1, 2)x(0, 0, 2, 12)12 - AIC:282.87665525811303\n",
      "ARIMA(2, 1, 2)x(0, 1, 0, 12)12 - AIC:450.0711888874829\n"
     ]
    },
    {
     "name": "stderr",
     "output_type": "stream",
     "text": [
      "C:\\Users\\Bushra Ansari\\anaconda3\\lib\\site-packages\\statsmodels\\base\\model.py:566: ConvergenceWarning: Maximum Likelihood optimization failed to converge. Check mle_retvals\n",
      "  warnings.warn(\"Maximum Likelihood optimization failed to \"\n"
     ]
    },
    {
     "name": "stdout",
     "output_type": "stream",
     "text": [
      "ARIMA(2, 1, 2)x(0, 1, 1, 12)12 - AIC:269.7615604876196\n",
      "ARIMA(2, 1, 2)x(0, 1, 2, 12)12 - AIC:112.63703425476113\n",
      "ARIMA(2, 1, 2)x(0, 2, 0, 12)12 - AIC:305.94451673248744\n"
     ]
    },
    {
     "name": "stderr",
     "output_type": "stream",
     "text": [
      "C:\\Users\\Bushra Ansari\\anaconda3\\lib\\site-packages\\statsmodels\\base\\model.py:566: ConvergenceWarning: Maximum Likelihood optimization failed to converge. Check mle_retvals\n",
      "  warnings.warn(\"Maximum Likelihood optimization failed to \"\n"
     ]
    },
    {
     "name": "stdout",
     "output_type": "stream",
     "text": [
      "ARIMA(2, 1, 2)x(0, 2, 1, 12)12 - AIC:106.13161189192587\n",
      "ARIMA(2, 1, 2)x(0, 2, 2, 12)12 - AIC:14.0\n",
      "ARIMA(2, 1, 2)x(1, 0, 0, 12)12 - AIC:459.0451074094175\n"
     ]
    },
    {
     "name": "stderr",
     "output_type": "stream",
     "text": [
      "C:\\Users\\Bushra Ansari\\anaconda3\\lib\\site-packages\\statsmodels\\base\\model.py:566: ConvergenceWarning: Maximum Likelihood optimization failed to converge. Check mle_retvals\n",
      "  warnings.warn(\"Maximum Likelihood optimization failed to \"\n"
     ]
    },
    {
     "name": "stdout",
     "output_type": "stream",
     "text": [
      "ARIMA(2, 1, 2)x(1, 0, 1, 12)12 - AIC:2496.4362001443415\n"
     ]
    },
    {
     "name": "stderr",
     "output_type": "stream",
     "text": [
      "C:\\Users\\Bushra Ansari\\anaconda3\\lib\\site-packages\\statsmodels\\base\\model.py:566: ConvergenceWarning: Maximum Likelihood optimization failed to converge. Check mle_retvals\n",
      "  warnings.warn(\"Maximum Likelihood optimization failed to \"\n"
     ]
    },
    {
     "name": "stdout",
     "output_type": "stream",
     "text": [
      "ARIMA(2, 1, 2)x(1, 0, 2, 12)12 - AIC:278.60465598517493\n"
     ]
    },
    {
     "name": "stderr",
     "output_type": "stream",
     "text": [
      "C:\\Users\\Bushra Ansari\\anaconda3\\lib\\site-packages\\statsmodels\\base\\model.py:566: ConvergenceWarning: Maximum Likelihood optimization failed to converge. Check mle_retvals\n",
      "  warnings.warn(\"Maximum Likelihood optimization failed to \"\n"
     ]
    },
    {
     "name": "stdout",
     "output_type": "stream",
     "text": [
      "ARIMA(2, 1, 2)x(1, 1, 0, 12)12 - AIC:287.5622596045214\n",
      "ARIMA(2, 1, 2)x(1, 1, 1, 12)12 - AIC:275.0028456537291\n"
     ]
    },
    {
     "name": "stderr",
     "output_type": "stream",
     "text": [
      "C:\\Users\\Bushra Ansari\\anaconda3\\lib\\site-packages\\statsmodels\\base\\model.py:566: ConvergenceWarning: Maximum Likelihood optimization failed to converge. Check mle_retvals\n",
      "  warnings.warn(\"Maximum Likelihood optimization failed to \"\n"
     ]
    },
    {
     "name": "stdout",
     "output_type": "stream",
     "text": [
      "ARIMA(2, 1, 2)x(1, 1, 2, 12)12 - AIC:112.9081646495485\n"
     ]
    },
    {
     "name": "stderr",
     "output_type": "stream",
     "text": [
      "C:\\Users\\Bushra Ansari\\anaconda3\\lib\\site-packages\\statsmodels\\base\\model.py:566: ConvergenceWarning: Maximum Likelihood optimization failed to converge. Check mle_retvals\n",
      "  warnings.warn(\"Maximum Likelihood optimization failed to \"\n"
     ]
    },
    {
     "name": "stdout",
     "output_type": "stream",
     "text": [
      "ARIMA(2, 1, 2)x(1, 2, 0, 12)12 - AIC:127.33996556930671\n"
     ]
    },
    {
     "name": "stderr",
     "output_type": "stream",
     "text": [
      "C:\\Users\\Bushra Ansari\\anaconda3\\lib\\site-packages\\statsmodels\\base\\model.py:566: ConvergenceWarning: Maximum Likelihood optimization failed to converge. Check mle_retvals\n",
      "  warnings.warn(\"Maximum Likelihood optimization failed to \"\n"
     ]
    },
    {
     "name": "stdout",
     "output_type": "stream",
     "text": [
      "ARIMA(2, 1, 2)x(1, 2, 1, 12)12 - AIC:120.3558013709521\n",
      "ARIMA(2, 1, 2)x(1, 2, 2, 12)12 - AIC:16.0\n",
      "ARIMA(2, 1, 2)x(2, 0, 0, 12)12 - AIC:288.5720385704319\n"
     ]
    },
    {
     "name": "stderr",
     "output_type": "stream",
     "text": [
      "C:\\Users\\Bushra Ansari\\anaconda3\\lib\\site-packages\\statsmodels\\base\\model.py:566: ConvergenceWarning: Maximum Likelihood optimization failed to converge. Check mle_retvals\n",
      "  warnings.warn(\"Maximum Likelihood optimization failed to \"\n"
     ]
    },
    {
     "name": "stdout",
     "output_type": "stream",
     "text": [
      "ARIMA(2, 1, 2)x(2, 0, 1, 12)12 - AIC:836.9046473649208\n"
     ]
    },
    {
     "name": "stderr",
     "output_type": "stream",
     "text": [
      "C:\\Users\\Bushra Ansari\\anaconda3\\lib\\site-packages\\statsmodels\\base\\model.py:566: ConvergenceWarning: Maximum Likelihood optimization failed to converge. Check mle_retvals\n",
      "  warnings.warn(\"Maximum Likelihood optimization failed to \"\n"
     ]
    },
    {
     "name": "stdout",
     "output_type": "stream",
     "text": [
      "ARIMA(2, 1, 2)x(2, 0, 2, 12)12 - AIC:280.4695920849184\n"
     ]
    },
    {
     "name": "stderr",
     "output_type": "stream",
     "text": [
      "C:\\Users\\Bushra Ansari\\anaconda3\\lib\\site-packages\\statsmodels\\base\\model.py:566: ConvergenceWarning: Maximum Likelihood optimization failed to converge. Check mle_retvals\n",
      "  warnings.warn(\"Maximum Likelihood optimization failed to \"\n"
     ]
    },
    {
     "name": "stdout",
     "output_type": "stream",
     "text": [
      "ARIMA(2, 1, 2)x(2, 1, 0, 12)12 - AIC:127.9117365475292\n"
     ]
    },
    {
     "name": "stderr",
     "output_type": "stream",
     "text": [
      "C:\\Users\\Bushra Ansari\\anaconda3\\lib\\site-packages\\statsmodels\\base\\model.py:566: ConvergenceWarning: Maximum Likelihood optimization failed to converge. Check mle_retvals\n",
      "  warnings.warn(\"Maximum Likelihood optimization failed to \"\n"
     ]
    },
    {
     "name": "stdout",
     "output_type": "stream",
     "text": [
      "ARIMA(2, 1, 2)x(2, 1, 1, 12)12 - AIC:133.41567301632463\n"
     ]
    },
    {
     "name": "stderr",
     "output_type": "stream",
     "text": [
      "C:\\Users\\Bushra Ansari\\anaconda3\\lib\\site-packages\\statsmodels\\base\\model.py:566: ConvergenceWarning: Maximum Likelihood optimization failed to converge. Check mle_retvals\n",
      "  warnings.warn(\"Maximum Likelihood optimization failed to \"\n"
     ]
    },
    {
     "name": "stdout",
     "output_type": "stream",
     "text": [
      "ARIMA(2, 1, 2)x(2, 1, 2, 12)12 - AIC:115.95592773161286\n",
      "ARIMA(2, 1, 2)x(2, 2, 0, 12)12 - AIC:14.0\n",
      "ARIMA(2, 1, 2)x(2, 2, 1, 12)12 - AIC:16.0\n",
      "ARIMA(2, 1, 2)x(2, 2, 2, 12)12 - AIC:18.0\n",
      "ARIMA(2, 2, 0)x(0, 0, 0, 12)12 - AIC:656.929182124119\n"
     ]
    },
    {
     "name": "stderr",
     "output_type": "stream",
     "text": [
      "C:\\Users\\Bushra Ansari\\anaconda3\\lib\\site-packages\\statsmodels\\base\\model.py:566: ConvergenceWarning: Maximum Likelihood optimization failed to converge. Check mle_retvals\n",
      "  warnings.warn(\"Maximum Likelihood optimization failed to \"\n"
     ]
    },
    {
     "name": "stdout",
     "output_type": "stream",
     "text": [
      "ARIMA(2, 2, 0)x(0, 0, 1, 12)12 - AIC:1352.1788715166097\n",
      "ARIMA(2, 2, 0)x(0, 0, 2, 12)12 - AIC:303.76095384822503\n",
      "ARIMA(2, 2, 0)x(0, 1, 0, 12)12 - AIC:467.74561119176593\n",
      "ARIMA(2, 2, 0)x(0, 1, 1, 12)12 - AIC:296.6216264788032\n",
      "ARIMA(2, 2, 0)x(0, 1, 2, 12)12 - AIC:131.131093327716\n",
      "ARIMA(2, 2, 0)x(0, 2, 0, 12)12 - AIC:311.69952051933996\n",
      "ARIMA(2, 2, 0)x(0, 2, 1, 12)12 - AIC:130.61436689460834\n",
      "ARIMA(2, 2, 0)x(0, 2, 2, 12)12 - AIC:10.0\n",
      "ARIMA(2, 2, 0)x(1, 0, 0, 12)12 - AIC:464.7608850390007\n",
      "ARIMA(2, 2, 0)x(1, 0, 1, 12)12 - AIC:1341.4163973844609\n"
     ]
    },
    {
     "name": "stderr",
     "output_type": "stream",
     "text": [
      "C:\\Users\\Bushra Ansari\\anaconda3\\lib\\site-packages\\statsmodels\\base\\model.py:566: ConvergenceWarning: Maximum Likelihood optimization failed to converge. Check mle_retvals\n",
      "  warnings.warn(\"Maximum Likelihood optimization failed to \"\n"
     ]
    },
    {
     "name": "stdout",
     "output_type": "stream",
     "text": [
      "ARIMA(2, 2, 0)x(1, 0, 2, 12)12 - AIC:301.21964304970464\n",
      "ARIMA(2, 2, 0)x(1, 1, 0, 12)12 - AIC:286.0955354148089\n",
      "ARIMA(2, 2, 0)x(1, 1, 1, 12)12 - AIC:285.3279206191251\n",
      "ARIMA(2, 2, 0)x(1, 1, 2, 12)12 - AIC:133.1793427461771\n",
      "ARIMA(2, 2, 0)x(1, 2, 0, 12)12 - AIC:117.90430574037242\n"
     ]
    },
    {
     "name": "stderr",
     "output_type": "stream",
     "text": [
      "C:\\Users\\Bushra Ansari\\anaconda3\\lib\\site-packages\\statsmodels\\base\\model.py:566: ConvergenceWarning: Maximum Likelihood optimization failed to converge. Check mle_retvals\n",
      "  warnings.warn(\"Maximum Likelihood optimization failed to \"\n"
     ]
    },
    {
     "name": "stdout",
     "output_type": "stream",
     "text": [
      "ARIMA(2, 2, 0)x(1, 2, 1, 12)12 - AIC:118.99302082874159\n",
      "ARIMA(2, 2, 0)x(1, 2, 2, 12)12 - AIC:12.0\n",
      "ARIMA(2, 2, 0)x(2, 0, 0, 12)12 - AIC:283.15554858394097\n"
     ]
    },
    {
     "name": "stderr",
     "output_type": "stream",
     "text": [
      "C:\\Users\\Bushra Ansari\\anaconda3\\lib\\site-packages\\statsmodels\\base\\model.py:566: ConvergenceWarning: Maximum Likelihood optimization failed to converge. Check mle_retvals\n",
      "  warnings.warn(\"Maximum Likelihood optimization failed to \"\n"
     ]
    },
    {
     "name": "stdout",
     "output_type": "stream",
     "text": [
      "ARIMA(2, 2, 0)x(2, 0, 1, 12)12 - AIC:827.3235695606428\n",
      "ARIMA(2, 2, 0)x(2, 0, 2, 12)12 - AIC:286.8315672704731\n",
      "ARIMA(2, 2, 0)x(2, 1, 0, 12)12 - AIC:117.49144309451503\n",
      "ARIMA(2, 2, 0)x(2, 1, 1, 12)12 - AIC:118.96814924502648\n",
      "ARIMA(2, 2, 0)x(2, 1, 2, 12)12 - AIC:120.29539957509775\n",
      "ARIMA(2, 2, 0)x(2, 2, 0, 12)12 - AIC:10.0\n",
      "ARIMA(2, 2, 0)x(2, 2, 1, 12)12 - AIC:12.0\n",
      "ARIMA(2, 2, 0)x(2, 2, 2, 12)12 - AIC:14.0\n",
      "ARIMA(2, 2, 1)x(0, 0, 0, 12)12 - AIC:643.7507440372161\n",
      "ARIMA(2, 2, 1)x(0, 0, 1, 12)12 - AIC:938.4773672181863\n"
     ]
    },
    {
     "name": "stderr",
     "output_type": "stream",
     "text": [
      "C:\\Users\\Bushra Ansari\\anaconda3\\lib\\site-packages\\statsmodels\\base\\model.py:566: ConvergenceWarning: Maximum Likelihood optimization failed to converge. Check mle_retvals\n",
      "  warnings.warn(\"Maximum Likelihood optimization failed to \"\n"
     ]
    },
    {
     "name": "stdout",
     "output_type": "stream",
     "text": [
      "ARIMA(2, 2, 1)x(0, 0, 2, 12)12 - AIC:286.0771901519212\n",
      "ARIMA(2, 2, 1)x(0, 1, 0, 12)12 - AIC:457.7096702182585\n",
      "ARIMA(2, 2, 1)x(0, 1, 1, 12)12 - AIC:278.9052116511873\n",
      "ARIMA(2, 2, 1)x(0, 1, 2, 12)12 - AIC:115.89357127292119\n",
      "ARIMA(2, 2, 1)x(0, 2, 0, 12)12 - AIC:309.38538551821745\n",
      "ARIMA(2, 2, 1)x(0, 2, 1, 12)12 - AIC:118.6816456797022\n",
      "ARIMA(2, 2, 1)x(0, 2, 2, 12)12 - AIC:12.0\n",
      "ARIMA(2, 2, 1)x(1, 0, 0, 12)12 - AIC:455.0965992766254\n"
     ]
    },
    {
     "name": "stderr",
     "output_type": "stream",
     "text": [
      "C:\\Users\\Bushra Ansari\\anaconda3\\lib\\site-packages\\statsmodels\\base\\model.py:566: ConvergenceWarning: Maximum Likelihood optimization failed to converge. Check mle_retvals\n",
      "  warnings.warn(\"Maximum Likelihood optimization failed to \"\n"
     ]
    },
    {
     "name": "stdout",
     "output_type": "stream",
     "text": [
      "ARIMA(2, 2, 1)x(1, 0, 1, 12)12 - AIC:869.6286394204394\n"
     ]
    },
    {
     "name": "stderr",
     "output_type": "stream",
     "text": [
      "C:\\Users\\Bushra Ansari\\anaconda3\\lib\\site-packages\\statsmodels\\base\\model.py:566: ConvergenceWarning: Maximum Likelihood optimization failed to converge. Check mle_retvals\n",
      "  warnings.warn(\"Maximum Likelihood optimization failed to \"\n"
     ]
    },
    {
     "name": "stdout",
     "output_type": "stream",
     "text": [
      "ARIMA(2, 2, 1)x(1, 0, 2, 12)12 - AIC:283.5169008565155\n",
      "ARIMA(2, 2, 1)x(1, 1, 0, 12)12 - AIC:279.4519907926499\n",
      "ARIMA(2, 2, 1)x(1, 1, 1, 12)12 - AIC:280.8718624811278\n"
     ]
    },
    {
     "name": "stderr",
     "output_type": "stream",
     "text": [
      "C:\\Users\\Bushra Ansari\\anaconda3\\lib\\site-packages\\statsmodels\\base\\model.py:566: ConvergenceWarning: Maximum Likelihood optimization failed to converge. Check mle_retvals\n",
      "  warnings.warn(\"Maximum Likelihood optimization failed to \"\n"
     ]
    },
    {
     "name": "stdout",
     "output_type": "stream",
     "text": [
      "ARIMA(2, 2, 1)x(1, 1, 2, 12)12 - AIC:117.81302182915437\n",
      "ARIMA(2, 2, 1)x(1, 2, 0, 12)12 - AIC:117.3599606631947\n"
     ]
    },
    {
     "name": "stderr",
     "output_type": "stream",
     "text": [
      "C:\\Users\\Bushra Ansari\\anaconda3\\lib\\site-packages\\statsmodels\\base\\model.py:566: ConvergenceWarning: Maximum Likelihood optimization failed to converge. Check mle_retvals\n",
      "  warnings.warn(\"Maximum Likelihood optimization failed to \"\n"
     ]
    },
    {
     "name": "stdout",
     "output_type": "stream",
     "text": [
      "ARIMA(2, 2, 1)x(1, 2, 1, 12)12 - AIC:122.55206006405065\n",
      "ARIMA(2, 2, 1)x(1, 2, 2, 12)12 - AIC:14.0\n",
      "ARIMA(2, 2, 1)x(2, 0, 0, 12)12 - AIC:279.4551139175853\n"
     ]
    },
    {
     "name": "stderr",
     "output_type": "stream",
     "text": [
      "C:\\Users\\Bushra Ansari\\anaconda3\\lib\\site-packages\\statsmodels\\base\\model.py:566: ConvergenceWarning: Maximum Likelihood optimization failed to converge. Check mle_retvals\n",
      "  warnings.warn(\"Maximum Likelihood optimization failed to \"\n"
     ]
    },
    {
     "name": "stdout",
     "output_type": "stream",
     "text": [
      "ARIMA(2, 2, 1)x(2, 0, 1, 12)12 - AIC:677.2114440352989\n"
     ]
    },
    {
     "name": "stderr",
     "output_type": "stream",
     "text": [
      "C:\\Users\\Bushra Ansari\\anaconda3\\lib\\site-packages\\statsmodels\\base\\model.py:566: ConvergenceWarning: Maximum Likelihood optimization failed to converge. Check mle_retvals\n",
      "  warnings.warn(\"Maximum Likelihood optimization failed to \"\n"
     ]
    },
    {
     "name": "stdout",
     "output_type": "stream",
     "text": [
      "ARIMA(2, 2, 1)x(2, 0, 2, 12)12 - AIC:282.81258837565446\n"
     ]
    },
    {
     "name": "stderr",
     "output_type": "stream",
     "text": [
      "C:\\Users\\Bushra Ansari\\anaconda3\\lib\\site-packages\\statsmodels\\base\\model.py:566: ConvergenceWarning: Maximum Likelihood optimization failed to converge. Check mle_retvals\n",
      "  warnings.warn(\"Maximum Likelihood optimization failed to \"\n"
     ]
    },
    {
     "name": "stdout",
     "output_type": "stream",
     "text": [
      "ARIMA(2, 2, 1)x(2, 1, 0, 12)12 - AIC:116.2659746443615\n"
     ]
    },
    {
     "name": "stderr",
     "output_type": "stream",
     "text": [
      "C:\\Users\\Bushra Ansari\\anaconda3\\lib\\site-packages\\statsmodels\\base\\model.py:566: ConvergenceWarning: Maximum Likelihood optimization failed to converge. Check mle_retvals\n",
      "  warnings.warn(\"Maximum Likelihood optimization failed to \"\n"
     ]
    },
    {
     "name": "stdout",
     "output_type": "stream",
     "text": [
      "ARIMA(2, 2, 1)x(2, 1, 1, 12)12 - AIC:118.18255776189744\n"
     ]
    },
    {
     "name": "stderr",
     "output_type": "stream",
     "text": [
      "C:\\Users\\Bushra Ansari\\anaconda3\\lib\\site-packages\\statsmodels\\base\\model.py:566: ConvergenceWarning: Maximum Likelihood optimization failed to converge. Check mle_retvals\n",
      "  warnings.warn(\"Maximum Likelihood optimization failed to \"\n"
     ]
    },
    {
     "name": "stdout",
     "output_type": "stream",
     "text": [
      "ARIMA(2, 2, 1)x(2, 1, 2, 12)12 - AIC:119.86294372726363\n",
      "ARIMA(2, 2, 1)x(2, 2, 0, 12)12 - AIC:12.0\n",
      "ARIMA(2, 2, 1)x(2, 2, 1, 12)12 - AIC:14.0\n",
      "ARIMA(2, 2, 1)x(2, 2, 2, 12)12 - AIC:16.0\n",
      "ARIMA(2, 2, 2)x(0, 0, 0, 12)12 - AIC:631.2678875790313\n"
     ]
    },
    {
     "name": "stderr",
     "output_type": "stream",
     "text": [
      "C:\\Users\\Bushra Ansari\\anaconda3\\lib\\site-packages\\statsmodels\\base\\model.py:566: ConvergenceWarning: Maximum Likelihood optimization failed to converge. Check mle_retvals\n",
      "  warnings.warn(\"Maximum Likelihood optimization failed to \"\n"
     ]
    },
    {
     "name": "stdout",
     "output_type": "stream",
     "text": [
      "ARIMA(2, 2, 2)x(0, 0, 1, 12)12 - AIC:716.6387377805187\n"
     ]
    },
    {
     "name": "stderr",
     "output_type": "stream",
     "text": [
      "C:\\Users\\Bushra Ansari\\anaconda3\\lib\\site-packages\\statsmodels\\base\\model.py:566: ConvergenceWarning: Maximum Likelihood optimization failed to converge. Check mle_retvals\n",
      "  warnings.warn(\"Maximum Likelihood optimization failed to \"\n"
     ]
    },
    {
     "name": "stdout",
     "output_type": "stream",
     "text": [
      "ARIMA(2, 2, 2)x(0, 0, 2, 12)12 - AIC:273.3183942317153\n",
      "ARIMA(2, 2, 2)x(0, 1, 0, 12)12 - AIC:445.24599241225997\n"
     ]
    },
    {
     "name": "stderr",
     "output_type": "stream",
     "text": [
      "C:\\Users\\Bushra Ansari\\anaconda3\\lib\\site-packages\\statsmodels\\base\\model.py:566: ConvergenceWarning: Maximum Likelihood optimization failed to converge. Check mle_retvals\n",
      "  warnings.warn(\"Maximum Likelihood optimization failed to \"\n"
     ]
    },
    {
     "name": "stdout",
     "output_type": "stream",
     "text": [
      "ARIMA(2, 2, 2)x(0, 1, 1, 12)12 - AIC:264.3515246083608\n"
     ]
    },
    {
     "name": "stderr",
     "output_type": "stream",
     "text": [
      "C:\\Users\\Bushra Ansari\\anaconda3\\lib\\site-packages\\statsmodels\\base\\model.py:566: ConvergenceWarning: Maximum Likelihood optimization failed to converge. Check mle_retvals\n",
      "  warnings.warn(\"Maximum Likelihood optimization failed to \"\n"
     ]
    },
    {
     "name": "stdout",
     "output_type": "stream",
     "text": [
      "ARIMA(2, 2, 2)x(0, 1, 2, 12)12 - AIC:103.44933790576347\n",
      "ARIMA(2, 2, 2)x(0, 2, 0, 12)12 - AIC:296.46503563102317\n"
     ]
    },
    {
     "name": "stderr",
     "output_type": "stream",
     "text": [
      "C:\\Users\\Bushra Ansari\\anaconda3\\lib\\site-packages\\statsmodels\\base\\model.py:566: ConvergenceWarning: Maximum Likelihood optimization failed to converge. Check mle_retvals\n",
      "  warnings.warn(\"Maximum Likelihood optimization failed to \"\n"
     ]
    },
    {
     "name": "stdout",
     "output_type": "stream",
     "text": [
      "ARIMA(2, 2, 2)x(0, 2, 1, 12)12 - AIC:99.46259641037096\n",
      "ARIMA(2, 2, 2)x(0, 2, 2, 12)12 - AIC:14.0\n",
      "ARIMA(2, 2, 2)x(1, 0, 0, 12)12 - AIC:452.31401808412113\n"
     ]
    },
    {
     "name": "stderr",
     "output_type": "stream",
     "text": [
      "C:\\Users\\Bushra Ansari\\anaconda3\\lib\\site-packages\\statsmodels\\base\\model.py:566: ConvergenceWarning: Maximum Likelihood optimization failed to converge. Check mle_retvals\n",
      "  warnings.warn(\"Maximum Likelihood optimization failed to \"\n"
     ]
    },
    {
     "name": "stdout",
     "output_type": "stream",
     "text": [
      "ARIMA(2, 2, 2)x(1, 0, 1, 12)12 - AIC:1268.047043388323\n"
     ]
    },
    {
     "name": "stderr",
     "output_type": "stream",
     "text": [
      "C:\\Users\\Bushra Ansari\\anaconda3\\lib\\site-packages\\statsmodels\\base\\model.py:566: ConvergenceWarning: Maximum Likelihood optimization failed to converge. Check mle_retvals\n",
      "  warnings.warn(\"Maximum Likelihood optimization failed to \"\n"
     ]
    },
    {
     "name": "stdout",
     "output_type": "stream",
     "text": [
      "ARIMA(2, 2, 2)x(1, 0, 2, 12)12 - AIC:273.4390448794567\n"
     ]
    },
    {
     "name": "stderr",
     "output_type": "stream",
     "text": [
      "C:\\Users\\Bushra Ansari\\anaconda3\\lib\\site-packages\\statsmodels\\base\\model.py:566: ConvergenceWarning: Maximum Likelihood optimization failed to converge. Check mle_retvals\n",
      "  warnings.warn(\"Maximum Likelihood optimization failed to \"\n"
     ]
    },
    {
     "name": "stdout",
     "output_type": "stream",
     "text": [
      "ARIMA(2, 2, 2)x(1, 1, 0, 12)12 - AIC:281.4449947677225\n"
     ]
    },
    {
     "name": "stderr",
     "output_type": "stream",
     "text": [
      "C:\\Users\\Bushra Ansari\\anaconda3\\lib\\site-packages\\statsmodels\\base\\model.py:566: ConvergenceWarning: Maximum Likelihood optimization failed to converge. Check mle_retvals\n",
      "  warnings.warn(\"Maximum Likelihood optimization failed to \"\n"
     ]
    },
    {
     "name": "stdout",
     "output_type": "stream",
     "text": [
      "ARIMA(2, 2, 2)x(1, 1, 1, 12)12 - AIC:267.16907597444174\n"
     ]
    },
    {
     "name": "stderr",
     "output_type": "stream",
     "text": [
      "C:\\Users\\Bushra Ansari\\anaconda3\\lib\\site-packages\\statsmodels\\base\\model.py:566: ConvergenceWarning: Maximum Likelihood optimization failed to converge. Check mle_retvals\n",
      "  warnings.warn(\"Maximum Likelihood optimization failed to \"\n"
     ]
    },
    {
     "name": "stdout",
     "output_type": "stream",
     "text": [
      "ARIMA(2, 2, 2)x(1, 1, 2, 12)12 - AIC:104.97526362272887\n"
     ]
    },
    {
     "name": "stderr",
     "output_type": "stream",
     "text": [
      "C:\\Users\\Bushra Ansari\\anaconda3\\lib\\site-packages\\statsmodels\\base\\model.py:566: ConvergenceWarning: Maximum Likelihood optimization failed to converge. Check mle_retvals\n",
      "  warnings.warn(\"Maximum Likelihood optimization failed to \"\n"
     ]
    },
    {
     "name": "stdout",
     "output_type": "stream",
     "text": [
      "ARIMA(2, 2, 2)x(1, 2, 0, 12)12 - AIC:115.7951491460023\n"
     ]
    },
    {
     "name": "stderr",
     "output_type": "stream",
     "text": [
      "C:\\Users\\Bushra Ansari\\anaconda3\\lib\\site-packages\\statsmodels\\base\\model.py:566: ConvergenceWarning: Maximum Likelihood optimization failed to converge. Check mle_retvals\n",
      "  warnings.warn(\"Maximum Likelihood optimization failed to \"\n"
     ]
    },
    {
     "name": "stdout",
     "output_type": "stream",
     "text": [
      "ARIMA(2, 2, 2)x(1, 2, 1, 12)12 - AIC:109.14934112750106\n",
      "ARIMA(2, 2, 2)x(1, 2, 2, 12)12 - AIC:16.0\n",
      "ARIMA(2, 2, 2)x(2, 0, 0, 12)12 - AIC:281.3174676910957\n"
     ]
    },
    {
     "name": "stderr",
     "output_type": "stream",
     "text": [
      "C:\\Users\\Bushra Ansari\\anaconda3\\lib\\site-packages\\statsmodels\\base\\model.py:566: ConvergenceWarning: Maximum Likelihood optimization failed to converge. Check mle_retvals\n",
      "  warnings.warn(\"Maximum Likelihood optimization failed to \"\n"
     ]
    },
    {
     "name": "stdout",
     "output_type": "stream",
     "text": [
      "ARIMA(2, 2, 2)x(2, 0, 1, 12)12 - AIC:870.5297084627946\n"
     ]
    },
    {
     "name": "stderr",
     "output_type": "stream",
     "text": [
      "C:\\Users\\Bushra Ansari\\anaconda3\\lib\\site-packages\\statsmodels\\base\\model.py:566: ConvergenceWarning: Maximum Likelihood optimization failed to converge. Check mle_retvals\n",
      "  warnings.warn(\"Maximum Likelihood optimization failed to \"\n"
     ]
    },
    {
     "name": "stdout",
     "output_type": "stream",
     "text": [
      "ARIMA(2, 2, 2)x(2, 0, 2, 12)12 - AIC:273.49239446663086\n"
     ]
    },
    {
     "name": "stderr",
     "output_type": "stream",
     "text": [
      "C:\\Users\\Bushra Ansari\\anaconda3\\lib\\site-packages\\statsmodels\\base\\model.py:566: ConvergenceWarning: Maximum Likelihood optimization failed to converge. Check mle_retvals\n",
      "  warnings.warn(\"Maximum Likelihood optimization failed to \"\n"
     ]
    },
    {
     "name": "stdout",
     "output_type": "stream",
     "text": [
      "ARIMA(2, 2, 2)x(2, 1, 0, 12)12 - AIC:119.41112447967699\n"
     ]
    },
    {
     "name": "stderr",
     "output_type": "stream",
     "text": [
      "C:\\Users\\Bushra Ansari\\anaconda3\\lib\\site-packages\\statsmodels\\base\\model.py:566: ConvergenceWarning: Maximum Likelihood optimization failed to converge. Check mle_retvals\n",
      "  warnings.warn(\"Maximum Likelihood optimization failed to \"\n"
     ]
    },
    {
     "name": "stdout",
     "output_type": "stream",
     "text": [
      "ARIMA(2, 2, 2)x(2, 1, 1, 12)12 - AIC:120.64897154991911\n"
     ]
    },
    {
     "name": "stderr",
     "output_type": "stream",
     "text": [
      "C:\\Users\\Bushra Ansari\\anaconda3\\lib\\site-packages\\statsmodels\\base\\model.py:566: ConvergenceWarning: Maximum Likelihood optimization failed to converge. Check mle_retvals\n",
      "  warnings.warn(\"Maximum Likelihood optimization failed to \"\n"
     ]
    },
    {
     "name": "stdout",
     "output_type": "stream",
     "text": [
      "ARIMA(2, 2, 2)x(2, 1, 2, 12)12 - AIC:111.56166086732219\n",
      "ARIMA(2, 2, 2)x(2, 2, 0, 12)12 - AIC:14.0\n",
      "ARIMA(2, 2, 2)x(2, 2, 1, 12)12 - AIC:16.0\n",
      "ARIMA(2, 2, 2)x(2, 2, 2, 12)12 - AIC:18.0\n"
     ]
    }
   ],
   "source": [
    "from pylab import rcParams\n",
    "for param in pdq:\n",
    "    for param_seasonal in seasonal_pdq:\n",
    "        try:\n",
    "            mod = sm.tsa.statespace.SARIMAX(y, order=param,\n",
    "seasonal_order=param_seasonal,\n",
    "enforce_stationarity=False, \n",
    "enforce_invertibility=False)\n",
    "            results = mod.fit()\n",
    "            print('ARIMA{}x{}12 - AIC:{}'.format(param, param_seasonal, results.aic))\n",
    "        except:\n",
    "            continue"
   ]
  },
  {
   "cell_type": "markdown",
   "metadata": {
    "colab_type": "text",
    "id": "XiGtQfeB2fJg"
   },
   "source": [
    "<font color = red><font size = 4>Fitting the ARIMA model"
   ]
  },
  {
   "cell_type": "code",
   "execution_count": 50,
   "metadata": {
    "colab": {},
    "colab_type": "code",
    "id": "bU7QKiBr2fJh",
    "outputId": "5d9df1cf-cafa-4005-b817-c4da77e73e10"
   },
   "outputs": [
    {
     "name": "stdout",
     "output_type": "stream",
     "text": [
      "==============================================================================\n",
      "                 coef    std err          z      P>|z|      [0.025      0.975]\n",
      "------------------------------------------------------------------------------\n",
      "ar.L1         -0.6705      2.729     -0.246      0.806      -6.020       4.679\n",
      "ma.L1         -2.7080      0.223    -12.161      0.000      -3.144      -2.272\n",
      "ma.S.L12   -1.091e+14    5.4e-05  -2.02e+18      0.000   -1.09e+14   -1.09e+14\n",
      "sigma2      1.129e+05   3.83e+04      2.947      0.003    3.78e+04    1.88e+05\n",
      "==============================================================================\n"
     ]
    },
    {
     "name": "stderr",
     "output_type": "stream",
     "text": [
      "C:\\Users\\Bushra Ansari\\anaconda3\\lib\\site-packages\\statsmodels\\base\\model.py:566: ConvergenceWarning: Maximum Likelihood optimization failed to converge. Check mle_retvals\n",
      "  warnings.warn(\"Maximum Likelihood optimization failed to \"\n"
     ]
    }
   ],
   "source": [
    "mod = sm.tsa.statespace.SARIMAX(y,\n",
    "                                order=(1, 1, 1),\n",
    "                                seasonal_order=(0, 0, 1, 12),\n",
    "                                enforce_stationarity=False,\n",
    "                                enforce_invertibility=False)\n",
    "results = mod.fit()\n",
    "print(results.summary().tables[1])"
   ]
  },
  {
   "cell_type": "markdown",
   "metadata": {
    "colab_type": "text",
    "id": "-g6ny3ZU2fJq"
   },
   "source": [
    "<font color = red><font size = 4>Running model diagnostiscs to check any unusual behaviour"
   ]
  },
  {
   "cell_type": "code",
   "execution_count": 51,
   "metadata": {
    "colab": {},
    "colab_type": "code",
    "id": "H0NF5nNb2fJr",
    "outputId": "f42c1539-2eea-4b8e-df15-4a89d8172595"
   },
   "outputs": [
    {
     "data": {
      "image/png": "[encoded data removed]",
      "text/plain": [
       "<Figure size 1152x576 with 4 Axes>"
      ]
     },
     "metadata": {},
     "output_type": "display_data"
    }
   ],
   "source": [
    "results.plot_diagnostics(figsize=(16, 8))\n",
    "plt.show()"
   ]
  },
  {
   "cell_type": "markdown",
   "metadata": {
    "colab_type": "text",
    "id": "E4srBUL22fJy"
   },
   "source": [
    "Standardized Residual : The residuals scatters around a mean near zero, as they should, with no obvious trends or patterns indicating misspecification.\n",
    "\n",
    "Histogram plus estimated density: The data distribution is nearly normal.\n",
    "\n",
    "Normal Q-Q : The plots show sample quantiles versus theoretical quantiles. Those are the quantiles from the standard Normal distribution with mean 0 and standard deviation 1. The points seem to fall about a straight line. This graphs to help us assess if a set of data plausibly came from some theoretical distribution such as a Normal or exponential\n",
    "\n",
    "Correlogram : There is no evidence of autocorrelation outside of the Bartlett two-standard-error bands for white noise, given by the blue lines.\n",
    "\n",
    "The model diagnostics indicates that the model residuals are near normally distributed"
   ]
  },
  {
   "cell_type": "markdown",
   "metadata": {
    "colab_type": "text",
    "id": "uZHOU49M2fJz"
   },
   "source": [
    "<font color = red><font size = 4>Validating Forecasts</font></br>\n",
    "<font color = black><font size = 2>We compare predicted sales to real sales of the time series to understand the accuracy of our forecasts"
   ]
  },
  {
   "cell_type": "code",
   "execution_count": 52,
   "metadata": {
    "colab": {},
    "colab_type": "code",
    "id": "BNJDOVYz2fJ0",
    "outputId": "d1de817d-8fff-4be7-ce20-60fc0d351972"
   },
   "outputs": [
    {
     "data": {
      "image/png": "[encoded data removed]",
      "text/plain": [
       "<Figure size 1008x504 with 1 Axes>"
      ]
     },
     "metadata": {},
     "output_type": "display_data"
    }
   ],
   "source": [
    "#set forecasts to start at 2017–01–01 to the end of the data to forecast\n",
    "pred = results.get_prediction(start=pd.to_datetime('2017-01-01'), dynamic=False)\n",
    "pred_ci = pred.conf_int()\n",
    "ax = y['2014':].plot(label='observed')\n",
    "pred.predicted_mean.plot(ax=ax, label='One-step ahead Forecast', alpha=.7, figsize=(14, 7))\n",
    "ax.fill_between(pred_ci.index,\n",
    "                pred_ci.iloc[:, 0],\n",
    "                pred_ci.iloc[:, 1], color='k', alpha=.2)\n",
    "ax.set_xlabel('Date')\n",
    "ax.set_ylabel('Furniture Sales')\n",
    "plt.legend()\n",
    "plt.show()"
   ]
  },
  {
   "cell_type": "markdown",
   "metadata": {
    "colab_type": "text",
    "id": "CSGlENov2fJ8"
   },
   "source": [
    "The above plot indicates the observed value and the rolling forecast predications (A rolling forecast is an add/drop process for predicting the future over a set period of time). The predicated values align well with the true values."
   ]
  },
  {
   "cell_type": "markdown",
   "metadata": {
    "colab_type": "text",
    "id": "L7NfHGPj2fJ8"
   },
   "source": [
    "<font color = red><font size = 4>Calculating RMSE"
   ]
  },
  {
   "cell_type": "code",
   "execution_count": 53,
   "metadata": {
    "colab": {},
    "colab_type": "code",
    "id": "l_inrbyg2fKA",
    "outputId": "af7e7917-f49b-4f2f-95a8-bf86f6f52fa4"
   },
   "outputs": [
    {
     "name": "stdout",
     "output_type": "stream",
     "text": [
      "The Root Mean Squared Error of our forecasts is 337004896383.58\n"
     ]
    }
   ],
   "source": [
    "y_forecasted = pred.predicted_mean\n",
    "y_truth = y['2017-01-01':]\n",
    "mse = ((y_forecasted - y_truth) ** 2).mean()\n",
    "print('The Root Mean Squared Error of our forecasts is {}'.format(round(np.sqrt(mse), 2)))"
   ]
  },
  {
   "cell_type": "markdown",
   "metadata": {
    "colab_type": "text",
    "id": "p2NhU9-w2fKH"
   },
   "source": [
    "RMSE tells us that our model was able to forecast the average daily furniture sales in the test set within 151.64 of the real sales."
   ]
  },
  {
   "cell_type": "markdown",
   "metadata": {
    "colab_type": "text",
    "id": "PNmiYlCw2fKJ"
   },
   "source": [
    "<font color = red><font size = 4>Visualizing the Forecast "
   ]
  },
  {
   "cell_type": "code",
   "execution_count": 54,
   "metadata": {
    "colab": {},
    "colab_type": "code",
    "id": "GnWUtUv72fKL",
    "outputId": "6e0e17a3-3d8d-4639-a943-e6d44ddd729b"
   },
   "outputs": [
    {
     "name": "stdout",
     "output_type": "stream",
     "text": [
      "             lower Sales   upper Sales\n",
      "2018-01-01 -1.945637e+17  1.945637e+17\n",
      "2018-02-01 -1.947173e+17  1.947173e+17\n",
      "2018-03-01 -2.329662e+17  2.329662e+17\n",
      "2018-04-01 -2.358802e+17  2.358802e+17\n",
      "2018-05-01 -2.554023e+17  2.554023e+17\n",
      "2018-06-01 -2.616974e+17  2.616974e+17\n",
      "2018-07-01 -2.749898e+17  2.749898e+17\n",
      "2018-08-01 -2.828193e+17  2.828193e+17\n",
      "2018-09-01 -2.934865e+17  2.934865e+17\n",
      "2018-10-01 -3.017529e+17  3.017529e+17\n",
      "2018-11-01 -3.110996e+17  3.110996e+17\n",
      "2018-12-01 -3.193162e+17  3.193162e+17\n",
      "2019-01-01 -3.278829e+17  3.278829e+17\n"
     ]
    },
    {
     "data": {
      "image/png": "[encoded data removed]",
      "text/plain": [
       "<Figure size 1008x504 with 1 Axes>"
      ]
     },
     "metadata": {},
     "output_type": "display_data"
    }
   ],
   "source": [
    "pred_uc = results.get_forecast(steps=13)\n",
    "pred_ci = pred_uc.conf_int()\n",
    "ax = y.plot(label='observed', figsize=(14, 7))\n",
    "pred_uc.predicted_mean.plot(ax=ax, label='Forecast')\n",
    "ax.fill_between(pred_ci.index,\n",
    "                pred_ci.iloc[:, 0],\n",
    "                pred_ci.iloc[:, 1], color='k', alpha=.25)\n",
    "ax.set_xlabel('Date')\n",
    "ax.set_ylabel('Furniture Sales')\n",
    "print(pred_ci)\n",
    "plt.legend()\n",
    "plt.show()"
   ]
  },
  {
   "cell_type": "markdown",
   "metadata": {
    "colab_type": "text",
    "id": "QDvBlbrn2fKS"
   },
   "source": [
    "<font color = red><font size = 5>Conclusion"
   ]
  },
  {
   "cell_type": "markdown",
   "metadata": {
    "colab_type": "text",
    "id": "-KshHFDn2fKT"
   },
   "source": [
    "We observe that sales of furniture produces seasonal pattern. Early of the year is the off season for furniture sales in the superstore. The sales for furniture increases linearly over time in a year."
   ]
  }
 ],
 "metadata": {
  "colab": {
   "name": "Forecasting and Predicting the Furniture Sales of  .ipynb",
   "provenance": [],
   "version": "0.3.2"
  },
  "kernelspec": {
   "display_name": "Python 3 (ipykernel)",
   "language": "python",
   "name": "python3"
  },
  "language_info": {
   "codemirror_mode": {
    "name": "ipython",
    "version": 3
   },
   "file_extension": ".py",
   "mimetype": "text/x-python",
   "name": "python",
   "nbconvert_exporter": "python",
   "pygments_lexer": "ipython3",
   "version": "3.9.7"
  }
 },
 "nbformat": 4,
 "nbformat_minor": 1
}
